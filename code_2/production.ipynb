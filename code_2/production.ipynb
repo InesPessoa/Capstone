{
 "cells": [
  {
   "cell_type": "code",
   "execution_count": 1,
   "metadata": {},
   "outputs": [],
   "source": [
    "import pandas as pd\n",
    "import numpy as np\n",
    "from sklearn.metrics import classification_report, confusion_matrix\n",
    "import json\n",
    "import copy\n",
    "from matplotlib import pyplot as plt\n",
    "from sklearn.metrics import roc_curve\n",
    "from sklearn.metrics import roc_auc_score\n",
    "import seaborn as sn"
   ]
  },
  {
   "cell_type": "code",
   "execution_count": 2,
   "metadata": {},
   "outputs": [],
   "source": [
    "def clean_age(value):\n",
    "    if value < 18:\n",
    "        return \"Youth\"\n",
    "    elif value >= 18 and value <=35:\n",
    "        return \"Young Adult\"\n",
    "    elif value  >= 36 and value <=55:\n",
    "        return \"Adult\"\n",
    "    else:\n",
    "        return \"Senior\""
   ]
  },
  {
   "cell_type": "code",
   "execution_count": 3,
   "metadata": {},
   "outputs": [],
   "source": [
    "def map_prediction(value):\n",
    "    if value == 1:\n",
    "        return True\n",
    "    else:\n",
    "        return False"
   ]
  },
  {
   "cell_type": "code",
   "execution_count": 4,
   "metadata": {},
   "outputs": [],
   "source": [
    "def percentage_of_false_positives_pred(group, threshold=0):\n",
    "    false_positives = group[(group.prediction == True) & (group.ContrabandIndicator == False)].shape[0]\n",
    "    n_vehicle_searched = group[(group.prediction == True)].shape[0]\n",
    "    if n_vehicle_searched > threshold:\n",
    "        return 100*false_positives/n_vehicle_searched\n",
    "    else:\n",
    "        return None"
   ]
  },
  {
   "cell_type": "code",
   "execution_count": 5,
   "metadata": {},
   "outputs": [],
   "source": [
    "def percentage_of_true_positives_pred(group, threshold=0):\n",
    "    true_positives = group[(group.prediction == True) & (group.ContrabandIndicator == True)].shape[0]\n",
    "    n_vehicle_searched = group[(group.prediction == True)].shape[0]\n",
    "    if n_vehicle_searched > threshold:\n",
    "        return 100*true_positives/n_vehicle_searched\n",
    "    else:\n",
    "        return None"
   ]
  },
  {
   "cell_type": "code",
   "execution_count": 6,
   "metadata": {},
   "outputs": [],
   "source": [
    "def percentage_of_false_positives_vsi(group, threshold=0):\n",
    "    false_positives = group[(group.VehicleSearchedIndicator == True) & (group.ContrabandIndicator == False)].shape[0]\n",
    "    n_vehicle_searched = group[(group.VehicleSearchedIndicator == True)].shape[0]\n",
    "    if n_vehicle_searched > threshold:\n",
    "        return 100*false_positives/n_vehicle_searched\n",
    "    else:\n",
    "        return None"
   ]
  },
  {
   "cell_type": "code",
   "execution_count": 7,
   "metadata": {},
   "outputs": [],
   "source": [
    "def percentage_of_true_positives_vsi(group, threshold=0):\n",
    "    true_positives = group[(group.VehicleSearchedIndicator == True) & (group.ContrabandIndicator == True)].shape[0]\n",
    "    n_vehicle_searched = group[(group.VehicleSearchedIndicator == True)].shape[0]\n",
    "    if n_vehicle_searched > threshold:\n",
    "        return 100*true_positives/n_vehicle_searched\n",
    "    else:\n",
    "        return None"
   ]
  },
  {
   "cell_type": "code",
   "execution_count": 8,
   "metadata": {},
   "outputs": [],
   "source": [
    "def evaluate_bias(row):\n",
    "    row_ = copy.copy(row)\n",
    "    n_nulls = len(row[pd.isna(row)])\n",
    "    len_row = len(row)\n",
    "    n_not_nulls = len_row - n_nulls\n",
    "    row_ = row_.dropna()\n",
    "    if n_not_nulls > 1:\n",
    "        return max(row_) - min(row_)\n",
    "    else:\n",
    "        None  "
   ]
  },
  {
   "cell_type": "code",
   "execution_count": 9,
   "metadata": {},
   "outputs": [],
   "source": [
    "def diffs(row):\n",
    "    row_ = copy.copy(row)\n",
    "    n_nulls = len(row[pd.isna(row)])\n",
    "    len_row = len(row)\n",
    "    n_not_nulls = len_row - n_nulls\n",
    "    row_ = row_.dropna()\n",
    "    array = row_.values\n",
    "    if n_not_nulls > 1:\n",
    "        diff = []\n",
    "        for i in range(0, len(array)-1):\n",
    "            for j in range(i+1, len(array)):\n",
    "                diff.append(abs(array[i]-array[j]))\n",
    "        return diff\n",
    "    else:\n",
    "        return None  "
   ]
  },
  {
   "cell_type": "code",
   "execution_count": 10,
   "metadata": {},
   "outputs": [],
   "source": [
    "def evaluate_bias_by_group(df, group, threshold=100, prediction=False):\n",
    "    if prediction == False:\n",
    "        police_src = df.groupby(by=group).apply(lambda x: percentage_of_true_positives_vsi(x, threshold))\n",
    "    else:\n",
    "        police_src = df.groupby(by=group).apply(lambda x: percentage_of_true_positives_pred(x, threshold))\n",
    "    result = police_src.unstack(level=[1,2,3,4])\n",
    "    result[\"Max Diff\"] = result.apply(evaluate_bias, axis=1)\n",
    "    result = result.sort_values(by=\"Max Diff\", ascending=False)\n",
    "    result[\"Diff\"] = result.drop(columns=\"Max Diff\").apply(diffs, axis=1)\n",
    "    result = result[(pd.isna(result[\"Max Diff\"])!=True)]\n",
    "    return result"
   ]
  },
  {
   "cell_type": "code",
   "execution_count": 11,
   "metadata": {},
   "outputs": [],
   "source": [
    "def map_prediction(value):\n",
    "    if value == 1:\n",
    "        return True\n",
    "    else:\n",
    "        return False"
   ]
  },
  {
   "cell_type": "markdown",
   "metadata": {},
   "source": [
    "## Performance of model, trainned with all data, in production"
   ]
  },
  {
   "cell_type": "code",
   "execution_count": 12,
   "metadata": {},
   "outputs": [],
   "source": [
    "df = pd.read_csv(\"resources/predictions_production.csv\", index_col=0, names=[\"id\", \"obs\", \"prob\", \"true\", \"pred\"])"
   ]
  },
  {
   "cell_type": "code",
   "execution_count": 13,
   "metadata": {},
   "outputs": [
    {
     "data": {
      "text/html": [
       "<div>\n",
       "<style scoped>\n",
       "    .dataframe tbody tr th:only-of-type {\n",
       "        vertical-align: middle;\n",
       "    }\n",
       "\n",
       "    .dataframe tbody tr th {\n",
       "        vertical-align: top;\n",
       "    }\n",
       "\n",
       "    .dataframe thead th {\n",
       "        text-align: right;\n",
       "    }\n",
       "</style>\n",
       "<table border=\"1\" class=\"dataframe\">\n",
       "  <thead>\n",
       "    <tr style=\"text-align: right;\">\n",
       "      <th></th>\n",
       "      <th>id</th>\n",
       "      <th>obs</th>\n",
       "      <th>prob</th>\n",
       "      <th>true</th>\n",
       "      <th>pred</th>\n",
       "    </tr>\n",
       "  </thead>\n",
       "  <tbody>\n",
       "    <tr>\n",
       "      <td>7816</td>\n",
       "      <td>7376</td>\n",
       "      <td>{\"id\": 7376, \"observation\": {\"Department Name\"...</td>\n",
       "      <td>0.516830</td>\n",
       "      <td>NaN</td>\n",
       "      <td>1</td>\n",
       "    </tr>\n",
       "    <tr>\n",
       "      <td>442</td>\n",
       "      <td>1</td>\n",
       "      <td>{\"id\": 1, \"observation\": {\"Department Name\": \"...</td>\n",
       "      <td>0.514043</td>\n",
       "      <td>0.0</td>\n",
       "      <td>1</td>\n",
       "    </tr>\n",
       "    <tr>\n",
       "      <td>443</td>\n",
       "      <td>2</td>\n",
       "      <td>{\"id\": 2, \"observation\": {\"Department Name\": \"...</td>\n",
       "      <td>0.520429</td>\n",
       "      <td>1.0</td>\n",
       "      <td>1</td>\n",
       "    </tr>\n",
       "    <tr>\n",
       "      <td>444</td>\n",
       "      <td>3</td>\n",
       "      <td>{\"id\": 3, \"observation\": {\"Department Name\": \"...</td>\n",
       "      <td>0.520429</td>\n",
       "      <td>1.0</td>\n",
       "      <td>1</td>\n",
       "    </tr>\n",
       "    <tr>\n",
       "      <td>445</td>\n",
       "      <td>4</td>\n",
       "      <td>{\"id\": 4, \"observation\": {\"Department Name\": \"...</td>\n",
       "      <td>0.521419</td>\n",
       "      <td>0.0</td>\n",
       "      <td>1</td>\n",
       "    </tr>\n",
       "  </tbody>\n",
       "</table>\n",
       "</div>"
      ],
      "text/plain": [
       "        id                                                obs      prob  true  \\\n",
       "7816  7376  {\"id\": 7376, \"observation\": {\"Department Name\"...  0.516830   NaN   \n",
       "442      1  {\"id\": 1, \"observation\": {\"Department Name\": \"...  0.514043   0.0   \n",
       "443      2  {\"id\": 2, \"observation\": {\"Department Name\": \"...  0.520429   1.0   \n",
       "444      3  {\"id\": 3, \"observation\": {\"Department Name\": \"...  0.520429   1.0   \n",
       "445      4  {\"id\": 4, \"observation\": {\"Department Name\": \"...  0.521419   0.0   \n",
       "\n",
       "      pred  \n",
       "7816     1  \n",
       "442      1  \n",
       "443      1  \n",
       "444      1  \n",
       "445      1  "
      ]
     },
     "execution_count": 13,
     "metadata": {},
     "output_type": "execute_result"
    }
   ],
   "source": [
    "df.head()"
   ]
  },
  {
   "cell_type": "code",
   "execution_count": 14,
   "metadata": {},
   "outputs": [
    {
     "data": {
      "text/plain": [
       "(9999, 5)"
      ]
     },
     "execution_count": 14,
     "metadata": {},
     "output_type": "execute_result"
    }
   ],
   "source": [
    "df.shape"
   ]
  },
  {
   "cell_type": "code",
   "execution_count": 15,
   "metadata": {},
   "outputs": [
    {
     "data": {
      "text/plain": [
       "(4999, 5)"
      ]
     },
     "execution_count": 15,
     "metadata": {},
     "output_type": "execute_result"
    }
   ],
   "source": [
    "df_ = df.dropna()\n",
    "df_.shape"
   ]
  },
  {
   "cell_type": "code",
   "execution_count": 16,
   "metadata": {},
   "outputs": [],
   "source": [
    "obs = df_.obs.apply(lambda x: json.loads(x)[\"observation\"])"
   ]
  },
  {
   "cell_type": "code",
   "execution_count": 17,
   "metadata": {},
   "outputs": [
    {
     "data": {
      "text/html": [
       "<div>\n",
       "<style scoped>\n",
       "    .dataframe tbody tr th:only-of-type {\n",
       "        vertical-align: middle;\n",
       "    }\n",
       "\n",
       "    .dataframe tbody tr th {\n",
       "        vertical-align: top;\n",
       "    }\n",
       "\n",
       "    .dataframe thead th {\n",
       "        text-align: right;\n",
       "    }\n",
       "</style>\n",
       "<table border=\"1\" class=\"dataframe\">\n",
       "  <thead>\n",
       "    <tr style=\"text-align: right;\">\n",
       "      <th></th>\n",
       "      <th>Department Name</th>\n",
       "      <th>InterventionDateTime</th>\n",
       "      <th>InterventionLocationName</th>\n",
       "      <th>InterventionReasonCode</th>\n",
       "      <th>ReportingOfficerIdentificationID</th>\n",
       "      <th>ResidentIndicator</th>\n",
       "      <th>SearchAuthorizationCode</th>\n",
       "      <th>StatuteReason</th>\n",
       "      <th>SubjectAge</th>\n",
       "      <th>SubjectEthnicityCode</th>\n",
       "      <th>SubjectRaceCode</th>\n",
       "      <th>SubjectSexCode</th>\n",
       "      <th>TownResidentIndicator</th>\n",
       "    </tr>\n",
       "  </thead>\n",
       "  <tbody>\n",
       "    <tr>\n",
       "      <td>0</td>\n",
       "      <td>Vernon</td>\n",
       "      <td>05/16/2018 02:39:00 AM</td>\n",
       "      <td>VERNON</td>\n",
       "      <td>V</td>\n",
       "      <td>625</td>\n",
       "      <td>False</td>\n",
       "      <td>C</td>\n",
       "      <td>Registration</td>\n",
       "      <td>40.0</td>\n",
       "      <td>N</td>\n",
       "      <td>B</td>\n",
       "      <td>M</td>\n",
       "      <td>False</td>\n",
       "    </tr>\n",
       "    <tr>\n",
       "      <td>1</td>\n",
       "      <td>Milford</td>\n",
       "      <td>05/16/2018 04:08:00 AM</td>\n",
       "      <td>MILFORD</td>\n",
       "      <td>E</td>\n",
       "      <td>473</td>\n",
       "      <td>True</td>\n",
       "      <td>I</td>\n",
       "      <td>Other</td>\n",
       "      <td>49.0</td>\n",
       "      <td>N</td>\n",
       "      <td>B</td>\n",
       "      <td>F</td>\n",
       "      <td>False</td>\n",
       "    </tr>\n",
       "    <tr>\n",
       "      <td>2</td>\n",
       "      <td>Milford</td>\n",
       "      <td>05/16/2018 04:08:00 AM</td>\n",
       "      <td>MILFORD</td>\n",
       "      <td>E</td>\n",
       "      <td>473</td>\n",
       "      <td>True</td>\n",
       "      <td>I</td>\n",
       "      <td>Other</td>\n",
       "      <td>49.0</td>\n",
       "      <td>N</td>\n",
       "      <td>B</td>\n",
       "      <td>F</td>\n",
       "      <td>False</td>\n",
       "    </tr>\n",
       "    <tr>\n",
       "      <td>3</td>\n",
       "      <td>Norwalk</td>\n",
       "      <td>05/16/2018 09:38:00 AM</td>\n",
       "      <td>NORWALK</td>\n",
       "      <td>V</td>\n",
       "      <td>100000335</td>\n",
       "      <td>True</td>\n",
       "      <td>I</td>\n",
       "      <td>Defective Lights</td>\n",
       "      <td>35.0</td>\n",
       "      <td>N</td>\n",
       "      <td>W</td>\n",
       "      <td>M</td>\n",
       "      <td>True</td>\n",
       "    </tr>\n",
       "    <tr>\n",
       "      <td>4</td>\n",
       "      <td>Norwalk</td>\n",
       "      <td>05/16/2018 09:38:00 AM</td>\n",
       "      <td>NORWALK</td>\n",
       "      <td>V</td>\n",
       "      <td>100000335</td>\n",
       "      <td>True</td>\n",
       "      <td>I</td>\n",
       "      <td>Defective Lights</td>\n",
       "      <td>35.0</td>\n",
       "      <td>N</td>\n",
       "      <td>W</td>\n",
       "      <td>M</td>\n",
       "      <td>True</td>\n",
       "    </tr>\n",
       "    <tr>\n",
       "      <td>...</td>\n",
       "      <td>...</td>\n",
       "      <td>...</td>\n",
       "      <td>...</td>\n",
       "      <td>...</td>\n",
       "      <td>...</td>\n",
       "      <td>...</td>\n",
       "      <td>...</td>\n",
       "      <td>...</td>\n",
       "      <td>...</td>\n",
       "      <td>...</td>\n",
       "      <td>...</td>\n",
       "      <td>...</td>\n",
       "      <td>...</td>\n",
       "    </tr>\n",
       "    <tr>\n",
       "      <td>4994</td>\n",
       "      <td>Willimantic</td>\n",
       "      <td>07/12/2018 10:07:00 AM</td>\n",
       "      <td>WILLIMANTIC</td>\n",
       "      <td>E</td>\n",
       "      <td>398</td>\n",
       "      <td>True</td>\n",
       "      <td>C</td>\n",
       "      <td>Defective Lights</td>\n",
       "      <td>40.0</td>\n",
       "      <td>N</td>\n",
       "      <td>W</td>\n",
       "      <td>F</td>\n",
       "      <td>False</td>\n",
       "    </tr>\n",
       "    <tr>\n",
       "      <td>4995</td>\n",
       "      <td>Hartford</td>\n",
       "      <td>07/12/2018 02:50:00 PM</td>\n",
       "      <td>Hartford</td>\n",
       "      <td>V</td>\n",
       "      <td>3145</td>\n",
       "      <td>False</td>\n",
       "      <td>C</td>\n",
       "      <td>Moving Violation</td>\n",
       "      <td>40.0</td>\n",
       "      <td>N</td>\n",
       "      <td>B</td>\n",
       "      <td>M</td>\n",
       "      <td>True</td>\n",
       "    </tr>\n",
       "    <tr>\n",
       "      <td>4996</td>\n",
       "      <td>East Hartford</td>\n",
       "      <td>07/12/2018 04:49:00 PM</td>\n",
       "      <td>EAST HARTFORD</td>\n",
       "      <td>V</td>\n",
       "      <td>215</td>\n",
       "      <td>True</td>\n",
       "      <td>N</td>\n",
       "      <td>Other</td>\n",
       "      <td>43.0</td>\n",
       "      <td>N</td>\n",
       "      <td>W</td>\n",
       "      <td>M</td>\n",
       "      <td>True</td>\n",
       "    </tr>\n",
       "    <tr>\n",
       "      <td>4997</td>\n",
       "      <td>East Hartford</td>\n",
       "      <td>07/12/2018 05:37:00 PM</td>\n",
       "      <td>EAST HARTFORD</td>\n",
       "      <td>V</td>\n",
       "      <td>219</td>\n",
       "      <td>True</td>\n",
       "      <td>O</td>\n",
       "      <td>Administrative Offense</td>\n",
       "      <td>25.0</td>\n",
       "      <td>N</td>\n",
       "      <td>B</td>\n",
       "      <td>M</td>\n",
       "      <td>True</td>\n",
       "    </tr>\n",
       "    <tr>\n",
       "      <td>4998</td>\n",
       "      <td>East Hartford</td>\n",
       "      <td>07/12/2018 06:21:00 PM</td>\n",
       "      <td>EAST HARTFORD</td>\n",
       "      <td>V</td>\n",
       "      <td>224</td>\n",
       "      <td>True</td>\n",
       "      <td>C</td>\n",
       "      <td>Registration</td>\n",
       "      <td>45.0</td>\n",
       "      <td>H</td>\n",
       "      <td>W</td>\n",
       "      <td>M</td>\n",
       "      <td>False</td>\n",
       "    </tr>\n",
       "  </tbody>\n",
       "</table>\n",
       "<p>4999 rows × 13 columns</p>\n",
       "</div>"
      ],
      "text/plain": [
       "     Department Name    InterventionDateTime InterventionLocationName  \\\n",
       "0             Vernon  05/16/2018 02:39:00 AM                   VERNON   \n",
       "1            Milford  05/16/2018 04:08:00 AM                  MILFORD   \n",
       "2            Milford  05/16/2018 04:08:00 AM                  MILFORD   \n",
       "3            Norwalk  05/16/2018 09:38:00 AM                  NORWALK   \n",
       "4            Norwalk  05/16/2018 09:38:00 AM                  NORWALK   \n",
       "...              ...                     ...                      ...   \n",
       "4994     Willimantic  07/12/2018 10:07:00 AM              WILLIMANTIC   \n",
       "4995        Hartford  07/12/2018 02:50:00 PM                 Hartford   \n",
       "4996   East Hartford  07/12/2018 04:49:00 PM            EAST HARTFORD   \n",
       "4997   East Hartford  07/12/2018 05:37:00 PM            EAST HARTFORD   \n",
       "4998   East Hartford  07/12/2018 06:21:00 PM            EAST HARTFORD   \n",
       "\n",
       "     InterventionReasonCode ReportingOfficerIdentificationID  \\\n",
       "0                         V                              625   \n",
       "1                         E                              473   \n",
       "2                         E                              473   \n",
       "3                         V                        100000335   \n",
       "4                         V                        100000335   \n",
       "...                     ...                              ...   \n",
       "4994                      E                              398   \n",
       "4995                      V                             3145   \n",
       "4996                      V                              215   \n",
       "4997                      V                              219   \n",
       "4998                      V                              224   \n",
       "\n",
       "      ResidentIndicator SearchAuthorizationCode           StatuteReason  \\\n",
       "0                 False                       C            Registration   \n",
       "1                  True                       I                   Other   \n",
       "2                  True                       I                   Other   \n",
       "3                  True                       I        Defective Lights   \n",
       "4                  True                       I        Defective Lights   \n",
       "...                 ...                     ...                     ...   \n",
       "4994               True                       C        Defective Lights   \n",
       "4995              False                       C        Moving Violation   \n",
       "4996               True                       N                   Other   \n",
       "4997               True                       O  Administrative Offense   \n",
       "4998               True                       C            Registration   \n",
       "\n",
       "      SubjectAge SubjectEthnicityCode SubjectRaceCode SubjectSexCode  \\\n",
       "0           40.0                    N               B              M   \n",
       "1           49.0                    N               B              F   \n",
       "2           49.0                    N               B              F   \n",
       "3           35.0                    N               W              M   \n",
       "4           35.0                    N               W              M   \n",
       "...          ...                  ...             ...            ...   \n",
       "4994        40.0                    N               W              F   \n",
       "4995        40.0                    N               B              M   \n",
       "4996        43.0                    N               W              M   \n",
       "4997        25.0                    N               B              M   \n",
       "4998        45.0                    H               W              M   \n",
       "\n",
       "      TownResidentIndicator  \n",
       "0                     False  \n",
       "1                     False  \n",
       "2                     False  \n",
       "3                      True  \n",
       "4                      True  \n",
       "...                     ...  \n",
       "4994                  False  \n",
       "4995                   True  \n",
       "4996                   True  \n",
       "4997                   True  \n",
       "4998                  False  \n",
       "\n",
       "[4999 rows x 13 columns]"
      ]
     },
     "execution_count": 17,
     "metadata": {},
     "output_type": "execute_result"
    }
   ],
   "source": [
    "df_production = pd.DataFrame.from_dict(list(obs.values))\n",
    "df_production "
   ]
  },
  {
   "cell_type": "code",
   "execution_count": 18,
   "metadata": {
    "scrolled": true
   },
   "outputs": [],
   "source": [
    "df_production[\"ContrabandIndicator\"] = df_[\"true\"].values\n",
    "df_production[\"prediction\"] = df_[\"pred\"].values"
   ]
  },
  {
   "cell_type": "code",
   "execution_count": 19,
   "metadata": {},
   "outputs": [
    {
     "data": {
      "text/plain": [
       "O    2093\n",
       "C    1490\n",
       "I    1272\n",
       "N     144\n",
       "Name: SearchAuthorizationCode, dtype: int64"
      ]
     },
     "execution_count": 19,
     "metadata": {},
     "output_type": "execute_result"
    }
   ],
   "source": [
    "df_production.SearchAuthorizationCode.value_counts()"
   ]
  },
  {
   "cell_type": "code",
   "execution_count": 20,
   "metadata": {
    "scrolled": true
   },
   "outputs": [
    {
     "data": {
      "text/plain": [
       "SearchAuthorizationCode  ContrabandIndicator\n",
       "C                        0.0                    1056\n",
       "                         1.0                     434\n",
       "I                        0.0                    1090\n",
       "                         1.0                     182\n",
       "N                        0.0                     108\n",
       "                         1.0                      36\n",
       "O                        1.0                    1142\n",
       "                         0.0                     951\n",
       "Name: ContrabandIndicator, dtype: int64"
      ]
     },
     "execution_count": 20,
     "metadata": {},
     "output_type": "execute_result"
    }
   ],
   "source": [
    "df_production.groupby(\"SearchAuthorizationCode\").ContrabandIndicator.value_counts()"
   ]
  },
  {
   "cell_type": "code",
   "execution_count": 21,
   "metadata": {},
   "outputs": [
    {
     "data": {
      "text/plain": [
       "SearchAuthorizationCode  prediction\n",
       "C                        1             1490\n",
       "I                        1             1272\n",
       "N                        0              144\n",
       "O                        1             2093\n",
       "Name: prediction, dtype: int64"
      ]
     },
     "execution_count": 21,
     "metadata": {},
     "output_type": "execute_result"
    }
   ],
   "source": [
    "df_production.groupby(\"SearchAuthorizationCode\").prediction.value_counts()"
   ]
  },
  {
   "cell_type": "code",
   "execution_count": 22,
   "metadata": {},
   "outputs": [],
   "source": [
    "def decode_target(value):\n",
    "    if value == 1:\n",
    "        return True\n",
    "    else:\n",
    "        return False"
   ]
  },
  {
   "cell_type": "code",
   "execution_count": 23,
   "metadata": {},
   "outputs": [],
   "source": [
    "def encode_target(value):\n",
    "    if value == True:\n",
    "        return 1\n",
    "    else:\n",
    "        return 0"
   ]
  },
  {
   "cell_type": "code",
   "execution_count": 24,
   "metadata": {},
   "outputs": [],
   "source": [
    "df_production[\"ContrabandIndicator\"] = df_production[\"ContrabandIndicator\"].apply(decode_target)"
   ]
  },
  {
   "cell_type": "code",
   "execution_count": 25,
   "metadata": {},
   "outputs": [
    {
     "data": {
      "text/html": [
       "<div>\n",
       "<style scoped>\n",
       "    .dataframe tbody tr th:only-of-type {\n",
       "        vertical-align: middle;\n",
       "    }\n",
       "\n",
       "    .dataframe tbody tr th {\n",
       "        vertical-align: top;\n",
       "    }\n",
       "\n",
       "    .dataframe thead th {\n",
       "        text-align: right;\n",
       "    }\n",
       "</style>\n",
       "<table border=\"1\" class=\"dataframe\">\n",
       "  <thead>\n",
       "    <tr style=\"text-align: right;\">\n",
       "      <th></th>\n",
       "      <th>Department Name</th>\n",
       "      <th>InterventionDateTime</th>\n",
       "      <th>InterventionLocationName</th>\n",
       "      <th>InterventionReasonCode</th>\n",
       "      <th>ReportingOfficerIdentificationID</th>\n",
       "      <th>ResidentIndicator</th>\n",
       "      <th>SearchAuthorizationCode</th>\n",
       "      <th>StatuteReason</th>\n",
       "      <th>SubjectAge</th>\n",
       "      <th>SubjectEthnicityCode</th>\n",
       "      <th>SubjectRaceCode</th>\n",
       "      <th>SubjectSexCode</th>\n",
       "      <th>TownResidentIndicator</th>\n",
       "      <th>ContrabandIndicator</th>\n",
       "      <th>prediction</th>\n",
       "    </tr>\n",
       "  </thead>\n",
       "  <tbody>\n",
       "    <tr>\n",
       "      <td>0</td>\n",
       "      <td>Vernon</td>\n",
       "      <td>05/16/2018 02:39:00 AM</td>\n",
       "      <td>VERNON</td>\n",
       "      <td>V</td>\n",
       "      <td>625</td>\n",
       "      <td>False</td>\n",
       "      <td>C</td>\n",
       "      <td>Registration</td>\n",
       "      <td>40.0</td>\n",
       "      <td>N</td>\n",
       "      <td>B</td>\n",
       "      <td>M</td>\n",
       "      <td>False</td>\n",
       "      <td>False</td>\n",
       "      <td>1</td>\n",
       "    </tr>\n",
       "    <tr>\n",
       "      <td>1</td>\n",
       "      <td>Milford</td>\n",
       "      <td>05/16/2018 04:08:00 AM</td>\n",
       "      <td>MILFORD</td>\n",
       "      <td>E</td>\n",
       "      <td>473</td>\n",
       "      <td>True</td>\n",
       "      <td>I</td>\n",
       "      <td>Other</td>\n",
       "      <td>49.0</td>\n",
       "      <td>N</td>\n",
       "      <td>B</td>\n",
       "      <td>F</td>\n",
       "      <td>False</td>\n",
       "      <td>True</td>\n",
       "      <td>1</td>\n",
       "    </tr>\n",
       "    <tr>\n",
       "      <td>2</td>\n",
       "      <td>Milford</td>\n",
       "      <td>05/16/2018 04:08:00 AM</td>\n",
       "      <td>MILFORD</td>\n",
       "      <td>E</td>\n",
       "      <td>473</td>\n",
       "      <td>True</td>\n",
       "      <td>I</td>\n",
       "      <td>Other</td>\n",
       "      <td>49.0</td>\n",
       "      <td>N</td>\n",
       "      <td>B</td>\n",
       "      <td>F</td>\n",
       "      <td>False</td>\n",
       "      <td>True</td>\n",
       "      <td>1</td>\n",
       "    </tr>\n",
       "    <tr>\n",
       "      <td>3</td>\n",
       "      <td>Norwalk</td>\n",
       "      <td>05/16/2018 09:38:00 AM</td>\n",
       "      <td>NORWALK</td>\n",
       "      <td>V</td>\n",
       "      <td>100000335</td>\n",
       "      <td>True</td>\n",
       "      <td>I</td>\n",
       "      <td>Defective Lights</td>\n",
       "      <td>35.0</td>\n",
       "      <td>N</td>\n",
       "      <td>W</td>\n",
       "      <td>M</td>\n",
       "      <td>True</td>\n",
       "      <td>False</td>\n",
       "      <td>1</td>\n",
       "    </tr>\n",
       "    <tr>\n",
       "      <td>4</td>\n",
       "      <td>Norwalk</td>\n",
       "      <td>05/16/2018 09:38:00 AM</td>\n",
       "      <td>NORWALK</td>\n",
       "      <td>V</td>\n",
       "      <td>100000335</td>\n",
       "      <td>True</td>\n",
       "      <td>I</td>\n",
       "      <td>Defective Lights</td>\n",
       "      <td>35.0</td>\n",
       "      <td>N</td>\n",
       "      <td>W</td>\n",
       "      <td>M</td>\n",
       "      <td>True</td>\n",
       "      <td>False</td>\n",
       "      <td>1</td>\n",
       "    </tr>\n",
       "  </tbody>\n",
       "</table>\n",
       "</div>"
      ],
      "text/plain": [
       "  Department Name    InterventionDateTime InterventionLocationName  \\\n",
       "0          Vernon  05/16/2018 02:39:00 AM                   VERNON   \n",
       "1         Milford  05/16/2018 04:08:00 AM                  MILFORD   \n",
       "2         Milford  05/16/2018 04:08:00 AM                  MILFORD   \n",
       "3         Norwalk  05/16/2018 09:38:00 AM                  NORWALK   \n",
       "4         Norwalk  05/16/2018 09:38:00 AM                  NORWALK   \n",
       "\n",
       "  InterventionReasonCode ReportingOfficerIdentificationID  ResidentIndicator  \\\n",
       "0                      V                              625              False   \n",
       "1                      E                              473               True   \n",
       "2                      E                              473               True   \n",
       "3                      V                        100000335               True   \n",
       "4                      V                        100000335               True   \n",
       "\n",
       "  SearchAuthorizationCode     StatuteReason  SubjectAge SubjectEthnicityCode  \\\n",
       "0                       C      Registration        40.0                    N   \n",
       "1                       I             Other        49.0                    N   \n",
       "2                       I             Other        49.0                    N   \n",
       "3                       I  Defective Lights        35.0                    N   \n",
       "4                       I  Defective Lights        35.0                    N   \n",
       "\n",
       "  SubjectRaceCode SubjectSexCode  TownResidentIndicator  ContrabandIndicator  \\\n",
       "0               B              M                  False                False   \n",
       "1               B              F                  False                 True   \n",
       "2               B              F                  False                 True   \n",
       "3               W              M                   True                False   \n",
       "4               W              M                   True                False   \n",
       "\n",
       "   prediction  \n",
       "0           1  \n",
       "1           1  \n",
       "2           1  \n",
       "3           1  \n",
       "4           1  "
      ]
     },
     "execution_count": 25,
     "metadata": {},
     "output_type": "execute_result"
    }
   ],
   "source": [
    "df_production.head()"
   ]
  },
  {
   "cell_type": "code",
   "execution_count": 26,
   "metadata": {},
   "outputs": [],
   "source": [
    "df_production.to_csv(\"resources/production_data.csv\")"
   ]
  },
  {
   "cell_type": "code",
   "execution_count": 27,
   "metadata": {},
   "outputs": [],
   "source": [
    "df_production[\"SubjectAge\"] = df_production[\"SubjectAge\"].apply(clean_age)"
   ]
  },
  {
   "cell_type": "code",
   "execution_count": 28,
   "metadata": {},
   "outputs": [
    {
     "data": {
      "text/plain": [
       "<matplotlib.axes._subplots.AxesSubplot at 0x7fb299168d90>"
      ]
     },
     "execution_count": 28,
     "metadata": {},
     "output_type": "execute_result"
    },
    {
     "data": {
      "image/png": "[encoded data removed]",
      "text/plain": [
       "<Figure size 504x504 with 1 Axes>"
      ]
     },
     "metadata": {},
     "output_type": "display_data"
    }
   ],
   "source": [
    "df_production.SubjectEthnicityCode.value_counts().plot.pie(y=\"SubjectEthnicityCode\", figsize=(7, 7))"
   ]
  },
  {
   "cell_type": "code",
   "execution_count": 29,
   "metadata": {},
   "outputs": [
    {
     "data": {
      "text/plain": [
       "N    74.394879\n",
       "H    25.605121\n",
       "Name: SubjectEthnicityCode, dtype: float64"
      ]
     },
     "execution_count": 29,
     "metadata": {},
     "output_type": "execute_result"
    }
   ],
   "source": [
    "100*df_production.SubjectEthnicityCode.value_counts()/len(df_production)"
   ]
  },
  {
   "cell_type": "code",
   "execution_count": 30,
   "metadata": {},
   "outputs": [
    {
     "data": {
      "text/plain": [
       "<matplotlib.axes._subplots.AxesSubplot at 0x7fb298d8db10>"
      ]
     },
     "execution_count": 30,
     "metadata": {},
     "output_type": "execute_result"
    },
    {
     "data": {
      "image/png": "[encoded data removed]",
      "text/plain": [
       "<Figure size 720x720 with 1 Axes>"
      ]
     },
     "metadata": {},
     "output_type": "display_data"
    }
   ],
   "source": [
    "df_production.SubjectRaceCode.value_counts().plot.pie(y=\"SubjectRaceCode\", figsize=(10, 10))"
   ]
  },
  {
   "cell_type": "code",
   "execution_count": 31,
   "metadata": {},
   "outputs": [
    {
     "data": {
      "text/plain": [
       "W    66.653331\n",
       "B    32.226445\n",
       "A     0.920184\n",
       "I     0.200040\n",
       "Name: SubjectRaceCode, dtype: float64"
      ]
     },
     "execution_count": 31,
     "metadata": {},
     "output_type": "execute_result"
    }
   ],
   "source": [
    "100*df_production.SubjectRaceCode.value_counts()/len(df_production)"
   ]
  },
  {
   "cell_type": "code",
   "execution_count": 32,
   "metadata": {},
   "outputs": [
    {
     "data": {
      "text/plain": [
       "<matplotlib.axes._subplots.AxesSubplot at 0x7fb298ceda50>"
      ]
     },
     "execution_count": 32,
     "metadata": {},
     "output_type": "execute_result"
    },
    {
     "data": {
      "image/png": "[encoded data removed]",
      "text/plain": [
       "<Figure size 504x504 with 1 Axes>"
      ]
     },
     "metadata": {},
     "output_type": "display_data"
    }
   ],
   "source": [
    "df_production.SubjectSexCode.value_counts().plot.pie(y=\"SubjectSexCode\", figsize=(7, 7))"
   ]
  },
  {
   "cell_type": "code",
   "execution_count": 33,
   "metadata": {},
   "outputs": [
    {
     "data": {
      "text/plain": [
       "M    79.095819\n",
       "F    20.904181\n",
       "Name: SubjectSexCode, dtype: float64"
      ]
     },
     "execution_count": 33,
     "metadata": {},
     "output_type": "execute_result"
    }
   ],
   "source": [
    "100*df_production.SubjectSexCode.value_counts()/len(df_production)"
   ]
  },
  {
   "cell_type": "code",
   "execution_count": 34,
   "metadata": {},
   "outputs": [
    {
     "data": {
      "text/plain": [
       "<matplotlib.axes._subplots.AxesSubplot at 0x7fb298cbc590>"
      ]
     },
     "execution_count": 34,
     "metadata": {},
     "output_type": "execute_result"
    },
    {
     "data": {
      "image/png": "[encoded data removed]",
      "text/plain": [
       "<Figure size 504x504 with 1 Axes>"
      ]
     },
     "metadata": {},
     "output_type": "display_data"
    }
   ],
   "source": [
    "df_production.SubjectAge.value_counts().plot.pie(y=\"SubjectAge\", figsize=(7, 7))"
   ]
  },
  {
   "cell_type": "code",
   "execution_count": 35,
   "metadata": {},
   "outputs": [
    {
     "data": {
      "text/plain": [
       "Young Adult    70.394079\n",
       "Adult          23.924785\n",
       "Senior          4.120824\n",
       "Youth           1.560312\n",
       "Name: SubjectAge, dtype: float64"
      ]
     },
     "execution_count": 35,
     "metadata": {},
     "output_type": "execute_result"
    }
   ],
   "source": [
    "100*df_production.SubjectAge.value_counts()/len(df_production)"
   ]
  },
  {
   "cell_type": "code",
   "execution_count": 36,
   "metadata": {},
   "outputs": [
    {
     "data": {
      "text/plain": [
       "<matplotlib.axes._subplots.AxesSubplot at 0x7fb2948a98d0>"
      ]
     },
     "execution_count": 36,
     "metadata": {},
     "output_type": "execute_result"
    },
    {
     "data": {
      "image/png": "[encoded data removed]",
      "text/plain": [
       "<Figure size 504x504 with 1 Axes>"
      ]
     },
     "metadata": {},
     "output_type": "display_data"
    }
   ],
   "source": [
    "df_production.ContrabandIndicator.value_counts().plot.pie(y=\"ContrabandIndicator\", figsize=(7, 7))"
   ]
  },
  {
   "cell_type": "code",
   "execution_count": 37,
   "metadata": {},
   "outputs": [
    {
     "data": {
      "text/plain": [
       "<matplotlib.axes._subplots.AxesSubplot at 0x7fb294877e90>"
      ]
     },
     "execution_count": 37,
     "metadata": {},
     "output_type": "execute_result"
    },
    {
     "data": {
      "image/png": "[encoded data removed]",
      "text/plain": [
       "<Figure size 504x504 with 1 Axes>"
      ]
     },
     "metadata": {},
     "output_type": "display_data"
    }
   ],
   "source": [
    "df_production.SearchAuthorizationCode.value_counts().plot.pie(y=\"SearchAuthorizationCode\", figsize=(7, 7))"
   ]
  },
  {
   "cell_type": "code",
   "execution_count": 38,
   "metadata": {},
   "outputs": [
    {
     "data": {
      "text/plain": [
       "array([0., 1., 1., ..., 0., 0., 1.])"
      ]
     },
     "execution_count": 38,
     "metadata": {},
     "output_type": "execute_result"
    }
   ],
   "source": [
    "y_test = df_.true.values\n",
    "y_test"
   ]
  },
  {
   "cell_type": "code",
   "execution_count": 39,
   "metadata": {},
   "outputs": [
    {
     "data": {
      "text/plain": [
       "array([1, 1, 1, ..., 0, 1, 1])"
      ]
     },
     "execution_count": 39,
     "metadata": {},
     "output_type": "execute_result"
    }
   ],
   "source": [
    "y_pred = df_.pred.values\n",
    "y_pred"
   ]
  },
  {
   "cell_type": "code",
   "execution_count": 40,
   "metadata": {
    "scrolled": true
   },
   "outputs": [
    {
     "name": "stdout",
     "output_type": "stream",
     "text": [
      "              precision    recall  f1-score   support\n",
      "\n",
      "           0       0.75      0.03      0.06      3205\n",
      "           1       0.36      0.98      0.53      1794\n",
      "\n",
      "    accuracy                           0.37      4999\n",
      "   macro avg       0.56      0.51      0.30      4999\n",
      "weighted avg       0.61      0.37      0.23      4999\n",
      "\n",
      " tn: 108 fp: 3097 fn: 36 tp: 1758\n"
     ]
    }
   ],
   "source": [
    "#Model Performance\n",
    "score = classification_report(y_test, y_pred, labels=[0, 1])\n",
    "print(score)\n",
    "tn, fp, fn, tp = confusion_matrix(y_test, y_pred).ravel()\n",
    "cm = \" tn: \" + str(tn) + \" fp: \" + str(fp) + \" fn: \" + str(fn) + \" tp: \" + str(tp)\n",
    "print(cm)"
   ]
  },
  {
   "cell_type": "code",
   "execution_count": 41,
   "metadata": {},
   "outputs": [
    {
     "data": {
      "image/png": "[encoded data removed]",
      "text/plain": [
       "<Figure size 540x540 with 1 Axes>"
      ]
     },
     "metadata": {
      "needs_background": "light"
     },
     "output_type": "display_data"
    }
   ],
   "source": [
    "#Roc Curve\n",
    "lr_probs = df_.prob.values\n",
    "ns_probs = [0 for _ in range(len(df_.true.values))]\n",
    "ns_fpr, ns_tpr, _ = roc_curve(df_.true.values, ns_probs)\n",
    "lr_fpr, lr_tpr, _ = roc_curve(df_.true.values, lr_probs)\n",
    "plt.figure(figsize=(7.5,7.5))\n",
    "plt.plot(ns_fpr, ns_tpr, linestyle='--', label='Baseline')\n",
    "plt.plot(lr_fpr, lr_tpr, marker='.', label='AdaBoost')\n",
    "# axis labels\n",
    "plt.xlabel('False Positive Rate')\n",
    "plt.ylabel('True Positive Rate')\n",
    "# show the legend\n",
    "plt.legend()\n",
    "# show the plot\n",
    "plt.show()"
   ]
  },
  {
   "cell_type": "code",
   "execution_count": 42,
   "metadata": {},
   "outputs": [
    {
     "data": {
      "text/plain": [
       "(0.5, 0.5037804990460488)"
      ]
     },
     "execution_count": 42,
     "metadata": {},
     "output_type": "execute_result"
    }
   ],
   "source": [
    "ns_auc = roc_auc_score(df_.true.values, ns_probs)\n",
    "lr_auc = roc_auc_score(df_.true.values, lr_probs)\n",
    "ns_auc, lr_auc"
   ]
  },
  {
   "cell_type": "code",
   "execution_count": 43,
   "metadata": {},
   "outputs": [
    {
     "name": "stderr",
     "output_type": "stream",
     "text": [
      "/home/ines/anaconda3/lib/python3.7/site-packages/pandas/core/generic.py:3946: PerformanceWarning: dropping on a non-lexsorted multi-index without a level parameter may impact performance.\n",
      "  new_axis = axis.drop(labels, errors=errors)\n"
     ]
    }
   ],
   "source": [
    "bias_analysis_pred = evaluate_bias_by_group(df=df_production, group=[\"Department Name\", \"SubjectRaceCode\", \"SubjectEthnicityCode\", \"SubjectAge\",\"SubjectSexCode\"], threshold=5,  prediction=True)"
   ]
  },
  {
   "cell_type": "code",
   "execution_count": 44,
   "metadata": {},
   "outputs": [],
   "source": [
    "bias_analysis_prod_pred_diff_array = [item for sublist in bias_analysis_pred[\"Diff\"].values for item in sublist]"
   ]
  },
  {
   "cell_type": "code",
   "execution_count": 45,
   "metadata": {},
   "outputs": [
    {
     "data": {
      "text/plain": [
       "(24.80119564345512, 19.473702110508142, 20.833333333333336, 99, 581)"
      ]
     },
     "execution_count": 45,
     "metadata": {},
     "output_type": "execute_result"
    }
   ],
   "source": [
    "np.mean(bias_analysis_prod_pred_diff_array), np.std(bias_analysis_prod_pred_diff_array), np.median(bias_analysis_prod_pred_diff_array), len(np.array(bias_analysis_prod_pred_diff_array)[np.array(bias_analysis_prod_pred_diff_array)<=5]), len(bias_analysis_prod_pred_diff_array)"
   ]
  },
  {
   "cell_type": "code",
   "execution_count": 46,
   "metadata": {},
   "outputs": [
    {
     "data": {
      "text/plain": [
       "(12.89997408218525, 12.365647518459317, 9.523809523809518, 743, 2212)"
      ]
     },
     "execution_count": 46,
     "metadata": {},
     "output_type": "execute_result"
    }
   ],
   "source": [
    "#Distribution of amplitude for test set\n",
    "df_test = pd.read_csv(\"resources/df_test_with_prediction.csv\", index_col=0)\n",
    "df_test[\"SubjectAge\"] = df_test[\"SubjectAge\"].apply(clean_age)\n",
    "df_test[\"prediction\"] = df_test.prediction.apply(map_prediction)\n",
    "bias_analysis_pred = evaluate_bias_by_group(df=df_test, group=[\"Department Name\", \"SubjectRaceCode\", \"SubjectEthnicityCode\", \"SubjectAge\",\"SubjectSexCode\"], threshold=5,  prediction=True)\n",
    "bias_analysis_pred_diff_array = [item for sublist in bias_analysis_pred[\"Diff\"].values for item in sublist]\n",
    "np.mean(bias_analysis_pred_diff_array), np.std(bias_analysis_pred_diff_array), np.median(bias_analysis_pred_diff_array), len(np.array(bias_analysis_pred_diff_array)[np.array(bias_analysis_pred_diff_array)<=5]), len(bias_analysis_pred_diff_array)"
   ]
  },
  {
   "cell_type": "code",
   "execution_count": 47,
   "metadata": {},
   "outputs": [],
   "source": [
    "bias_analysis_real = evaluate_bias_by_group(df=df_test, group=[\"Department Name\", \"SubjectRaceCode\", \"SubjectEthnicityCode\", \"SubjectAge\",\"SubjectSexCode\"], threshold=5)\n",
    "bias_analysis_real_diff_array = [item for sublist in bias_analysis_real[\"Diff\"].values for item in sublist]"
   ]
  },
  {
   "cell_type": "code",
   "execution_count": 48,
   "metadata": {},
   "outputs": [
    {
     "data": {
      "text/plain": [
       "Text(0, 0.5, 'Count')"
      ]
     },
     "execution_count": 48,
     "metadata": {},
     "output_type": "execute_result"
    },
    {
     "data": {
      "image/png": "[encoded data removed]",
      "text/plain": [
       "<Figure size 1080x540 with 1 Axes>"
      ]
     },
     "metadata": {
      "needs_background": "light"
     },
     "output_type": "display_data"
    }
   ],
   "source": [
    "colors = ['green', 'blue', 'red']\n",
    "plt.figure(figsize=(15,7.5))\n",
    "plt.hist([bias_analysis_real_diff_array, bias_analysis_pred_diff_array, bias_analysis_prod_pred_diff_array], 20, density=True, histtype='bar', color=colors, label=[\"Test Real\",\"Test Pred\", \"Production Pred\"])\n",
    "plt.legend(prop={'size': 15})\n",
    "plt.xlabel(\"Diff\")\n",
    "plt.ylabel(\"Count\")"
   ]
  },
  {
   "cell_type": "markdown",
   "metadata": {},
   "source": [
    "## Results in case if we train the model only with searched vechicles"
   ]
  },
  {
   "cell_type": "code",
   "execution_count": 49,
   "metadata": {},
   "outputs": [],
   "source": [
    "df_production_new_model = pd.read_csv(\"resources/df_test_with_prediction_production_data.csv\", index_col=0)"
   ]
  },
  {
   "cell_type": "code",
   "execution_count": 50,
   "metadata": {},
   "outputs": [
    {
     "data": {
      "text/plain": [
       "SearchAuthorizationCode  prediction\n",
       "C                        0              842\n",
       "                         1              648\n",
       "I                        0             1006\n",
       "                         1              266\n",
       "N                        0              142\n",
       "                         1                2\n",
       "O                        1             1155\n",
       "                         0              938\n",
       "Name: prediction, dtype: int64"
      ]
     },
     "execution_count": 50,
     "metadata": {},
     "output_type": "execute_result"
    }
   ],
   "source": [
    "df_production_new_model.groupby(\"SearchAuthorizationCode\").prediction.value_counts()"
   ]
  },
  {
   "cell_type": "code",
   "execution_count": 51,
   "metadata": {},
   "outputs": [],
   "source": [
    "df_production_new_model[\"ContrabandIndicator\"] = df_production_new_model[\"ContrabandIndicator\"].apply(encode_target)"
   ]
  },
  {
   "cell_type": "code",
   "execution_count": 52,
   "metadata": {},
   "outputs": [
    {
     "data": {
      "text/html": [
       "<div>\n",
       "<style scoped>\n",
       "    .dataframe tbody tr th:only-of-type {\n",
       "        vertical-align: middle;\n",
       "    }\n",
       "\n",
       "    .dataframe tbody tr th {\n",
       "        vertical-align: top;\n",
       "    }\n",
       "\n",
       "    .dataframe thead th {\n",
       "        text-align: right;\n",
       "    }\n",
       "</style>\n",
       "<table border=\"1\" class=\"dataframe\">\n",
       "  <thead>\n",
       "    <tr style=\"text-align: right;\">\n",
       "      <th></th>\n",
       "      <th>Department Name</th>\n",
       "      <th>InterventionDateTime</th>\n",
       "      <th>InterventionLocationName</th>\n",
       "      <th>InterventionReasonCode</th>\n",
       "      <th>ReportingOfficerIdentificationID</th>\n",
       "      <th>ResidentIndicator</th>\n",
       "      <th>SearchAuthorizationCode</th>\n",
       "      <th>StatuteReason</th>\n",
       "      <th>SubjectAge</th>\n",
       "      <th>SubjectEthnicityCode</th>\n",
       "      <th>SubjectRaceCode</th>\n",
       "      <th>SubjectSexCode</th>\n",
       "      <th>TownResidentIndicator</th>\n",
       "      <th>ContrabandIndicator</th>\n",
       "      <th>prediction</th>\n",
       "      <th>probability</th>\n",
       "    </tr>\n",
       "  </thead>\n",
       "  <tbody>\n",
       "    <tr>\n",
       "      <td>0</td>\n",
       "      <td>Vernon</td>\n",
       "      <td>05/16/2018 02:39:00 AM</td>\n",
       "      <td>VERNON</td>\n",
       "      <td>V</td>\n",
       "      <td>625</td>\n",
       "      <td>False</td>\n",
       "      <td>C</td>\n",
       "      <td>Registration</td>\n",
       "      <td>40.0</td>\n",
       "      <td>N</td>\n",
       "      <td>B</td>\n",
       "      <td>M</td>\n",
       "      <td>False</td>\n",
       "      <td>0</td>\n",
       "      <td>1</td>\n",
       "      <td>0.501103</td>\n",
       "    </tr>\n",
       "    <tr>\n",
       "      <td>1</td>\n",
       "      <td>Milford</td>\n",
       "      <td>05/16/2018 04:08:00 AM</td>\n",
       "      <td>MILFORD</td>\n",
       "      <td>E</td>\n",
       "      <td>473</td>\n",
       "      <td>True</td>\n",
       "      <td>I</td>\n",
       "      <td>Other</td>\n",
       "      <td>49.0</td>\n",
       "      <td>N</td>\n",
       "      <td>B</td>\n",
       "      <td>F</td>\n",
       "      <td>False</td>\n",
       "      <td>1</td>\n",
       "      <td>1</td>\n",
       "      <td>0.501246</td>\n",
       "    </tr>\n",
       "    <tr>\n",
       "      <td>2</td>\n",
       "      <td>Milford</td>\n",
       "      <td>05/16/2018 04:08:00 AM</td>\n",
       "      <td>MILFORD</td>\n",
       "      <td>E</td>\n",
       "      <td>473</td>\n",
       "      <td>True</td>\n",
       "      <td>I</td>\n",
       "      <td>Other</td>\n",
       "      <td>49.0</td>\n",
       "      <td>N</td>\n",
       "      <td>B</td>\n",
       "      <td>F</td>\n",
       "      <td>False</td>\n",
       "      <td>1</td>\n",
       "      <td>1</td>\n",
       "      <td>0.501246</td>\n",
       "    </tr>\n",
       "    <tr>\n",
       "      <td>3</td>\n",
       "      <td>Norwalk</td>\n",
       "      <td>05/16/2018 09:38:00 AM</td>\n",
       "      <td>NORWALK</td>\n",
       "      <td>V</td>\n",
       "      <td>100000335</td>\n",
       "      <td>True</td>\n",
       "      <td>I</td>\n",
       "      <td>Defective Lights</td>\n",
       "      <td>35.0</td>\n",
       "      <td>N</td>\n",
       "      <td>W</td>\n",
       "      <td>M</td>\n",
       "      <td>True</td>\n",
       "      <td>0</td>\n",
       "      <td>0</td>\n",
       "      <td>0.499495</td>\n",
       "    </tr>\n",
       "    <tr>\n",
       "      <td>4</td>\n",
       "      <td>Norwalk</td>\n",
       "      <td>05/16/2018 09:38:00 AM</td>\n",
       "      <td>NORWALK</td>\n",
       "      <td>V</td>\n",
       "      <td>100000335</td>\n",
       "      <td>True</td>\n",
       "      <td>I</td>\n",
       "      <td>Defective Lights</td>\n",
       "      <td>35.0</td>\n",
       "      <td>N</td>\n",
       "      <td>W</td>\n",
       "      <td>M</td>\n",
       "      <td>True</td>\n",
       "      <td>0</td>\n",
       "      <td>0</td>\n",
       "      <td>0.499495</td>\n",
       "    </tr>\n",
       "  </tbody>\n",
       "</table>\n",
       "</div>"
      ],
      "text/plain": [
       "  Department Name    InterventionDateTime InterventionLocationName  \\\n",
       "0          Vernon  05/16/2018 02:39:00 AM                   VERNON   \n",
       "1         Milford  05/16/2018 04:08:00 AM                  MILFORD   \n",
       "2         Milford  05/16/2018 04:08:00 AM                  MILFORD   \n",
       "3         Norwalk  05/16/2018 09:38:00 AM                  NORWALK   \n",
       "4         Norwalk  05/16/2018 09:38:00 AM                  NORWALK   \n",
       "\n",
       "  InterventionReasonCode ReportingOfficerIdentificationID  ResidentIndicator  \\\n",
       "0                      V                              625              False   \n",
       "1                      E                              473               True   \n",
       "2                      E                              473               True   \n",
       "3                      V                        100000335               True   \n",
       "4                      V                        100000335               True   \n",
       "\n",
       "  SearchAuthorizationCode     StatuteReason  SubjectAge SubjectEthnicityCode  \\\n",
       "0                       C      Registration        40.0                    N   \n",
       "1                       I             Other        49.0                    N   \n",
       "2                       I             Other        49.0                    N   \n",
       "3                       I  Defective Lights        35.0                    N   \n",
       "4                       I  Defective Lights        35.0                    N   \n",
       "\n",
       "  SubjectRaceCode SubjectSexCode  TownResidentIndicator  ContrabandIndicator  \\\n",
       "0               B              M                  False                    0   \n",
       "1               B              F                  False                    1   \n",
       "2               B              F                  False                    1   \n",
       "3               W              M                   True                    0   \n",
       "4               W              M                   True                    0   \n",
       "\n",
       "   prediction  probability  \n",
       "0           1     0.501103  \n",
       "1           1     0.501246  \n",
       "2           1     0.501246  \n",
       "3           0     0.499495  \n",
       "4           0     0.499495  "
      ]
     },
     "execution_count": 52,
     "metadata": {},
     "output_type": "execute_result"
    }
   ],
   "source": [
    "df_production_new_model.head()"
   ]
  },
  {
   "cell_type": "code",
   "execution_count": 53,
   "metadata": {},
   "outputs": [],
   "source": [
    "y_pred = df_production_new_model.prediction.values\n",
    "y_test = df_production_new_model.ContrabandIndicator.values"
   ]
  },
  {
   "cell_type": "code",
   "execution_count": 54,
   "metadata": {},
   "outputs": [
    {
     "name": "stdout",
     "output_type": "stream",
     "text": [
      "              precision    recall  f1-score   support\n",
      "\n",
      "           0       0.74      0.68      0.71      3205\n",
      "           1       0.50      0.58      0.54      1794\n",
      "\n",
      "    accuracy                           0.64      4999\n",
      "   macro avg       0.62      0.63      0.62      4999\n",
      "weighted avg       0.66      0.64      0.65      4999\n",
      "\n",
      " tn: 2175 fp: 1030 fn: 753 tp: 1041\n"
     ]
    }
   ],
   "source": [
    "#Model Performance\n",
    "score = classification_report(y_test, y_pred, labels=[0, 1])\n",
    "print(score)\n",
    "tn, fp, fn, tp = confusion_matrix(y_test, y_pred).ravel()\n",
    "cm = \" tn: \" + str(tn) + \" fp: \" + str(fp) + \" fn: \" + str(fn) + \" tp: \" + str(tp)\n",
    "print(cm)"
   ]
  },
  {
   "cell_type": "code",
   "execution_count": 55,
   "metadata": {},
   "outputs": [],
   "source": [
    "df_production_new_model[\"SubjectAge\"] = df_production_new_model[\"SubjectAge\"].apply(clean_age)"
   ]
  },
  {
   "cell_type": "code",
   "execution_count": 56,
   "metadata": {},
   "outputs": [],
   "source": [
    "bias_analysis_pred_new_model = evaluate_bias_by_group(df=df_production_new_model, group=[\"Department Name\", \"SubjectRaceCode\", \"SubjectEthnicityCode\", \"SubjectAge\",\"SubjectSexCode\"], threshold=5,  prediction=True)"
   ]
  },
  {
   "cell_type": "code",
   "execution_count": 57,
   "metadata": {},
   "outputs": [],
   "source": [
    "bias_analysis_pred_diff_array = [item for sublist in bias_analysis_pred_new_model[\"Diff\"].values for item in sublist]"
   ]
  },
  {
   "cell_type": "code",
   "execution_count": 58,
   "metadata": {},
   "outputs": [
    {
     "data": {
      "text/plain": [
       "(29.593556774901877, 20.728337907636003, 25.0, 20, 141)"
      ]
     },
     "execution_count": 58,
     "metadata": {},
     "output_type": "execute_result"
    }
   ],
   "source": [
    "np.mean(bias_analysis_pred_diff_array), np.std(bias_analysis_pred_diff_array), np.median(bias_analysis_pred_diff_array), len(np.array(bias_analysis_pred_diff_array)[np.array(bias_analysis_pred_diff_array)<=5]), len(bias_analysis_pred_diff_array)"
   ]
  },
  {
   "cell_type": "code",
   "execution_count": 59,
   "metadata": {},
   "outputs": [
    {
     "data": {
      "text/plain": [
       "(17.183190049916416, 12.868627264419011, 14.814814814814813, 127, 719)"
      ]
     },
     "execution_count": 59,
     "metadata": {},
     "output_type": "execute_result"
    }
   ],
   "source": [
    "#Distribution of amplitude for test set For model only trainned with records with VehicleSearchedIndicator == True\n",
    "df_test = pd.read_csv(\"resources/df_test_filtered_with_prediction_with_sac.csv\", index_col=0)\n",
    "df_test[\"SubjectAge\"] = df_test[\"SubjectAge\"].apply(clean_age)\n",
    "df_test[\"prediction\"] = df_test.prediction.apply(map_prediction)\n",
    "bias_analysis_pred = evaluate_bias_by_group(df=df_test, group=[\"Department Name\", \"SubjectRaceCode\", \"SubjectEthnicityCode\", \"SubjectAge\",\"SubjectSexCode\"], threshold=5,  prediction=True)\n",
    "bias_analysis_pred_diff_array = [item for sublist in bias_analysis_pred[\"Diff\"].values for item in sublist]\n",
    "np.mean(bias_analysis_pred_diff_array), np.std(bias_analysis_pred_diff_array), np.median(bias_analysis_pred_diff_array), len(np.array(bias_analysis_pred_diff_array)[np.array(bias_analysis_pred_diff_array)<=5]), len(bias_analysis_pred_diff_array)"
   ]
  },
  {
   "cell_type": "code",
   "execution_count": 60,
   "metadata": {},
   "outputs": [
    {
     "data": {
      "text/html": [
       "<div>\n",
       "<style scoped>\n",
       "    .dataframe tbody tr th:only-of-type {\n",
       "        vertical-align: middle;\n",
       "    }\n",
       "\n",
       "    .dataframe tbody tr th {\n",
       "        vertical-align: top;\n",
       "    }\n",
       "\n",
       "    .dataframe thead th {\n",
       "        text-align: right;\n",
       "    }\n",
       "</style>\n",
       "<table border=\"1\" class=\"dataframe\">\n",
       "  <thead>\n",
       "    <tr style=\"text-align: right;\">\n",
       "      <th></th>\n",
       "      <th>VehicleSearchedIndicator</th>\n",
       "      <th>ContrabandIndicator</th>\n",
       "      <th>Department Name</th>\n",
       "      <th>InterventionDateTime</th>\n",
       "      <th>InterventionLocationName</th>\n",
       "      <th>InterventionReasonCode</th>\n",
       "      <th>ReportingOfficerIdentificationID</th>\n",
       "      <th>ResidentIndicator</th>\n",
       "      <th>SearchAuthorizationCode</th>\n",
       "      <th>StatuteReason</th>\n",
       "      <th>SubjectAge</th>\n",
       "      <th>SubjectEthnicityCode</th>\n",
       "      <th>SubjectRaceCode</th>\n",
       "      <th>SubjectSexCode</th>\n",
       "      <th>TownResidentIndicator</th>\n",
       "      <th>prediction</th>\n",
       "    </tr>\n",
       "  </thead>\n",
       "  <tbody>\n",
       "    <tr>\n",
       "      <td>1888862</td>\n",
       "      <td>True</td>\n",
       "      <td>False</td>\n",
       "      <td>Hartford</td>\n",
       "      <td>08/16/2017 02:45:00 AM</td>\n",
       "      <td>Hartford</td>\n",
       "      <td>V</td>\n",
       "      <td>3144</td>\n",
       "      <td>True</td>\n",
       "      <td>C</td>\n",
       "      <td>Defective Lights</td>\n",
       "      <td>Young Adult</td>\n",
       "      <td>H</td>\n",
       "      <td>W</td>\n",
       "      <td>M</td>\n",
       "      <td>True</td>\n",
       "      <td>False</td>\n",
       "    </tr>\n",
       "    <tr>\n",
       "      <td>1724629</td>\n",
       "      <td>True</td>\n",
       "      <td>False</td>\n",
       "      <td>Stratford</td>\n",
       "      <td>05/02/2017 09:44:00 PM</td>\n",
       "      <td>STRATFORD</td>\n",
       "      <td>I</td>\n",
       "      <td>30233</td>\n",
       "      <td>True</td>\n",
       "      <td>O</td>\n",
       "      <td>Administrative Offense</td>\n",
       "      <td>Young Adult</td>\n",
       "      <td>N</td>\n",
       "      <td>B</td>\n",
       "      <td>M</td>\n",
       "      <td>True</td>\n",
       "      <td>False</td>\n",
       "    </tr>\n",
       "    <tr>\n",
       "      <td>2319208</td>\n",
       "      <td>True</td>\n",
       "      <td>False</td>\n",
       "      <td>Stratford</td>\n",
       "      <td>03/30/2018 09:43:00 PM</td>\n",
       "      <td>STRATFORD</td>\n",
       "      <td>V</td>\n",
       "      <td>30337</td>\n",
       "      <td>True</td>\n",
       "      <td>I</td>\n",
       "      <td>Defective Lights</td>\n",
       "      <td>Adult</td>\n",
       "      <td>H</td>\n",
       "      <td>W</td>\n",
       "      <td>M</td>\n",
       "      <td>False</td>\n",
       "      <td>False</td>\n",
       "    </tr>\n",
       "    <tr>\n",
       "      <td>1451171</td>\n",
       "      <td>True</td>\n",
       "      <td>False</td>\n",
       "      <td>Wallingford</td>\n",
       "      <td>10/29/2016 02:06:00 AM</td>\n",
       "      <td>WALLINGFORD</td>\n",
       "      <td>E</td>\n",
       "      <td>P188</td>\n",
       "      <td>True</td>\n",
       "      <td>O</td>\n",
       "      <td>Other</td>\n",
       "      <td>Young Adult</td>\n",
       "      <td>H</td>\n",
       "      <td>W</td>\n",
       "      <td>M</td>\n",
       "      <td>False</td>\n",
       "      <td>True</td>\n",
       "    </tr>\n",
       "    <tr>\n",
       "      <td>608257</td>\n",
       "      <td>True</td>\n",
       "      <td>True</td>\n",
       "      <td>Branford</td>\n",
       "      <td>10/02/2014 05:24:00 PM</td>\n",
       "      <td>Branford</td>\n",
       "      <td>V</td>\n",
       "      <td>293</td>\n",
       "      <td>True</td>\n",
       "      <td>O</td>\n",
       "      <td>Display of Plates</td>\n",
       "      <td>Young Adult</td>\n",
       "      <td>N</td>\n",
       "      <td>W</td>\n",
       "      <td>M</td>\n",
       "      <td>False</td>\n",
       "      <td>False</td>\n",
       "    </tr>\n",
       "  </tbody>\n",
       "</table>\n",
       "</div>"
      ],
      "text/plain": [
       "         VehicleSearchedIndicator  ContrabandIndicator Department Name  \\\n",
       "1888862                      True                False        Hartford   \n",
       "1724629                      True                False       Stratford   \n",
       "2319208                      True                False       Stratford   \n",
       "1451171                      True                False     Wallingford   \n",
       "608257                       True                 True        Branford   \n",
       "\n",
       "           InterventionDateTime InterventionLocationName  \\\n",
       "1888862  08/16/2017 02:45:00 AM                 Hartford   \n",
       "1724629  05/02/2017 09:44:00 PM                STRATFORD   \n",
       "2319208  03/30/2018 09:43:00 PM                STRATFORD   \n",
       "1451171  10/29/2016 02:06:00 AM              WALLINGFORD   \n",
       "608257   10/02/2014 05:24:00 PM     Branford               \n",
       "\n",
       "        InterventionReasonCode ReportingOfficerIdentificationID  \\\n",
       "1888862                      V                             3144   \n",
       "1724629                      I                            30233   \n",
       "2319208                      V                            30337   \n",
       "1451171                      E                             P188   \n",
       "608257                       V                              293   \n",
       "\n",
       "         ResidentIndicator SearchAuthorizationCode           StatuteReason  \\\n",
       "1888862               True                       C        Defective Lights   \n",
       "1724629               True                       O  Administrative Offense   \n",
       "2319208               True                       I        Defective Lights   \n",
       "1451171               True                       O                   Other   \n",
       "608257                True                       O       Display of Plates   \n",
       "\n",
       "          SubjectAge SubjectEthnicityCode SubjectRaceCode SubjectSexCode  \\\n",
       "1888862  Young Adult                    H               W              M   \n",
       "1724629  Young Adult                    N               B              M   \n",
       "2319208        Adult                    H               W              M   \n",
       "1451171  Young Adult                    H               W              M   \n",
       "608257   Young Adult                    N               W              M   \n",
       "\n",
       "         TownResidentIndicator  prediction  \n",
       "1888862                   True       False  \n",
       "1724629                   True       False  \n",
       "2319208                  False       False  \n",
       "1451171                  False        True  \n",
       "608257                   False       False  "
      ]
     },
     "execution_count": 60,
     "metadata": {},
     "output_type": "execute_result"
    }
   ],
   "source": [
    "df_test.head()"
   ]
  },
  {
   "cell_type": "code",
   "execution_count": 61,
   "metadata": {},
   "outputs": [],
   "source": [
    "bias_analysis_real = evaluate_bias_by_group(df=df_test, group=[\"Department Name\", \"SubjectRaceCode\", \"SubjectEthnicityCode\", \"SubjectAge\",\"SubjectSexCode\"], threshold=5)\n",
    "bias_analysis_real_diff_array = [item for sublist in bias_analysis_real[\"Diff\"].values for item in sublist]"
   ]
  },
  {
   "cell_type": "code",
   "execution_count": 62,
   "metadata": {},
   "outputs": [
    {
     "data": {
      "text/plain": [
       "Text(0, 0.5, 'Count')"
      ]
     },
     "execution_count": 62,
     "metadata": {},
     "output_type": "execute_result"
    },
    {
     "data": {
      "image/png": "[encoded data removed]",
      "text/plain": [
       "<Figure size 1080x540 with 1 Axes>"
      ]
     },
     "metadata": {
      "needs_background": "light"
     },
     "output_type": "display_data"
    }
   ],
   "source": [
    "colors = ['green', 'blue', 'red']\n",
    "plt.figure(figsize=(15,7.5))\n",
    "plt.hist([bias_analysis_real_diff_array, bias_analysis_pred_diff_array, bias_analysis_prod_pred_diff_array], 20, density=True, histtype='bar', color=colors, label=[\"Test Real\",\"Test Pred\", \"Production Pred\"])\n",
    "plt.legend(prop={'size': 15})\n",
    "plt.xlabel(\"Diff\")\n",
    "plt.ylabel(\"Count\")"
   ]
  },
  {
   "cell_type": "code",
   "execution_count": 63,
   "metadata": {},
   "outputs": [
    {
     "data": {
      "image/png": "[encoded data removed]",
      "text/plain": [
       "<Figure size 540x540 with 1 Axes>"
      ]
     },
     "metadata": {
      "needs_background": "light"
     },
     "output_type": "display_data"
    }
   ],
   "source": [
    "lr_probs = df_production_new_model.probability.values\n",
    "ns_probs = [0 for _ in range(len(y_test))]\n",
    "ns_fpr, ns_tpr, _ = roc_curve(y_test, ns_probs)\n",
    "lr_fpr, lr_tpr, _ = roc_curve(y_test, lr_probs)\n",
    "plt.figure(figsize=(7.5,7.5))\n",
    "plt.plot(ns_fpr, ns_tpr, linestyle='--', label='Baseline')\n",
    "plt.plot(lr_fpr, lr_tpr, marker='.', label='AdaBoost')\n",
    "# axis labels\n",
    "plt.xlabel('False Positive Rate')\n",
    "plt.ylabel('True Positive Rate')\n",
    "# show the legend\n",
    "plt.legend()\n",
    "# show the plot\n",
    "plt.show()"
   ]
  },
  {
   "cell_type": "code",
   "execution_count": 64,
   "metadata": {},
   "outputs": [
    {
     "data": {
      "text/plain": [
       "(0.5, 0.6676933164283092)"
      ]
     },
     "execution_count": 64,
     "metadata": {},
     "output_type": "execute_result"
    }
   ],
   "source": [
    "ns_auc = roc_auc_score(y_test, ns_probs)\n",
    "lr_auc = roc_auc_score(y_test, lr_probs)\n",
    "ns_auc, lr_auc"
   ]
  },
  {
   "cell_type": "markdown",
   "metadata": {},
   "source": [
    "## Population analysis on test set"
   ]
  },
  {
   "cell_type": "code",
   "execution_count": 65,
   "metadata": {},
   "outputs": [],
   "source": [
    "df_test = pd.read_csv(\"resources/df_test.csv\", index_col=0)\n",
    "df_test[\"SubjectAge\"] = df_test[\"SubjectAge\"].apply(clean_age)"
   ]
  },
  {
   "cell_type": "code",
   "execution_count": 66,
   "metadata": {},
   "outputs": [
    {
     "data": {
      "text/plain": [
       "<matplotlib.axes._subplots.AxesSubplot at 0x7fb28f4f9cd0>"
      ]
     },
     "execution_count": 66,
     "metadata": {},
     "output_type": "execute_result"
    },
    {
     "data": {
      "image/png": "[encoded data removed]",
      "text/plain": [
       "<Figure size 720x720 with 1 Axes>"
      ]
     },
     "metadata": {},
     "output_type": "display_data"
    }
   ],
   "source": [
    "df_test.SubjectRaceCode.value_counts().plot.pie(y=\"SubjectRaceCode\", figsize=(10, 10))"
   ]
  },
  {
   "cell_type": "code",
   "execution_count": 67,
   "metadata": {},
   "outputs": [
    {
     "data": {
      "text/plain": [
       "W    81.642071\n",
       "B    15.596417\n",
       "A     1.977244\n",
       "I     0.784268\n",
       "Name: SubjectRaceCode, dtype: float64"
      ]
     },
     "execution_count": 67,
     "metadata": {},
     "output_type": "execute_result"
    }
   ],
   "source": [
    "100*df_test.SubjectRaceCode.value_counts()/len(df_test)"
   ]
  },
  {
   "cell_type": "code",
   "execution_count": 68,
   "metadata": {},
   "outputs": [
    {
     "data": {
      "text/plain": [
       "<matplotlib.axes._subplots.AxesSubplot at 0x7fb293f7ced0>"
      ]
     },
     "execution_count": 68,
     "metadata": {},
     "output_type": "execute_result"
    },
    {
     "data": {
      "image/png": "[encoded data removed]",
      "text/plain": [
       "<Figure size 720x720 with 1 Axes>"
      ]
     },
     "metadata": {},
     "output_type": "display_data"
    }
   ],
   "source": [
    "df_test[df_test[\"VehicleSearchedIndicator\"]==True].SubjectRaceCode.value_counts().plot.pie(y=\"SubjectRaceCode\", figsize=(10, 10))"
   ]
  },
  {
   "cell_type": "code",
   "execution_count": 69,
   "metadata": {},
   "outputs": [
    {
     "data": {
      "text/plain": [
       "W    69.334550\n",
       "B    29.831193\n",
       "A     0.619175\n",
       "I     0.215082\n",
       "Name: SubjectRaceCode, dtype: float64"
      ]
     },
     "execution_count": 69,
     "metadata": {},
     "output_type": "execute_result"
    }
   ],
   "source": [
    "100*df_test[df_test[\"VehicleSearchedIndicator\"]==True].SubjectRaceCode.value_counts()/len(df_test[df_test[\"VehicleSearchedIndicator\"]==True])"
   ]
  },
  {
   "cell_type": "code",
   "execution_count": 70,
   "metadata": {},
   "outputs": [
    {
     "data": {
      "text/plain": [
       "<matplotlib.axes._subplots.AxesSubplot at 0x7fb293170b90>"
      ]
     },
     "execution_count": 70,
     "metadata": {},
     "output_type": "execute_result"
    },
    {
     "data": {
      "image/png": "[encoded data removed]",
      "text/plain": [
       "<Figure size 504x504 with 1 Axes>"
      ]
     },
     "metadata": {},
     "output_type": "display_data"
    }
   ],
   "source": [
    "df_test.SubjectEthnicityCode.value_counts().plot.pie(y=\"SubjectEthnicityCode\", figsize=(7, 7))"
   ]
  },
  {
   "cell_type": "code",
   "execution_count": 71,
   "metadata": {},
   "outputs": [
    {
     "data": {
      "text/plain": [
       "N    84.857973\n",
       "H    13.306275\n",
       "M     1.835753\n",
       "Name: SubjectEthnicityCode, dtype: float64"
      ]
     },
     "execution_count": 71,
     "metadata": {},
     "output_type": "execute_result"
    }
   ],
   "source": [
    "100*df_test.SubjectEthnicityCode.value_counts()/len(df_test)"
   ]
  },
  {
   "cell_type": "code",
   "execution_count": 72,
   "metadata": {},
   "outputs": [
    {
     "data": {
      "text/plain": [
       "<matplotlib.axes._subplots.AxesSubplot at 0x7fb293132dd0>"
      ]
     },
     "execution_count": 72,
     "metadata": {},
     "output_type": "execute_result"
    },
    {
     "data": {
      "image/png": "[encoded data removed]",
      "text/plain": [
       "<Figure size 720x720 with 1 Axes>"
      ]
     },
     "metadata": {},
     "output_type": "display_data"
    }
   ],
   "source": [
    "df_test[df_test[\"VehicleSearchedIndicator\"]==True].SubjectEthnicityCode.value_counts().plot.pie(y=\"SubjectEthnicityCode\", figsize=(10, 10))"
   ]
  },
  {
   "cell_type": "code",
   "execution_count": 73,
   "metadata": {},
   "outputs": [
    {
     "data": {
      "text/plain": [
       "N    75.656651\n",
       "H    23.137587\n",
       "M     1.205762\n",
       "Name: SubjectEthnicityCode, dtype: float64"
      ]
     },
     "execution_count": 73,
     "metadata": {},
     "output_type": "execute_result"
    }
   ],
   "source": [
    "100*df_test[df_test[\"VehicleSearchedIndicator\"]==True].SubjectEthnicityCode.value_counts()/len(df_test[df_test[\"VehicleSearchedIndicator\"]==True])"
   ]
  },
  {
   "cell_type": "code",
   "execution_count": 74,
   "metadata": {},
   "outputs": [
    {
     "data": {
      "text/plain": [
       "<matplotlib.axes._subplots.AxesSubplot at 0x7fb293080f50>"
      ]
     },
     "execution_count": 74,
     "metadata": {},
     "output_type": "execute_result"
    },
    {
     "data": {
      "image/png": "[encoded data removed]",
      "text/plain": [
       "<Figure size 504x504 with 1 Axes>"
      ]
     },
     "metadata": {},
     "output_type": "display_data"
    }
   ],
   "source": [
    "df_test.SubjectAge.value_counts().plot.pie(y=\"SubjectAge\", figsize=(7, 7))"
   ]
  },
  {
   "cell_type": "code",
   "execution_count": 75,
   "metadata": {},
   "outputs": [
    {
     "data": {
      "text/plain": [
       "Young Adult    47.857716\n",
       "Adult          35.455573\n",
       "Senior         15.315456\n",
       "Youth           1.371256\n",
       "Name: SubjectAge, dtype: float64"
      ]
     },
     "execution_count": 75,
     "metadata": {},
     "output_type": "execute_result"
    }
   ],
   "source": [
    "100*df_test.SubjectAge.value_counts()/len(df_test)"
   ]
  },
  {
   "cell_type": "code",
   "execution_count": 76,
   "metadata": {},
   "outputs": [
    {
     "data": {
      "text/plain": [
       "<matplotlib.axes._subplots.AxesSubplot at 0x7fb293055a50>"
      ]
     },
     "execution_count": 76,
     "metadata": {},
     "output_type": "execute_result"
    },
    {
     "data": {
      "image/png": "[encoded data removed]",
      "text/plain": [
       "<Figure size 720x720 with 1 Axes>"
      ]
     },
     "metadata": {},
     "output_type": "display_data"
    }
   ],
   "source": [
    "df_test[df_test[\"VehicleSearchedIndicator\"]==True].SubjectAge.value_counts().plot.pie(y=\"SubjectAge\", figsize=(10, 10))"
   ]
  },
  {
   "cell_type": "code",
   "execution_count": 77,
   "metadata": {},
   "outputs": [
    {
     "data": {
      "text/plain": [
       "Young Adult    73.401551\n",
       "Adult          21.123639\n",
       "Senior          3.702014\n",
       "Youth           1.772795\n",
       "Name: SubjectAge, dtype: float64"
      ]
     },
     "execution_count": 77,
     "metadata": {},
     "output_type": "execute_result"
    }
   ],
   "source": [
    "100*df_test[df_test[\"VehicleSearchedIndicator\"]==True].SubjectAge.value_counts()/len(df_test[df_test[\"VehicleSearchedIndicator\"]==True])"
   ]
  },
  {
   "cell_type": "code",
   "execution_count": 78,
   "metadata": {},
   "outputs": [
    {
     "data": {
      "text/plain": [
       "<matplotlib.axes._subplots.AxesSubplot at 0x7fb29a205590>"
      ]
     },
     "execution_count": 78,
     "metadata": {},
     "output_type": "execute_result"
    },
    {
     "data": {
      "image/png": "[encoded data removed]",
      "text/plain": [
       "<Figure size 504x504 with 1 Axes>"
      ]
     },
     "metadata": {},
     "output_type": "display_data"
    }
   ],
   "source": [
    "df_test.SubjectSexCode.value_counts().plot.pie(y=\"SubjectSexCode\", figsize=(7, 7))"
   ]
  },
  {
   "cell_type": "code",
   "execution_count": 79,
   "metadata": {},
   "outputs": [
    {
     "data": {
      "text/plain": [
       "M    63.234215\n",
       "F    36.765785\n",
       "Name: SubjectSexCode, dtype: float64"
      ]
     },
     "execution_count": 79,
     "metadata": {},
     "output_type": "execute_result"
    }
   ],
   "source": [
    "100*df_test.SubjectSexCode.value_counts()/len(df_test)"
   ]
  },
  {
   "cell_type": "code",
   "execution_count": 80,
   "metadata": {},
   "outputs": [
    {
     "data": {
      "text/plain": [
       "<matplotlib.axes._subplots.AxesSubplot at 0x7fb292ff5150>"
      ]
     },
     "execution_count": 80,
     "metadata": {},
     "output_type": "execute_result"
    },
    {
     "data": {
      "image/png": "[encoded data removed]",
      "text/plain": [
       "<Figure size 720x720 with 1 Axes>"
      ]
     },
     "metadata": {},
     "output_type": "display_data"
    }
   ],
   "source": [
    "df_test[df_test[\"VehicleSearchedIndicator\"]==True].SubjectSexCode.value_counts().plot.pie(y=\"SubjectSexCode\", figsize=(10, 10))"
   ]
  },
  {
   "cell_type": "code",
   "execution_count": 81,
   "metadata": {},
   "outputs": [
    {
     "data": {
      "text/plain": [
       "M    82.128658\n",
       "F    17.871342\n",
       "Name: SubjectSexCode, dtype: float64"
      ]
     },
     "execution_count": 81,
     "metadata": {},
     "output_type": "execute_result"
    }
   ],
   "source": [
    "100*df_test[df_test[\"VehicleSearchedIndicator\"]==True].SubjectSexCode.value_counts()/len(df_test[df_test[\"VehicleSearchedIndicator\"]==True])"
   ]
  },
  {
   "cell_type": "code",
   "execution_count": null,
   "metadata": {},
   "outputs": [],
   "source": []
  }
 ],
 "metadata": {
  "kernelspec": {
   "display_name": "Python 3",
   "language": "python",
   "name": "python3"
  },
  "language_info": {
   "codemirror_mode": {
    "name": "ipython",
    "version": 3
   },
   "file_extension": ".py",
   "mimetype": "text/x-python",
   "name": "python",
   "nbconvert_exporter": "python",
   "pygments_lexer": "ipython3",
   "version": "3.7.4"
  }
 },
 "nbformat": 4,
 "nbformat_minor": 2
}
