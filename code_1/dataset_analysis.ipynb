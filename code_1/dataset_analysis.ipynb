{
 "cells": [
  {
   "cell_type": "code",
   "execution_count": 1,
   "metadata": {},
   "outputs": [],
   "source": [
    "import pandas as pd\n",
    "import numpy as np\n",
    "import copy\n",
    "from features_creation import *\n",
    "import seaborn as sn\n",
    "from matplotlib import pyplot as plt"
   ]
  },
  {
   "cell_type": "code",
   "execution_count": 2,
   "metadata": {},
   "outputs": [],
   "source": [
    "def percentage_of_positives(group):\n",
    "    true_positives = group[(group.ContrabandIndicator == True)].shape[0]\n",
    "    n_vehicles_stopped = group.shape[0]\n",
    "    return 100*true_positives/n_vehicles_stopped"
   ]
  },
  {
   "cell_type": "code",
   "execution_count": 3,
   "metadata": {},
   "outputs": [],
   "source": [
    "def percentage_of_false_positives(group, threshold=0):\n",
    "    false_positives = group[(group.VehicleSearchedIndicator == True) & (group.ContrabandIndicator == False)].shape[0]\n",
    "    n_vehicle_searched = group[(group.VehicleSearchedIndicator == True)].shape[0] \n",
    "    if n_vehicle_searched > threshold:\n",
    "        return 100*false_positives/n_vehicle_searched\n",
    "    else:\n",
    "        return None"
   ]
  },
  {
   "cell_type": "code",
   "execution_count": 4,
   "metadata": {},
   "outputs": [],
   "source": [
    "def precision(group, threshold=0):\n",
    "    true_positives = group[(group.VehicleSearchedIndicator == True) & (group.ContrabandIndicator == True)].shape[0]\n",
    "    n_vehicle_searched = group[(group.VehicleSearchedIndicator == True)].shape[0] \n",
    "    if n_vehicle_searched > threshold:\n",
    "        precision = 100*true_positives/n_vehicle_searched\n",
    "        return precision\n",
    "    else:\n",
    "        return None"
   ]
  },
  {
   "cell_type": "markdown",
   "metadata": {},
   "source": [
    "## Dataset Summary"
   ]
  },
  {
   "cell_type": "code",
   "execution_count": 5,
   "metadata": {},
   "outputs": [],
   "source": [
    "df_train = pd.read_csv(\"resources/train.csv\")"
   ]
  },
  {
   "cell_type": "code",
   "execution_count": 6,
   "metadata": {},
   "outputs": [],
   "source": [
    "file_summary = \"resources/dataset_summary.text\"\n",
    "file = open(file_summary, 'w')\n",
    "new_line = \"\\n#####################################################################\""
   ]
  },
  {
   "cell_type": "code",
   "execution_count": 7,
   "metadata": {},
   "outputs": [
    {
     "data": {
      "text/html": [
       "<div>\n",
       "<style scoped>\n",
       "    .dataframe tbody tr th:only-of-type {\n",
       "        vertical-align: middle;\n",
       "    }\n",
       "\n",
       "    .dataframe tbody tr th {\n",
       "        vertical-align: top;\n",
       "    }\n",
       "\n",
       "    .dataframe thead th {\n",
       "        text-align: right;\n",
       "    }\n",
       "</style>\n",
       "<table border=\"1\" class=\"dataframe\">\n",
       "  <thead>\n",
       "    <tr style=\"text-align: right;\">\n",
       "      <th></th>\n",
       "      <th>VehicleSearchedIndicator</th>\n",
       "      <th>ContrabandIndicator</th>\n",
       "      <th>Department Name</th>\n",
       "      <th>InterventionDateTime</th>\n",
       "      <th>InterventionLocationName</th>\n",
       "      <th>InterventionReasonCode</th>\n",
       "      <th>ReportingOfficerIdentificationID</th>\n",
       "      <th>ResidentIndicator</th>\n",
       "      <th>SearchAuthorizationCode</th>\n",
       "      <th>StatuteReason</th>\n",
       "      <th>SubjectAge</th>\n",
       "      <th>SubjectEthnicityCode</th>\n",
       "      <th>SubjectRaceCode</th>\n",
       "      <th>SubjectSexCode</th>\n",
       "      <th>TownResidentIndicator</th>\n",
       "    </tr>\n",
       "  </thead>\n",
       "  <tbody>\n",
       "    <tr>\n",
       "      <td>0</td>\n",
       "      <td>False</td>\n",
       "      <td>False</td>\n",
       "      <td>New Haven</td>\n",
       "      <td>10/01/2013 12:00:00 AM</td>\n",
       "      <td>NEW HAVEN</td>\n",
       "      <td>V</td>\n",
       "      <td>262</td>\n",
       "      <td>True</td>\n",
       "      <td>N</td>\n",
       "      <td>Stop Sign</td>\n",
       "      <td>31.0</td>\n",
       "      <td>H</td>\n",
       "      <td>W</td>\n",
       "      <td>M</td>\n",
       "      <td>True</td>\n",
       "    </tr>\n",
       "    <tr>\n",
       "      <td>1</td>\n",
       "      <td>False</td>\n",
       "      <td>False</td>\n",
       "      <td>State Police</td>\n",
       "      <td>10/01/2013 12:00:00 AM</td>\n",
       "      <td>WILLINGTON</td>\n",
       "      <td>V</td>\n",
       "      <td>1000002715</td>\n",
       "      <td>False</td>\n",
       "      <td>N</td>\n",
       "      <td>Other</td>\n",
       "      <td>29.0</td>\n",
       "      <td>M</td>\n",
       "      <td>W</td>\n",
       "      <td>M</td>\n",
       "      <td>False</td>\n",
       "    </tr>\n",
       "    <tr>\n",
       "      <td>2</td>\n",
       "      <td>False</td>\n",
       "      <td>False</td>\n",
       "      <td>Plymouth</td>\n",
       "      <td>10/01/2013 12:00:00 AM</td>\n",
       "      <td>Terryville</td>\n",
       "      <td>V</td>\n",
       "      <td>21</td>\n",
       "      <td>True</td>\n",
       "      <td>N</td>\n",
       "      <td>Speed Related</td>\n",
       "      <td>18.0</td>\n",
       "      <td>N</td>\n",
       "      <td>W</td>\n",
       "      <td>M</td>\n",
       "      <td>True</td>\n",
       "    </tr>\n",
       "    <tr>\n",
       "      <td>3</td>\n",
       "      <td>False</td>\n",
       "      <td>False</td>\n",
       "      <td>Plymouth</td>\n",
       "      <td>10/01/2013 12:00:00 AM</td>\n",
       "      <td>Plymouth</td>\n",
       "      <td>V</td>\n",
       "      <td>D1</td>\n",
       "      <td>True</td>\n",
       "      <td>N</td>\n",
       "      <td>Speed Related</td>\n",
       "      <td>52.0</td>\n",
       "      <td>N</td>\n",
       "      <td>W</td>\n",
       "      <td>F</td>\n",
       "      <td>False</td>\n",
       "    </tr>\n",
       "    <tr>\n",
       "      <td>4</td>\n",
       "      <td>False</td>\n",
       "      <td>False</td>\n",
       "      <td>Bethel</td>\n",
       "      <td>10/01/2013 12:00:00 AM</td>\n",
       "      <td>BETHEL</td>\n",
       "      <td>V</td>\n",
       "      <td>08M</td>\n",
       "      <td>True</td>\n",
       "      <td>N</td>\n",
       "      <td>Cell Phone</td>\n",
       "      <td>34.0</td>\n",
       "      <td>N</td>\n",
       "      <td>W</td>\n",
       "      <td>M</td>\n",
       "      <td>False</td>\n",
       "    </tr>\n",
       "  </tbody>\n",
       "</table>\n",
       "</div>"
      ],
      "text/plain": [
       "   VehicleSearchedIndicator  ContrabandIndicator Department Name  \\\n",
       "0                     False                False       New Haven   \n",
       "1                     False                False    State Police   \n",
       "2                     False                False        Plymouth   \n",
       "3                     False                False        Plymouth   \n",
       "4                     False                False          Bethel   \n",
       "\n",
       "     InterventionDateTime InterventionLocationName InterventionReasonCode  \\\n",
       "0  10/01/2013 12:00:00 AM                NEW HAVEN                      V   \n",
       "1  10/01/2013 12:00:00 AM               WILLINGTON                      V   \n",
       "2  10/01/2013 12:00:00 AM               Terryville                      V   \n",
       "3  10/01/2013 12:00:00 AM                 Plymouth                      V   \n",
       "4  10/01/2013 12:00:00 AM                   BETHEL                      V   \n",
       "\n",
       "  ReportingOfficerIdentificationID  ResidentIndicator SearchAuthorizationCode  \\\n",
       "0                              262               True                       N   \n",
       "1                       1000002715              False                       N   \n",
       "2                               21               True                       N   \n",
       "3                               D1               True                       N   \n",
       "4                              08M               True                       N   \n",
       "\n",
       "   StatuteReason  SubjectAge SubjectEthnicityCode SubjectRaceCode  \\\n",
       "0      Stop Sign        31.0                    H               W   \n",
       "1          Other        29.0                    M               W   \n",
       "2  Speed Related        18.0                    N               W   \n",
       "3  Speed Related        52.0                    N               W   \n",
       "4     Cell Phone        34.0                    N               W   \n",
       "\n",
       "  SubjectSexCode  TownResidentIndicator  \n",
       "0              M                   True  \n",
       "1              M                  False  \n",
       "2              M                   True  \n",
       "3              F                  False  \n",
       "4              M                  False  "
      ]
     },
     "execution_count": 7,
     "metadata": {},
     "output_type": "execute_result"
    }
   ],
   "source": [
    "df_train.head()"
   ]
  },
  {
   "cell_type": "code",
   "execution_count": 8,
   "metadata": {},
   "outputs": [
    {
     "data": {
      "text/plain": [
       "(2473643, 15)"
      ]
     },
     "execution_count": 8,
     "metadata": {},
     "output_type": "execute_result"
    }
   ],
   "source": [
    "df_train.shape"
   ]
  },
  {
   "cell_type": "code",
   "execution_count": 9,
   "metadata": {},
   "outputs": [],
   "source": [
    "#updating summary with this information\n",
    "n_records = df_train.shape[0]\n",
    "n_columns = df_train.shape[1]\n",
    "summary = \"Number of records: \" + str(n_records) + new_line\n",
    "summary += \"\\nNumber of columns: \" + str(n_columns) + new_line"
   ]
  },
  {
   "cell_type": "code",
   "execution_count": 10,
   "metadata": {},
   "outputs": [
    {
     "data": {
      "text/plain": [
       "array(['VehicleSearchedIndicator', 'ContrabandIndicator',\n",
       "       'Department Name', 'InterventionDateTime',\n",
       "       'InterventionLocationName', 'InterventionReasonCode',\n",
       "       'ReportingOfficerIdentificationID', 'ResidentIndicator',\n",
       "       'SearchAuthorizationCode', 'StatuteReason', 'SubjectAge',\n",
       "       'SubjectEthnicityCode', 'SubjectRaceCode', 'SubjectSexCode',\n",
       "       'TownResidentIndicator'], dtype=object)"
      ]
     },
     "execution_count": 10,
     "metadata": {},
     "output_type": "execute_result"
    }
   ],
   "source": [
    "#column names\n",
    "column_names = df_train.columns.values\n",
    "column_names"
   ]
  },
  {
   "cell_type": "code",
   "execution_count": 11,
   "metadata": {},
   "outputs": [],
   "source": [
    "#updating summary with this information\n",
    "summary += \"\\nColumns names: \" + str(column_names) + new_line"
   ]
  },
  {
   "cell_type": "code",
   "execution_count": 12,
   "metadata": {},
   "outputs": [
    {
     "data": {
      "text/plain": [
       "VehicleSearchedIndicator               bool\n",
       "ContrabandIndicator                    bool\n",
       "Department Name                      object\n",
       "InterventionDateTime                 object\n",
       "InterventionLocationName             object\n",
       "InterventionReasonCode               object\n",
       "ReportingOfficerIdentificationID     object\n",
       "ResidentIndicator                      bool\n",
       "SearchAuthorizationCode              object\n",
       "StatuteReason                        object\n",
       "SubjectAge                          float64\n",
       "SubjectEthnicityCode                 object\n",
       "SubjectRaceCode                      object\n",
       "SubjectSexCode                       object\n",
       "TownResidentIndicator                  bool\n",
       "dtype: object"
      ]
     },
     "execution_count": 12,
     "metadata": {},
     "output_type": "execute_result"
    }
   ],
   "source": [
    "#column types\n",
    "column_types = df_train.dtypes\n",
    "column_types"
   ]
  },
  {
   "cell_type": "code",
   "execution_count": 13,
   "metadata": {},
   "outputs": [],
   "source": [
    "#updating summary with this information\n",
    "summary += \"\\nColumn types: \" + str(column_types) + new_line"
   ]
  },
  {
   "cell_type": "markdown",
   "metadata": {},
   "source": [
    "### Nulls"
   ]
  },
  {
   "cell_type": "code",
   "execution_count": 14,
   "metadata": {},
   "outputs": [
    {
     "name": "stdout",
     "output_type": "stream",
     "text": [
      "\n",
      "Number of nulls that each column has:\n",
      "\tVehicleSearchedIndicator: 0\n",
      "\tContrabandIndicator: 0\n",
      "\tDepartment Name: 0\n",
      "\tInterventionDateTime: 0\n",
      "\tInterventionLocationName: 36\n",
      "\tInterventionReasonCode: 2\n",
      "\tReportingOfficerIdentificationID: 2\n",
      "\tResidentIndicator: 0\n",
      "\tSearchAuthorizationCode: 10\n",
      "\tStatuteReason: 507\n",
      "\tSubjectAge: 0\n",
      "\tSubjectEthnicityCode: 0\n",
      "\tSubjectRaceCode: 0\n",
      "\tSubjectSexCode: 0\n",
      "\tTownResidentIndicator: 0\n"
     ]
    }
   ],
   "source": [
    "#number of nulls for each column\n",
    "n_nulls = \"\\nNumber of nulls that each column has:\"\n",
    "for i in df_train.columns:\n",
    "    n_nulls += \"\\n\\t\" + str(i) + \": \" + str(len(pd.isna(df_train[i])[pd.isna(df_train[i])==True]))\n",
    "print(n_nulls)"
   ]
  },
  {
   "cell_type": "code",
   "execution_count": 15,
   "metadata": {},
   "outputs": [],
   "source": [
    "#updating summary with this information\n",
    "summary += n_nulls + new_line"
   ]
  },
  {
   "cell_type": "markdown",
   "metadata": {},
   "source": [
    "### Dulicates "
   ]
  },
  {
   "cell_type": "code",
   "execution_count": 16,
   "metadata": {},
   "outputs": [
    {
     "data": {
      "text/plain": [
       "204756"
      ]
     },
     "execution_count": 16,
     "metadata": {},
     "output_type": "execute_result"
    }
   ],
   "source": [
    "duplicates = df_train.duplicated()\n",
    "n_duplicated_records = len(duplicates[duplicates==True])\n",
    "n_duplicated_records"
   ]
  },
  {
   "cell_type": "code",
   "execution_count": 17,
   "metadata": {},
   "outputs": [],
   "source": [
    "#updating summary with this information\n",
    "summary +=  \"\\nNumber of duplicated records: \" + str(n_duplicated_records) + new_line"
   ]
  },
  {
   "cell_type": "code",
   "execution_count": 18,
   "metadata": {},
   "outputs": [],
   "source": [
    "#drop duplicates\n",
    "df_train = df_train[duplicates==False]"
   ]
  },
  {
   "cell_type": "code",
   "execution_count": 19,
   "metadata": {},
   "outputs": [
    {
     "data": {
      "text/plain": [
       "(2268887, 15)"
      ]
     },
     "execution_count": 19,
     "metadata": {},
     "output_type": "execute_result"
    }
   ],
   "source": [
    "df_train.shape"
   ]
  },
  {
   "cell_type": "code",
   "execution_count": 20,
   "metadata": {},
   "outputs": [
    {
     "data": {
      "text/plain": [
       "2268887"
      ]
     },
     "execution_count": 20,
     "metadata": {},
     "output_type": "execute_result"
    }
   ],
   "source": [
    "n_unique_records = df_train.shape[0]\n",
    "n_unique_records"
   ]
  },
  {
   "cell_type": "code",
   "execution_count": 21,
   "metadata": {},
   "outputs": [],
   "source": [
    "#updating summary with this information\n",
    "summary +=  \"\\nNumber of unique records: \" + str(n_unique_records) + new_line"
   ]
  },
  {
   "cell_type": "markdown",
   "metadata": {},
   "source": [
    "## Variables Analysis"
   ]
  },
  {
   "cell_type": "code",
   "execution_count": 22,
   "metadata": {},
   "outputs": [],
   "source": [
    "summary += \"\\n\\n\\t\\t\\tVariables Analysis\" + new_line"
   ]
  },
  {
   "cell_type": "markdown",
   "metadata": {},
   "source": [
    "### VehicleSearchedIndicator\t"
   ]
  },
  {
   "cell_type": "code",
   "execution_count": 23,
   "metadata": {},
   "outputs": [
    {
     "data": {
      "text/plain": [
       "False    2199008\n",
       "True       69879\n",
       "Name: VehicleSearchedIndicator, dtype: int64"
      ]
     },
     "execution_count": 23,
     "metadata": {},
     "output_type": "execute_result"
    }
   ],
   "source": [
    "# if the vehicle was searched or not\n",
    "n_VehicleSearchedIndicator = df_train[\"VehicleSearchedIndicator\"].value_counts()\n",
    "n_VehicleSearchedIndicator"
   ]
  },
  {
   "cell_type": "code",
   "execution_count": 24,
   "metadata": {},
   "outputs": [],
   "source": [
    "summary +=  \"\\n\" + str(n_VehicleSearchedIndicator) + new_line"
   ]
  },
  {
   "cell_type": "code",
   "execution_count": 25,
   "metadata": {},
   "outputs": [
    {
     "data": {
      "text/plain": [
       "<matplotlib.axes._subplots.AxesSubplot at 0x7fb83d600990>"
      ]
     },
     "execution_count": 25,
     "metadata": {},
     "output_type": "execute_result"
    },
    {
     "data": {
      "image/png": "[encoded data removed]",
      "text/plain": [
       "<Figure size 504x504 with 1 Axes>"
      ]
     },
     "metadata": {},
     "output_type": "display_data"
    }
   ],
   "source": [
    "df_train.VehicleSearchedIndicator.value_counts().plot.pie(y=\"VehicleSearchedIndicator\", figsize=(7, 7))"
   ]
  },
  {
   "cell_type": "markdown",
   "metadata": {},
   "source": [
    "### ContrabandIndicator"
   ]
  },
  {
   "cell_type": "code",
   "execution_count": 26,
   "metadata": {},
   "outputs": [
    {
     "data": {
      "text/plain": [
       "False    2243241\n",
       "True       25646\n",
       "Name: ContrabandIndicator, dtype: int64"
      ]
     },
     "execution_count": 26,
     "metadata": {},
     "output_type": "execute_result"
    }
   ],
   "source": [
    "#if the polices found contraband or not; This feature is our target; This is an imbalaced dataset\n",
    "n_ContrabandIndicator = df_train[\"ContrabandIndicator\"].value_counts()\n",
    "n_ContrabandIndicator"
   ]
  },
  {
   "cell_type": "code",
   "execution_count": 27,
   "metadata": {},
   "outputs": [],
   "source": [
    "summary +=  \"\\n\" + str(n_ContrabandIndicator) + new_line"
   ]
  },
  {
   "cell_type": "code",
   "execution_count": 28,
   "metadata": {},
   "outputs": [
    {
     "data": {
      "text/plain": [
       "<matplotlib.axes._subplots.AxesSubplot at 0x7fb83d557bd0>"
      ]
     },
     "execution_count": 28,
     "metadata": {},
     "output_type": "execute_result"
    },
    {
     "data": {
      "image/png": "[encoded data removed]",
      "text/plain": [
       "<Figure size 504x504 with 1 Axes>"
      ]
     },
     "metadata": {},
     "output_type": "display_data"
    }
   ],
   "source": [
    "df_train.ContrabandIndicator.value_counts().plot.pie(y=\"Contraband Indicator\", figsize=(7, 7))"
   ]
  },
  {
   "cell_type": "code",
   "execution_count": 29,
   "metadata": {},
   "outputs": [
    {
     "data": {
      "text/plain": [
       "<matplotlib.axes._subplots.AxesSubplot at 0x7fb83d518a90>"
      ]
     },
     "execution_count": 29,
     "metadata": {},
     "output_type": "execute_result"
    },
    {
     "data": {
      "image/png": "[encoded data removed]",
      "text/plain": [
       "<Figure size 504x504 with 1 Axes>"
      ]
     },
     "metadata": {},
     "output_type": "display_data"
    }
   ],
   "source": [
    "df_train[df_train[\"VehicleSearchedIndicator\"]==True].ContrabandIndicator.value_counts().plot.pie(y=\"Contraband Indicator\", figsize=(7, 7))"
   ]
  },
  {
   "cell_type": "code",
   "execution_count": 30,
   "metadata": {
    "scrolled": true
   },
   "outputs": [
    {
     "data": {
      "text/plain": [
       "<matplotlib.axes._subplots.AxesSubplot at 0x7fb83d4e4f10>"
      ]
     },
     "execution_count": 30,
     "metadata": {},
     "output_type": "execute_result"
    },
    {
     "data": {
      "image/png": "[encoded data removed]",
      "text/plain": [
       "<Figure size 504x504 with 1 Axes>"
      ]
     },
     "metadata": {},
     "output_type": "display_data"
    }
   ],
   "source": [
    "df_train[df_train[\"VehicleSearchedIndicator\"]==False].ContrabandIndicator.value_counts().plot.pie(y=\"Contraband Indicator\", figsize=(7, 7))"
   ]
  },
  {
   "cell_type": "markdown",
   "metadata": {},
   "source": [
    "### Department Name"
   ]
  },
  {
   "cell_type": "code",
   "execution_count": 31,
   "metadata": {},
   "outputs": [],
   "source": [
    "#This feature can be a source of bias"
   ]
  },
  {
   "cell_type": "code",
   "execution_count": 32,
   "metadata": {},
   "outputs": [
    {
     "data": {
      "text/plain": [
       "State Police                320343\n",
       "New Haven                    64399\n",
       "CSP Troop C                  53626\n",
       "CSP Troop F                  48550\n",
       "CSP Troop A                  45983\n",
       "                             ...  \n",
       "MTA                             71\n",
       "Mashantucket Pequot             40\n",
       "MET DIST WATER AUTHORITY         9\n",
       "Mohegan Tribal                   5\n",
       "Mohegan Tribal Police            4\n",
       "Name: Department Name, Length: 122, dtype: int64"
      ]
     },
     "execution_count": 32,
     "metadata": {},
     "output_type": "execute_result"
    }
   ],
   "source": [
    "n_department_name = df_train[\"Department Name\"].value_counts()\n",
    "n_department_name"
   ]
  },
  {
   "cell_type": "code",
   "execution_count": 33,
   "metadata": {},
   "outputs": [
    {
     "data": {
      "text/plain": [
       "array(['Ansonia', 'Avon', 'Berlin', 'Bethel', 'Bloomfield', 'Branford',\n",
       "       'Bridgeport', 'Bristol', 'Brookfield', 'CAPITOL POLICE', 'CCSU',\n",
       "       'CSP Headquarters', 'CSP Troop A', 'CSP Troop B', 'CSP Troop C',\n",
       "       'CSP Troop D', 'CSP Troop E', 'CSP Troop F', 'CSP Troop G',\n",
       "       'CSP Troop H', 'CSP Troop I', 'CSP Troop K', 'CSP Troop L',\n",
       "       'Canton', 'Cheshire', 'Clinton', 'Coventry', 'Cromwell', 'DMV',\n",
       "       'Danbury', 'Darien', 'Derby', 'ECSU', 'East Hampton',\n",
       "       'East Hartford', 'East Haven', 'East Lyme', 'East Windsor',\n",
       "       'Easton', 'Enfield', 'Fairfield', 'Farmington', 'Glastonbury',\n",
       "       'Granby', 'Greenwich', 'Groton City', 'Groton Long Point',\n",
       "       'Groton Town', 'Guilford', 'Hamden', 'Hartford', 'Ledyard',\n",
       "       'MET DIST WATER AUTHORITY', 'MTA', 'MTA Stamford', 'Madison',\n",
       "       'Manchester', 'Mashantucket Pequot', 'Mashantucket Pequot Police',\n",
       "       'Meriden', 'Middlebury', 'Middletown', 'Milford', 'Mohegan Tribal',\n",
       "       'Mohegan Tribal Police', 'Monroe', 'Naugatuck', 'New Britain',\n",
       "       'New Canaan', 'New Haven', 'New London', 'New Milford',\n",
       "       'Newington', 'Newtown', 'North Branford', 'North Haven', 'Norwalk',\n",
       "       'Norwich', 'Old Saybrook', 'Orange', 'Plainfield', 'Plainville',\n",
       "       'Plymouth', 'Portland', 'Putnam', 'Redding', 'Ridgefield',\n",
       "       'Rocky Hill', 'SCSU', 'Seymour', 'Shelton', 'Simsbury',\n",
       "       'South Windsor', 'Southington', 'Stamford', 'State Police',\n",
       "       'Stonington', 'Stratford', 'Suffield', 'Thomaston', 'Torrington',\n",
       "       'Trumbull', 'UCONN', 'Vernon', 'WCSU', 'Wallingford', 'Waterbury',\n",
       "       'Waterford', 'Watertown', 'West Hartford', 'West Haven', 'Weston',\n",
       "       'Westport', 'Wethersfield', 'Willimantic', 'Wilton', 'Windsor',\n",
       "       'Windsor Locks', 'Winsted', 'Wolcott', 'Woodbridge', 'Yale'],\n",
       "      dtype=object)"
      ]
     },
     "execution_count": 33,
     "metadata": {},
     "output_type": "execute_result"
    }
   ],
   "source": [
    "unique_dn = np.sort(df_train[\"Department Name\"].unique())\n",
    "unique_dn"
   ]
  },
  {
   "cell_type": "code",
   "execution_count": 34,
   "metadata": {},
   "outputs": [],
   "source": [
    "summary +=  \"\\nDepartment name: \\n\\t Unique values\" + str(unique_dn) + \", Number of unique values: \" + str(len(unique_dn))+ new_line"
   ]
  },
  {
   "cell_type": "code",
   "execution_count": 35,
   "metadata": {},
   "outputs": [],
   "source": [
    "#we have police departments finishing with police and other that don't\n",
    "#finish with that work but probably it is about the same department"
   ]
  },
  {
   "cell_type": "code",
   "execution_count": 36,
   "metadata": {},
   "outputs": [],
   "source": [
    "clean_text = CleanText(\"Department Name\")"
   ]
  },
  {
   "cell_type": "code",
   "execution_count": 37,
   "metadata": {},
   "outputs": [],
   "source": [
    "df_train = clean_text.fit_transform(df_train)"
   ]
  },
  {
   "cell_type": "code",
   "execution_count": 38,
   "metadata": {},
   "outputs": [
    {
     "data": {
      "text/plain": [
       "state                    320343\n",
       "newhaven                  64399\n",
       "csptroopc                 53626\n",
       "csptroopf                 48550\n",
       "csptroopa                 45983\n",
       "                          ...  \n",
       "mtastamford                 241\n",
       "wcsu                         88\n",
       "mta                          71\n",
       "metdistwaterauthority         9\n",
       "mohegantribal                 9\n",
       "Name: Department Name, Length: 120, dtype: int64"
      ]
     },
     "execution_count": 38,
     "metadata": {},
     "output_type": "execute_result"
    }
   ],
   "source": [
    "df_train[\"Department Name\"].value_counts()"
   ]
  },
  {
   "cell_type": "code",
   "execution_count": 39,
   "metadata": {},
   "outputs": [
    {
     "data": {
      "text/plain": [
       "array(['ansonia', 'avon', 'berlin', 'bethel', 'bloomfield', 'branford',\n",
       "       'bridgeport', 'bristol', 'brookfield', 'canton', 'capitol', 'ccsu',\n",
       "       'cheshire', 'clinton', 'coventry', 'cromwell', 'cspheadquarters',\n",
       "       'csptroopa', 'csptroopb', 'csptroopc', 'csptroopd', 'csptroope',\n",
       "       'csptroopf', 'csptroopg', 'csptrooph', 'csptroopi', 'csptroopk',\n",
       "       'csptroopl', 'danbury', 'darien', 'derby', 'dmv', 'easthampton',\n",
       "       'easthartford', 'easthaven', 'eastlyme', 'easton', 'eastwindsor',\n",
       "       'ecsu', 'enfield', 'fairfield', 'farmington', 'glastonbury',\n",
       "       'granby', 'greenwich', 'grotoncity', 'grotonlongpoint',\n",
       "       'grotontown', 'guilford', 'hamden', 'hartford', 'ledyard',\n",
       "       'madison', 'manchester', 'mashantucketpequot', 'meriden',\n",
       "       'metdistwaterauthority', 'middlebury', 'middletown', 'milford',\n",
       "       'mohegantribal', 'monroe', 'mta', 'mtastamford', 'naugatuck',\n",
       "       'newbritain', 'newcanaan', 'newhaven', 'newington', 'newlondon',\n",
       "       'newmilford', 'newtown', 'northbranford', 'northhaven', 'norwalk',\n",
       "       'norwich', 'oldsaybrook', 'orange', 'plainfield', 'plainville',\n",
       "       'plymouth', 'portland', 'putnam', 'redding', 'ridgefield',\n",
       "       'rockyhill', 'scsu', 'seymour', 'shelton', 'simsbury',\n",
       "       'southington', 'southwindsor', 'stamford', 'state', 'stonington',\n",
       "       'stratford', 'suffield', 'thomaston', 'torrington', 'trumbull',\n",
       "       'uconn', 'vernon', 'wallingford', 'waterbury', 'waterford',\n",
       "       'watertown', 'wcsu', 'westhartford', 'westhaven', 'weston',\n",
       "       'westport', 'wethersfield', 'willimantic', 'wilton', 'windsor',\n",
       "       'windsorlocks', 'winsted', 'wolcott', 'woodbridge', 'yale'],\n",
       "      dtype=object)"
      ]
     },
     "execution_count": 39,
     "metadata": {},
     "output_type": "execute_result"
    }
   ],
   "source": [
    "np.sort(df_train[\"Department Name\"].unique())"
   ]
  },
  {
   "cell_type": "markdown",
   "metadata": {},
   "source": [
    "### InterventionDateTime"
   ]
  },
  {
   "cell_type": "code",
   "execution_count": 40,
   "metadata": {},
   "outputs": [
    {
     "data": {
      "text/plain": [
       "03/07/2014 12:00:00 AM    269\n",
       "03/08/2014 12:00:00 AM    266\n",
       "03/17/2014 12:00:00 AM    260\n",
       "03/21/2014 12:00:00 AM    252\n",
       "03/22/2014 12:00:00 AM    250\n",
       "                         ... \n",
       "12/06/2015 07:49:09 AM      1\n",
       "09/13/2016 09:24:26 AM      1\n",
       "08/13/2016 11:22:21 AM      1\n",
       "10/11/2015 09:33:27 AM      1\n",
       "03/01/2016 11:21:00 PM      1\n",
       "Name: InterventionDateTime, Length: 1450465, dtype: int64"
      ]
     },
     "execution_count": 40,
     "metadata": {},
     "output_type": "execute_result"
    }
   ],
   "source": [
    "n_InterventionDateTime = df_train[\"InterventionDateTime\"].value_counts()\n",
    "n_InterventionDateTime"
   ]
  },
  {
   "cell_type": "code",
   "execution_count": 41,
   "metadata": {},
   "outputs": [],
   "source": [
    "summary +=  \"\\n Top 5 values for time:\\n\" + str(n_InterventionDateTime.head()) + new_line"
   ]
  },
  {
   "cell_type": "code",
   "execution_count": 42,
   "metadata": {},
   "outputs": [],
   "source": [
    "#this feature need some cleaning"
   ]
  },
  {
   "cell_type": "code",
   "execution_count": 43,
   "metadata": {},
   "outputs": [],
   "source": [
    "time_features = TimeFeatures(\"InterventionDateTime\")"
   ]
  },
  {
   "cell_type": "code",
   "execution_count": 44,
   "metadata": {},
   "outputs": [],
   "source": [
    "df_train[\"InterventionDateTime\"] = df_train[\"InterventionDateTime\"].apply(time_features.clean_timestamp)\n",
    "df_train[\"InterventionDateTime\"] = df_train[\"InterventionDateTime\"].apply(lambda x: pd.to_datetime(x, format=\"%m/%d/%Y %H:%M:%S\"))\n",
    "df_train = time_features.create_features(df_train)"
   ]
  },
  {
   "cell_type": "code",
   "execution_count": 45,
   "metadata": {},
   "outputs": [
    {
     "data": {
      "text/html": [
       "<div>\n",
       "<style scoped>\n",
       "    .dataframe tbody tr th:only-of-type {\n",
       "        vertical-align: middle;\n",
       "    }\n",
       "\n",
       "    .dataframe tbody tr th {\n",
       "        vertical-align: top;\n",
       "    }\n",
       "\n",
       "    .dataframe thead th {\n",
       "        text-align: right;\n",
       "    }\n",
       "</style>\n",
       "<table border=\"1\" class=\"dataframe\">\n",
       "  <thead>\n",
       "    <tr style=\"text-align: right;\">\n",
       "      <th></th>\n",
       "      <th>InterventionDateTime</th>\n",
       "      <th>weekday</th>\n",
       "      <th>hour</th>\n",
       "      <th>month</th>\n",
       "    </tr>\n",
       "  </thead>\n",
       "  <tbody>\n",
       "    <tr>\n",
       "      <td>0</td>\n",
       "      <td>2013-10-01</td>\n",
       "      <td>1</td>\n",
       "      <td>0</td>\n",
       "      <td>10</td>\n",
       "    </tr>\n",
       "    <tr>\n",
       "      <td>1</td>\n",
       "      <td>2013-10-01</td>\n",
       "      <td>1</td>\n",
       "      <td>0</td>\n",
       "      <td>10</td>\n",
       "    </tr>\n",
       "    <tr>\n",
       "      <td>2</td>\n",
       "      <td>2013-10-01</td>\n",
       "      <td>1</td>\n",
       "      <td>0</td>\n",
       "      <td>10</td>\n",
       "    </tr>\n",
       "    <tr>\n",
       "      <td>3</td>\n",
       "      <td>2013-10-01</td>\n",
       "      <td>1</td>\n",
       "      <td>0</td>\n",
       "      <td>10</td>\n",
       "    </tr>\n",
       "    <tr>\n",
       "      <td>4</td>\n",
       "      <td>2013-10-01</td>\n",
       "      <td>1</td>\n",
       "      <td>0</td>\n",
       "      <td>10</td>\n",
       "    </tr>\n",
       "  </tbody>\n",
       "</table>\n",
       "</div>"
      ],
      "text/plain": [
       "  InterventionDateTime  weekday  hour  month\n",
       "0           2013-10-01        1     0     10\n",
       "1           2013-10-01        1     0     10\n",
       "2           2013-10-01        1     0     10\n",
       "3           2013-10-01        1     0     10\n",
       "4           2013-10-01        1     0     10"
      ]
     },
     "execution_count": 45,
     "metadata": {},
     "output_type": "execute_result"
    }
   ],
   "source": [
    "df_train[[\"InterventionDateTime\", \"weekday\", \"hour\", \"month\"]].head()"
   ]
  },
  {
   "cell_type": "code",
   "execution_count": 46,
   "metadata": {},
   "outputs": [
    {
     "data": {
      "text/plain": [
       "Timestamp('2013-10-01 00:00:00')"
      ]
     },
     "execution_count": 46,
     "metadata": {},
     "output_type": "execute_result"
    }
   ],
   "source": [
    "min(df_train.InterventionDateTime)"
   ]
  },
  {
   "cell_type": "code",
   "execution_count": 47,
   "metadata": {},
   "outputs": [
    {
     "data": {
      "text/plain": [
       "Timestamp('2018-05-16 02:02:00')"
      ]
     },
     "execution_count": 47,
     "metadata": {},
     "output_type": "execute_result"
    }
   ],
   "source": [
    "max(df_train.InterventionDateTime)"
   ]
  },
  {
   "cell_type": "code",
   "execution_count": 48,
   "metadata": {},
   "outputs": [
    {
     "data": {
      "text/plain": [
       "<matplotlib.axes._subplots.AxesSubplot at 0x7fb83d6304d0>"
      ]
     },
     "execution_count": 48,
     "metadata": {},
     "output_type": "execute_result"
    },
    {
     "data": {
      "image/png": "[encoded data removed]",
      "text/plain": [
       "<Figure size 504x504 with 1 Axes>"
      ]
     },
     "metadata": {},
     "output_type": "display_data"
    }
   ],
   "source": [
    "df_train.InterventionDateTime.dt.year.value_counts().plot.pie(figsize=(7, 7))"
   ]
  },
  {
   "cell_type": "code",
   "execution_count": 49,
   "metadata": {},
   "outputs": [
    {
     "data": {
      "text/plain": [
       "weekday\n",
       "0    1.018946\n",
       "1    1.055806\n",
       "2    1.037778\n",
       "3    1.080983\n",
       "4    1.204205\n",
       "5    1.300366\n",
       "6    1.236021\n",
       "dtype: float64"
      ]
     },
     "execution_count": 49,
     "metadata": {},
     "output_type": "execute_result"
    }
   ],
   "source": [
    "df_train.groupby(\"weekday\").apply(percentage_of_positives)"
   ]
  },
  {
   "cell_type": "code",
   "execution_count": 50,
   "metadata": {},
   "outputs": [
    {
     "data": {
      "text/plain": [
       "<matplotlib.axes._subplots.AxesSubplot at 0x7fb7f4e06f90>"
      ]
     },
     "execution_count": 50,
     "metadata": {},
     "output_type": "execute_result"
    },
    {
     "data": {
      "image/png": "[encoded data removed]",
      "text/plain": [
       "<Figure size 504x504 with 1 Axes>"
      ]
     },
     "metadata": {},
     "output_type": "display_data"
    }
   ],
   "source": [
    "df_train.InterventionDateTime.dt.weekday.value_counts().plot.pie(figsize=(7, 7))"
   ]
  },
  {
   "cell_type": "code",
   "execution_count": 51,
   "metadata": {},
   "outputs": [
    {
     "data": {
      "text/plain": [
       "month\n",
       "1     1.333623\n",
       "2     1.300940\n",
       "3     1.280365\n",
       "4     1.047170\n",
       "5     1.052251\n",
       "6     1.045035\n",
       "7     0.969460\n",
       "8     0.921490\n",
       "9     1.010911\n",
       "10    1.094201\n",
       "11    1.107019\n",
       "12    1.242769\n",
       "dtype: float64"
      ]
     },
     "execution_count": 51,
     "metadata": {},
     "output_type": "execute_result"
    }
   ],
   "source": [
    "df_train.groupby(\"month\").apply(percentage_of_positives)"
   ]
  },
  {
   "cell_type": "code",
   "execution_count": 52,
   "metadata": {},
   "outputs": [
    {
     "data": {
      "text/plain": [
       "<matplotlib.axes._subplots.AxesSubplot at 0x7fb7d9457910>"
      ]
     },
     "execution_count": 52,
     "metadata": {},
     "output_type": "execute_result"
    },
    {
     "data": {
      "image/png": "[encoded data removed]",
      "text/plain": [
       "<Figure size 504x504 with 1 Axes>"
      ]
     },
     "metadata": {},
     "output_type": "display_data"
    }
   ],
   "source": [
    "df_train.InterventionDateTime.dt.month.value_counts().plot.pie(figsize=(7, 7))"
   ]
  },
  {
   "cell_type": "code",
   "execution_count": 53,
   "metadata": {},
   "outputs": [
    {
     "data": {
      "text/plain": [
       "hour\n",
       "2     2.305946\n",
       "3     2.025783\n",
       "1     1.996920\n",
       "22    1.848334\n",
       "21    1.751788\n",
       "0     1.728128\n",
       "20    1.541997\n",
       "19    1.479377\n",
       "23    1.337973\n",
       "18    1.308389\n",
       "17    1.132096\n",
       "4     1.085719\n",
       "14    0.969818\n",
       "16    0.965984\n",
       "15    0.937610\n",
       "12    0.918179\n",
       "13    0.847162\n",
       "11    0.768341\n",
       "10    0.669803\n",
       "9     0.517799\n",
       "5     0.418529\n",
       "8     0.317741\n",
       "7     0.274607\n",
       "6     0.247785\n",
       "dtype: float64"
      ]
     },
     "execution_count": 53,
     "metadata": {},
     "output_type": "execute_result"
    }
   ],
   "source": [
    "df_train.groupby(\"hour\").apply(percentage_of_positives).sort_values(ascending=False)"
   ]
  },
  {
   "cell_type": "code",
   "execution_count": 54,
   "metadata": {},
   "outputs": [
    {
     "data": {
      "text/plain": [
       "<matplotlib.axes._subplots.AxesSubplot at 0x7fb7e3f19b50>"
      ]
     },
     "execution_count": 54,
     "metadata": {},
     "output_type": "execute_result"
    },
    {
     "data": {
      "image/png": "[encoded data removed]",
      "text/plain": [
       "<Figure size 504x504 with 1 Axes>"
      ]
     },
     "metadata": {},
     "output_type": "display_data"
    }
   ],
   "source": [
    "df_train.groupby(\"hour\").apply(percentage_of_positives).plot.pie(figsize=(7, 7))"
   ]
  },
  {
   "cell_type": "code",
   "execution_count": 55,
   "metadata": {},
   "outputs": [
    {
     "data": {
      "text/plain": [
       "<matplotlib.axes._subplots.AxesSubplot at 0x7fb7ed246590>"
      ]
     },
     "execution_count": 55,
     "metadata": {},
     "output_type": "execute_result"
    },
    {
     "data": {
      "image/png": "[encoded data removed]",
      "text/plain": [
       "<Figure size 504x504 with 1 Axes>"
      ]
     },
     "metadata": {},
     "output_type": "display_data"
    }
   ],
   "source": [
    "df_train.InterventionDateTime.dt.hour.value_counts().plot.pie(figsize=(7, 7))"
   ]
  },
  {
   "cell_type": "markdown",
   "metadata": {},
   "source": [
    "### InterventionLocationName"
   ]
  },
  {
   "cell_type": "code",
   "execution_count": 56,
   "metadata": {},
   "outputs": [
    {
     "data": {
      "text/plain": [
       "NEW HAVEN               73451\n",
       "WALLINGFORD             41251\n",
       "Manchester              33862\n",
       "WESTPORT                30560\n",
       "Enfield                 29980\n",
       "                        ...  \n",
       "East Main Street @ R        1\n",
       "345                         1\n",
       "east main and columb        1\n",
       "E Main St @ Hartford        1\n",
       "High Street @ Culver        1\n",
       "Name: InterventionLocationName, Length: 2504, dtype: int64"
      ]
     },
     "execution_count": 56,
     "metadata": {},
     "output_type": "execute_result"
    }
   ],
   "source": [
    "n_InterventionLocationName = df_train[\"InterventionLocationName\"].value_counts()\n",
    "n_InterventionLocationName"
   ]
  },
  {
   "cell_type": "code",
   "execution_count": 57,
   "metadata": {},
   "outputs": [],
   "source": [
    "summary +=  \"\\nNumber unique values for InterventionLocationName before lower case and spaces removing: \" + str(len(n_InterventionLocationName)) + new_line"
   ]
  },
  {
   "cell_type": "code",
   "execution_count": 58,
   "metadata": {},
   "outputs": [
    {
     "data": {
      "text/plain": [
       "array(['', '\"oakville\\n\"', '****unknown', ..., 'yorkshireateastma',\n",
       "       'yourcity', 'ywallingford'], dtype=object)"
      ]
     },
     "execution_count": 58,
     "metadata": {},
     "output_type": "execute_result"
    }
   ],
   "source": [
    "unique_cleanned_values = np.sort(df_train[\"InterventionLocationName\"].astype(\"str\").apply(lambda x: x.lower().replace(\" \", \"\")).unique())\n",
    "unique_cleanned_values"
   ]
  },
  {
   "cell_type": "code",
   "execution_count": 59,
   "metadata": {},
   "outputs": [],
   "source": [
    "summary +=  \"\\nNumber unique values for InterventionLocationName after lower case and spaces removing: \" + str(len(unique_cleanned_values)) + new_line"
   ]
  },
  {
   "cell_type": "code",
   "execution_count": 60,
   "metadata": {},
   "outputs": [
    {
     "data": {
      "text/plain": [
       "array([' ', '  Windsor Locks', ' BRISTOL', ..., 'wyoming at kansas',\n",
       "       'wyoming ave', 'yorkshire at east ma'], dtype=object)"
      ]
     },
     "execution_count": 60,
     "metadata": {},
     "output_type": "execute_result"
    }
   ],
   "source": [
    "np.sort(df_train[\"InterventionLocationName\"].astype(\"str\").unique())"
   ]
  },
  {
   "cell_type": "code",
   "execution_count": 61,
   "metadata": {},
   "outputs": [
    {
     "data": {
      "text/plain": [
       "newhaven              82489\n",
       "stamford              47582\n",
       "hartford              45758\n",
       "wallingford           44263\n",
       "danbury               43184\n",
       "                      ...  \n",
       "privatedr                 1\n",
       "newhaen                   1\n",
       "winstedroad/pinewo        1\n",
       "345                       1\n",
       "                          1\n",
       "Name: InterventionLocationName, Length: 1556, dtype: int64"
      ]
     },
     "execution_count": 61,
     "metadata": {},
     "output_type": "execute_result"
    }
   ],
   "source": [
    "iln_clean = df_train[\"InterventionLocationName\"].astype(\"str\").apply(lambda x: x.lower().replace(\" \", \"\")).value_counts()\n",
    "iln_clean "
   ]
  },
  {
   "cell_type": "code",
   "execution_count": 62,
   "metadata": {},
   "outputs": [
    {
     "data": {
      "text/plain": [
       "array(['****unknown', '1-name?', '106', '202', '`', 'aetnaaveatkansas',\n",
       "       'albertst', 'albertstreet', 'allenrd', 'andover', 'ansonia',\n",
       "       'ashford', 'avon', 'barkhamsted', 'beaconfalls', 'berlin',\n",
       "       'bethany', 'bethel', 'bethlehem', 'bloomfield', 'bolton', 'bozrah',\n",
       "       'branford', 'bridgeport', 'bridgewater', 'brightwoodave',\n",
       "       'bristol', 'bristol,ct', 'brookfield', 'brooklyn', 'burlington',\n",
       "       'business', 'byram', 'canaan', 'canterbury', 'canton',\n",
       "       'ccsu-newbritain', 'centerbrook', 'centralvillage', 'chaplin',\n",
       "       'charlesst', 'charlesstreet', 'cheshire', 'chester',\n",
       "       'chickahominy', 'churchst', 'churchstreet', 'cityofgroton',\n",
       "       'clinton', 'colchester', 'colebrook', 'columbia', 'cornwall',\n",
       "       'coscob', 'countyrd', 'countyrd/bradford', 'countyrdatbradfor',\n",
       "       'countyroad', 'countyroadatbradf', 'coventry', 'cromwell',\n",
       "       'danbury', 'danielson', 'darien', 'deepriver', 'derby', 'dibblest',\n",
       "       'durham', 'e.main', 'ealbert@oak', 'ealbertst', 'eastalbert',\n",
       "       'eastalbert/park', 'eastalbertst', 'eastalbertstatpa',\n",
       "       'eastalbertstreet', 'eastelm', 'eastelmst', 'eastelmstreet',\n",
       "       'eastford', 'eastgranby', 'easthaddam', 'easthampton',\n",
       "       'easthartford', 'easthaven', 'eastlyme', 'eastmain',\n",
       "       'eastmain/eastelm', 'eastmain/torringf', 'eastmainatgreenri',\n",
       "       'eastmainattorring', 'eastmainst', 'eastmainst.',\n",
       "       'eastmainst/crestwo', 'eastmainst/torri', 'eastmainst@grisw',\n",
       "       'eastmainstreet', 'eastmainstreet@c', 'eastmainstreetand',\n",
       "       'eastmainstreetat', 'easton', 'eastwindsor', 'egranby',\n",
       "       'ehartford', 'ellington', 'elmwood', 'elyme', 'emain', 'emainst',\n",
       "       'enfield', 'essex', 'f', 'fairfield', 'farley/mcdermott',\n",
       "       'farleypl', 'farleyplace', 'farleyplatmcdermo', 'farmington',\n",
       "       'franklin', 'franklinst', 'galesferry', 'glastonbury', 'glenville',\n",
       "       'goshen', 'goshenroad', 'granby', 'greenwich', 'griswold',\n",
       "       'groton', 'grotoncity', 'grotonlongpoint', 'guilford', 'haddam',\n",
       "       'hamden', 'hampton', 'hart', 'hartford', 'hartland', 'harwinton',\n",
       "       'harwintonave', 'hebron', 'highland', 'highlandave',\n",
       "       'highlandave/workman', 'highlandavenue', 'highst',\n",
       "       'highstatculverts', 'highstreet', 'ivoryton', 'kennedydr',\n",
       "       'kennedydrive', 'kent', 'killingly', 'killingworth',\n",
       "       'laurelhill/rt8', 'lebanon', 'ledyard', 'lisbon', 'lisound',\n",
       "       'litchfield', 'litchfieldatjackso', 'litchfieldst',\n",
       "       'litchfieldstreet', 'lostacres', 'lyme', 'm', 'madison', 'mainst',\n",
       "       'mainst.', 'mainstreet', 'manchester', 'mansfield', 'marlborough',\n",
       "       'mashantucket', 'mcdermottave', 'meriden', 'metropolitandistric',\n",
       "       'middlebury', 'middlefield', 'middletown', 'migeonave',\n",
       "       'migeonavenue', 'milbrook', 'milford', 'milldale', 'monroe',\n",
       "       'montville', 'moosup', 'morris', 'msytic', 'mystic', 'n', 'n/a',\n",
       "       'nan', 'naugatuck', 'nelmst', 'newbritain', 'newcanaan',\n",
       "       'newfairfield', 'newhartford', 'newharwintonrd',\n",
       "       'newharwintonroada', 'newhaven', 'newington', 'newlitchfield',\n",
       "       'newlitchfieldatir', 'newlitchfieldst', 'newlitchfieldstree',\n",
       "       'newlondon', 'newmilford', 'newtown', 'ngtn', 'nmianus', 'norfolk',\n",
       "       'norfolkrd', 'northbranford', 'northcanaan', 'northelm',\n",
       "       'northelmst', 'northelmstreet', 'northford', 'northhaven',\n",
       "       'northstonington', 'northwindham', 'norwalk', 'norwich', 'oakave',\n",
       "       'oakville', \"oldg'wch\", 'oldgreenwich', 'oldlyme', 'oldmystic',\n",
       "       'oldsaybrook', 'orange', 'othertown', 'oxford', 'pawcatuck',\n",
       "       'pearlst', 'pemberwick', 'plainfield', 'plainville', 'plantsville',\n",
       "       'plymouth', 'pomfret', 'portland', 'preston', 'privatelot',\n",
       "       'prospect', 'prospectst', 'prospectstreet', 'putnam', 'quakerhill',\n",
       "       'redding', 'residential', 'ridgefield', 'riverside',\n",
       "       'riversideave', 'riversideave.', 'riversideavenue', 'rock',\n",
       "       'rockyhill', 'roxbury', 'rt202', 'rt202atbelleview', 'salem',\n",
       "       'salisbury', 'sandyhook', 'scotland', 'seymour', 'sharon',\n",
       "       'shelton', 'sherman', 'simsbury', 'smainst', 'somers', 'southbury',\n",
       "       'southington', 'southmain', 'southmainst', 'southmainstreet',\n",
       "       'southmainstreetat', 'southport', 'southwindham', 'southwindsor',\n",
       "       'sowindsor', 'sprague', 'stafford', 'stamford', 'stateofnewyork',\n",
       "       'sterling', 'stonington', 'storrs', 'stratford', 'suffield',\n",
       "       'summerstreet', 'taftville', 'tariffville', 'taylorst',\n",
       "       'terryville', 'thomaston', 'thompson', 'tolland', 'torringfordst',\n",
       "       'torringfordstreet', 'torringfordwest', 'torringfordwestat',\n",
       "       'torringfordwestst', 'torringfordweststr', 'torrington',\n",
       "       'torrington/wincheste', 'trumbull', 'uncasville', 'union',\n",
       "       'unionville', 'vernon', 'voluntown', 'w', 'wallingford', 'warren',\n",
       "       'washighton', 'washington', 'waterbury', 'waterford', 'waterst',\n",
       "       'waterstreet', 'watertown', 'wauregan', 'weatogue', 'westbrook',\n",
       "       'westhartford', 'westhaven', 'weston', 'westport', 'westsimsbury',\n",
       "       'wethersfield', 'willimantic', 'willington', 'wilson/taylor',\n",
       "       'wilsonave', 'wilton', 'winchester', 'windham', 'windhamcenter',\n",
       "       'windsor', 'windsorlocks', 'winsted', 'winstedrd', 'winstedroad',\n",
       "       'winthrop', 'winthrop/majorbesse', 'winthropst',\n",
       "       'winthropst/major', 'winthropstatmajor', 'winthropstreet',\n",
       "       'wolcott', 'wolcottave', 'woodbridge', 'woodbury', 'woodstock',\n",
       "       'wyomingave', 'wyomingavenue', 'yourcity'], dtype=object)"
      ]
     },
     "execution_count": 62,
     "metadata": {},
     "output_type": "execute_result"
    }
   ],
   "source": [
    "iln_clean_more_than_100 = iln_clean[iln_clean>5].index\n",
    "np.sort(iln_clean_more_than_100.values)"
   ]
  },
  {
   "cell_type": "code",
   "execution_count": 63,
   "metadata": {},
   "outputs": [],
   "source": [
    "summary +=  \"\\n Unique InterventionLocationName in lower case and without spaces with more than 100 occurencies\\n\" + str(iln_clean_more_than_100.values) + new_line"
   ]
  },
  {
   "cell_type": "code",
   "execution_count": 64,
   "metadata": {},
   "outputs": [],
   "source": [
    "clean_text = CleanText(\"InterventionLocationName\")"
   ]
  },
  {
   "cell_type": "code",
   "execution_count": 65,
   "metadata": {},
   "outputs": [],
   "source": [
    "df_train = clean_text.fit_transform(df_train)"
   ]
  },
  {
   "cell_type": "code",
   "execution_count": 66,
   "metadata": {},
   "outputs": [
    {
     "data": {
      "text/plain": [
       "newhaven            82491\n",
       "stamford            47582\n",
       "hartford            45758\n",
       "wallingford         44266\n",
       "danbury             43184\n",
       "                    ...  \n",
       "southbmain              1\n",
       "eastalbertstatpa        1\n",
       "345                     1\n",
       "spraguebaltic           1\n",
       "schibi                  1\n",
       "Name: InterventionLocationName, Length: 827, dtype: int64"
      ]
     },
     "execution_count": 66,
     "metadata": {},
     "output_type": "execute_result"
    }
   ],
   "source": [
    "df_train[\"InterventionLocationName\"].value_counts()"
   ]
  },
  {
   "cell_type": "code",
   "execution_count": 67,
   "metadata": {},
   "outputs": [
    {
     "data": {
      "text/plain": [
       "array(['106', '1name', '202', '211high', '576main', 'aetnaa', 'albert',\n",
       "       'allenrd', 'amherst', 'andover', 'ansonia', 'ashford', 'avon',\n",
       "       'barkhamsted', 'beaconfalls', 'berlin', 'bethany', 'bethel',\n",
       "       'bethlehem', 'bloomfield', 'bolton', 'bozrah', 'bradfordrd',\n",
       "       'branford', 'bridgeport', 'bridgewater', 'brightwooda', 'bristol',\n",
       "       'bristolct', 'brookfield', 'brooklyn', 'burlington', 'business',\n",
       "       'byram', 'canaan', 'canterbury', 'canton', 'ccsunewbritain',\n",
       "       'centerbrook', 'centralvillage', 'chaplin', 'charles', 'cheshire',\n",
       "       'chester', 'chickahominy', 'church', 'cityofgroton', 'clinton',\n",
       "       'colchester', 'colebrook', 'columbia', 'cornwall', 'coscob',\n",
       "       'countyrd', 'countyroad', 'coventry', 'cromwell', 'culvert',\n",
       "       'danbury', 'danielson', 'darien', 'deepriver', 'derby', 'dibble',\n",
       "       'durham', 'ealbert', 'eastalbert', 'eastelm', 'eastford',\n",
       "       'eastgranby', 'easthaddam', 'easthampton', 'easthartford',\n",
       "       'easthaven', 'eastlyme', 'eastmain', 'eastmainstreetand', 'easton',\n",
       "       'eastpearl', 'eastwindsor', 'eelm', 'egranby', 'ehartford',\n",
       "       'ellington', 'elmwood', 'elyme', 'emain', 'enfield', 'essex', 'f',\n",
       "       'fairfield', 'farley', 'farleypl', 'farleyplace', 'farmington',\n",
       "       'forest', 'franklin', 'galesferry', 'glastonbury', 'glen',\n",
       "       'goshen', 'goshenroad', 'granby', 'greenwich', 'griswold',\n",
       "       'groton', 'grotoncity', 'grotonlongpoint', 'grove', 'guilford',\n",
       "       'haddam', 'hamden', 'hampton', 'hart', 'hartford', 'hartland',\n",
       "       'harwinton', 'harwintona', 'hebron', 'high', 'highland',\n",
       "       'highlanda', 'ivoryton', 'kennedy', 'kent', 'killingly',\n",
       "       'killingworth', 'laurelhill', 'lebanon', 'ledyard', 'lisbon',\n",
       "       'lisound', 'litchfield', 'lostacres', 'lyme', 'm', 'madison',\n",
       "       'main', 'manchester', 'mansfield', 'marlborough', 'mashantucket',\n",
       "       'mcdermotta', 'meriden', 'metropolitandistric', 'middlebury',\n",
       "       'middlefield', 'middletown', 'migeon', 'migeona', 'milbrook',\n",
       "       'milford', 'milldale', 'monroe', 'mont', 'moosup', 'morris',\n",
       "       'msytic', 'mystic', 'n', 'naugatuck', 'nelm', 'newbritain',\n",
       "       'newcanaan', 'newfairfield', 'newhartford', 'newharwinton',\n",
       "       'newharwintona', 'newharwintonrd', 'newharwintonroada', 'newhaven',\n",
       "       'newington', 'newlitchfield', 'newlitchfieldstree', 'newlondon',\n",
       "       'newmilford', 'newtown', 'ngtn', 'nmianus', 'norfolk', 'norfolkrd',\n",
       "       'northbranford', 'northcanaan', 'northelm', 'northford',\n",
       "       'northhaven', 'northstonington', 'northwindham', 'norwalk',\n",
       "       'norwich', 'norwood', 'oak', 'oaka', 'oldgreenwich', 'oldgwch',\n",
       "       'oldlyme', 'oldmystic', 'oldsaybrook', 'orange', 'others', 'oxbow',\n",
       "       'oxford', 'parka', 'pawcatuck', 'pearl', 'pemberwick', 'plain',\n",
       "       'plainfield', 'plants', 'plymouth', 'pomfret', 'portland',\n",
       "       'preston', 'privatelot', 'prospect', 'pulaski', 'putnam',\n",
       "       'quakerhill', 'redding', 'residential', 'ridgefield', 'riverside',\n",
       "       'riversidea', 'rock', 'rockyhill', 'roxbury', 'rt202', 'salem',\n",
       "       'salisbury', 'sandyhook', 'scotland', 'seymour', 'sharon',\n",
       "       'shelton', 'sherman', 'simsbury', 'smain', 'somers', 'southbury',\n",
       "       'southington', 'southmain', 'southport', 'southwindham',\n",
       "       'southwindsor', 'sowindsor', 'sprague', 'stafford', 'stamford',\n",
       "       'stateofnewyork', 'sterling', 'stonington', 'storrs', 'stratford',\n",
       "       'suffield', 'summer', 'taft', 'tariff', 'taylor', 'terry',\n",
       "       'thomaston', 'thompson', 'tolland', 'torringford', 'torringfordwe',\n",
       "       'torringfordwest', 'torringfordweststr', 'torrington', 'trumbull',\n",
       "       'turnera', 'uncas', 'union', 'vernon', 'voluntown', 'w', 'wall',\n",
       "       'wallingford', 'warren', 'washighton', 'washington', 'waterbury',\n",
       "       'waterford', 'watertown', 'wauregan', 'weatogue', 'westbrook',\n",
       "       'westhartford', 'westhaven', 'weston', 'westport', 'westsimsbury',\n",
       "       'wethersfield', 'willimantic', 'willington', 'willow', 'wilson',\n",
       "       'wilsona', 'wilton', 'winchester', 'windham', 'windhamcenter',\n",
       "       'windsor', 'windsorlocks', 'winsted', 'winstedrd', 'winstedroad',\n",
       "       'winthrop', 'wolcott', 'wolcotta', 'woodbridge', 'woodbury',\n",
       "       'woodstock', 'workmana', 'wyominga'], dtype=object)"
      ]
     },
     "execution_count": 67,
     "metadata": {},
     "output_type": "execute_result"
    }
   ],
   "source": [
    "iln_cleaned = df_train[\"InterventionLocationName\"].value_counts()[df_train[\"InterventionLocationName\"].value_counts()>5].index\n",
    "np.sort(iln_cleaned)"
   ]
  },
  {
   "cell_type": "code",
   "execution_count": 68,
   "metadata": {},
   "outputs": [],
   "source": [
    "set_others = SetOthers(\"InterventionLocationName\", 100) #try with 10, 25, 50, 75, 100"
   ]
  },
  {
   "cell_type": "code",
   "execution_count": 69,
   "metadata": {},
   "outputs": [],
   "source": [
    "df_train = set_others.fit_transform(df_train)"
   ]
  },
  {
   "cell_type": "code",
   "execution_count": 70,
   "metadata": {},
   "outputs": [
    {
     "data": {
      "text/plain": [
       "newhaven       82491\n",
       "stamford       47582\n",
       "hartford       45758\n",
       "wallingford    44266\n",
       "danbury        43184\n",
       "               ...  \n",
       "winthrop         139\n",
       "milldale         132\n",
       "highlanda        132\n",
       "eastalbert       112\n",
       "eastelm          101\n",
       "Name: InterventionLocationName, Length: 218, dtype: int64"
      ]
     },
     "execution_count": 70,
     "metadata": {},
     "output_type": "execute_result"
    }
   ],
   "source": [
    "df_train[\"InterventionLocationName\"].value_counts()"
   ]
  },
  {
   "cell_type": "code",
   "execution_count": 71,
   "metadata": {},
   "outputs": [
    {
     "data": {
      "text/plain": [
       "InterventionLocationName\n",
       "winsted         5.111111\n",
       "westhartford    3.687972\n",
       "lostacres       3.212851\n",
       "wallingford     3.011341\n",
       "cityofgroton    2.976190\n",
       "                  ...   \n",
       "f               0.000000\n",
       "emain           0.000000\n",
       "eastelm         0.000000\n",
       "eastalbert      0.000000\n",
       "southport       0.000000\n",
       "Length: 218, dtype: float64"
      ]
     },
     "execution_count": 71,
     "metadata": {},
     "output_type": "execute_result"
    }
   ],
   "source": [
    "df_train.groupby(\"InterventionLocationName\").apply(percentage_of_positives).sort_values(ascending=False)"
   ]
  },
  {
   "cell_type": "markdown",
   "metadata": {},
   "source": [
    "### StatuteReason"
   ]
  },
  {
   "cell_type": "code",
   "execution_count": 72,
   "metadata": {
    "scrolled": true
   },
   "outputs": [
    {
     "data": {
      "text/plain": [
       "Speed Related             625023\n",
       "Defective Lights          208260\n",
       "Registration              207988\n",
       "Cell Phone                200607\n",
       "Moving Violation          176237\n",
       "Other                     164193\n",
       "Traffic Control Signal    162939\n",
       "Stop Sign                 150677\n",
       "STC Violation             113289\n",
       "Seatbelt                   77053\n",
       "Display of Plates          62391\n",
       "Other/Error                43661\n",
       "Window Tint                25287\n",
       "Administrative Offense     24709\n",
       "Suspended License          11519\n",
       "Unlicensed Operation        8342\n",
       "Equipment Violation         6174\n",
       "Stop Sign                     31\n",
       "Name: StatuteReason, dtype: int64"
      ]
     },
     "execution_count": 72,
     "metadata": {},
     "output_type": "execute_result"
    }
   ],
   "source": [
    "n_StatuteReason = df_train[\"StatuteReason\"].value_counts()\n",
    "n_StatuteReason"
   ]
  },
  {
   "cell_type": "code",
   "execution_count": 73,
   "metadata": {},
   "outputs": [],
   "source": [
    "summary +=  \"\\n\" + str(n_StatuteReason) + new_line"
   ]
  },
  {
   "cell_type": "code",
   "execution_count": 74,
   "metadata": {},
   "outputs": [
    {
     "data": {
      "text/plain": [
       "StatuteReason\n",
       "Administrative Offense    5.123639\n",
       "Window Tint               4.085103\n",
       "Equipment Violation       3.368967\n",
       "Display of Plates         3.010050\n",
       "Other                     2.716316\n",
       "Suspended License         2.656481\n",
       "Other/Error               2.104853\n",
       "Moving Violation          1.858293\n",
       "Unlicensed Operation      1.726205\n",
       "Defective Lights          1.563910\n",
       "Seatbelt                  1.142071\n",
       "Stop Sign                 0.839544\n",
       "Registration              0.832740\n",
       "Traffic Control Signal    0.764703\n",
       "Speed Related             0.483822\n",
       "Cell Phone                0.298594\n",
       "STC Violation             0.135936\n",
       "Stop Sign                 0.000000\n",
       "dtype: float64"
      ]
     },
     "execution_count": 74,
     "metadata": {},
     "output_type": "execute_result"
    }
   ],
   "source": [
    "df_train.groupby(\"StatuteReason\").apply(percentage_of_positives).sort_values(ascending=False)"
   ]
  },
  {
   "cell_type": "markdown",
   "metadata": {},
   "source": [
    "### InterventionReasonCode"
   ]
  },
  {
   "cell_type": "code",
   "execution_count": 75,
   "metadata": {},
   "outputs": [
    {
     "data": {
      "text/plain": [
       "V     2000365\n",
       "E      223501\n",
       "I       45016\n",
       "no          3\n",
       "Name: InterventionReasonCode, dtype: int64"
      ]
     },
     "execution_count": 75,
     "metadata": {},
     "output_type": "execute_result"
    }
   ],
   "source": [
    "n_InterventionReasonCode = df_train[\"InterventionReasonCode\"].value_counts()\n",
    "n_InterventionReasonCode"
   ]
  },
  {
   "cell_type": "code",
   "execution_count": 76,
   "metadata": {},
   "outputs": [],
   "source": [
    "summary +=  \"\\n\" + str(n_InterventionReasonCode) + new_line"
   ]
  },
  {
   "cell_type": "code",
   "execution_count": 77,
   "metadata": {},
   "outputs": [
    {
     "data": {
      "text/plain": [
       "<matplotlib.axes._subplots.AxesSubplot at 0x7fb7f66f2b90>"
      ]
     },
     "execution_count": 77,
     "metadata": {},
     "output_type": "execute_result"
    },
    {
     "data": {
      "image/png": "[encoded data removed]",
      "text/plain": [
       "<Figure size 504x504 with 1 Axes>"
      ]
     },
     "metadata": {},
     "output_type": "display_data"
    }
   ],
   "source": [
    "df_train[\"InterventionReasonCode\"][df_train[\"InterventionReasonCode\"]!=\"no\"].value_counts().plot.pie(figsize=(7, 7))"
   ]
  },
  {
   "cell_type": "code",
   "execution_count": 78,
   "metadata": {},
   "outputs": [
    {
     "data": {
      "text/plain": [
       "InterventionReasonCode\n",
       "I     4.518393\n",
       "E     2.021915\n",
       "V     0.954476\n",
       "no    0.000000\n",
       "dtype: float64"
      ]
     },
     "execution_count": 78,
     "metadata": {},
     "output_type": "execute_result"
    }
   ],
   "source": [
    "df_train.groupby(\"InterventionReasonCode\").apply(percentage_of_positives).sort_values(ascending=False)"
   ]
  },
  {
   "cell_type": "markdown",
   "metadata": {},
   "source": [
    "### ReportingOfficerIdentificationID"
   ]
  },
  {
   "cell_type": "code",
   "execution_count": 79,
   "metadata": {},
   "outputs": [],
   "source": [
    "#This feature can be a source of bias"
   ]
  },
  {
   "cell_type": "code",
   "execution_count": 80,
   "metadata": {},
   "outputs": [
    {
     "data": {
      "text/plain": [
       "WCW0264        8183\n",
       "790642042      7765\n",
       "1051           7166\n",
       "1000002598     5562\n",
       "1000002029     5430\n",
       "               ... \n",
       "PSC5613           1\n",
       "10761             1\n",
       "O034              1\n",
       "21935/23750       1\n",
       "738               1\n",
       "Name: ReportingOfficerIdentificationID, Length: 8593, dtype: int64"
      ]
     },
     "execution_count": 80,
     "metadata": {},
     "output_type": "execute_result"
    }
   ],
   "source": [
    "n_ReportingOfficerIdentificationID = df_train[\"ReportingOfficerIdentificationID\"].value_counts()\n",
    "n_ReportingOfficerIdentificationID"
   ]
  },
  {
   "cell_type": "code",
   "execution_count": 81,
   "metadata": {},
   "outputs": [
    {
     "data": {
      "text/plain": [
       "WCW0264       8183\n",
       "790642042     7765\n",
       "1051          7166\n",
       "1000002598    5562\n",
       "1000002029    5430\n",
       "Name: ReportingOfficerIdentificationID, dtype: int64"
      ]
     },
     "execution_count": 81,
     "metadata": {},
     "output_type": "execute_result"
    }
   ],
   "source": [
    "n_ReportingOfficerIdentificationID.head()"
   ]
  },
  {
   "cell_type": "code",
   "execution_count": 82,
   "metadata": {},
   "outputs": [],
   "source": [
    "summary +=  \"\\nTop 5: \" + str(n_ReportingOfficerIdentificationID.head()) + new_line\n",
    "summary +=  \"\\nNumber unique values for ReportingOfficerIdentificationID: \" + str(len(n_ReportingOfficerIdentificationID)) + new_line"
   ]
  },
  {
   "cell_type": "markdown",
   "metadata": {},
   "source": [
    "### ResidentIndicator"
   ]
  },
  {
   "cell_type": "code",
   "execution_count": 83,
   "metadata": {},
   "outputs": [
    {
     "data": {
      "text/plain": [
       "True     1955377\n",
       "False     313510\n",
       "Name: ResidentIndicator, dtype: int64"
      ]
     },
     "execution_count": 83,
     "metadata": {},
     "output_type": "execute_result"
    }
   ],
   "source": [
    "n_ResidentIndicator = df_train[\"ResidentIndicator\"].value_counts()\n",
    "n_ResidentIndicator"
   ]
  },
  {
   "cell_type": "code",
   "execution_count": 84,
   "metadata": {},
   "outputs": [],
   "source": [
    "summary +=  \"\\n\" + str(n_ResidentIndicator) + new_line"
   ]
  },
  {
   "cell_type": "code",
   "execution_count": 85,
   "metadata": {},
   "outputs": [
    {
     "data": {
      "text/plain": [
       "ResidentIndicator\n",
       "True     1.191791\n",
       "False    0.747026\n",
       "dtype: float64"
      ]
     },
     "execution_count": 85,
     "metadata": {},
     "output_type": "execute_result"
    }
   ],
   "source": [
    "df_train.groupby(\"ResidentIndicator\").apply(percentage_of_positives).sort_values(ascending=False)"
   ]
  },
  {
   "cell_type": "code",
   "execution_count": 86,
   "metadata": {},
   "outputs": [
    {
     "data": {
      "text/plain": [
       "<matplotlib.axes._subplots.AxesSubplot at 0x7fb7f7c7af10>"
      ]
     },
     "execution_count": 86,
     "metadata": {},
     "output_type": "execute_result"
    },
    {
     "data": {
      "image/png": "[encoded data removed]",
      "text/plain": [
       "<Figure size 504x504 with 1 Axes>"
      ]
     },
     "metadata": {},
     "output_type": "display_data"
    }
   ],
   "source": [
    "df_train[\"ResidentIndicator\"].value_counts().plot.pie(figsize=(7, 7))"
   ]
  },
  {
   "cell_type": "markdown",
   "metadata": {},
   "source": [
    "### TownResidentIndicator"
   ]
  },
  {
   "cell_type": "code",
   "execution_count": 87,
   "metadata": {},
   "outputs": [],
   "source": [
    "n_TownResidentIndicator = df_train[\"TownResidentIndicator\"].value_counts()"
   ]
  },
  {
   "cell_type": "code",
   "execution_count": 88,
   "metadata": {},
   "outputs": [],
   "source": [
    "summary +=  \"\\n\" + str(n_TownResidentIndicator) + new_line"
   ]
  },
  {
   "cell_type": "code",
   "execution_count": 89,
   "metadata": {},
   "outputs": [
    {
     "data": {
      "text/plain": [
       "TownResidentIndicator\n",
       "True     1.373161\n",
       "False    1.021568\n",
       "dtype: float64"
      ]
     },
     "execution_count": 89,
     "metadata": {},
     "output_type": "execute_result"
    }
   ],
   "source": [
    "df_train.groupby(\"TownResidentIndicator\").apply(percentage_of_positives).sort_values(ascending=False)"
   ]
  },
  {
   "cell_type": "code",
   "execution_count": 90,
   "metadata": {},
   "outputs": [
    {
     "data": {
      "text/plain": [
       "<matplotlib.axes._subplots.AxesSubplot at 0x7fb7f58228d0>"
      ]
     },
     "execution_count": 90,
     "metadata": {},
     "output_type": "execute_result"
    },
    {
     "data": {
      "image/png": "[encoded data removed]",
      "text/plain": [
       "<Figure size 504x504 with 1 Axes>"
      ]
     },
     "metadata": {},
     "output_type": "display_data"
    }
   ],
   "source": [
    "df_train[\"TownResidentIndicator\"].value_counts().plot.pie(figsize=(7, 7))"
   ]
  },
  {
   "cell_type": "markdown",
   "metadata": {},
   "source": [
    "### Age"
   ]
  },
  {
   "cell_type": "code",
   "execution_count": 91,
   "metadata": {},
   "outputs": [
    {
     "data": {
      "text/plain": [
       "count    2.268887e+06\n",
       "mean     3.864314e+01\n",
       "std      1.495402e+01\n",
       "min      1.000000e+00\n",
       "25%      2.600000e+01\n",
       "50%      3.600000e+01\n",
       "75%      5.000000e+01\n",
       "max      9.900000e+01\n",
       "Name: SubjectAge, dtype: float64"
      ]
     },
     "execution_count": 91,
     "metadata": {},
     "output_type": "execute_result"
    }
   ],
   "source": [
    "age_describe = df_train[\"SubjectAge\"].describe()\n",
    "age_describe"
   ]
  },
  {
   "cell_type": "code",
   "execution_count": 92,
   "metadata": {},
   "outputs": [],
   "source": [
    "summary +=  \"\\n\" + str(age_describe) + new_line"
   ]
  },
  {
   "cell_type": "code",
   "execution_count": 93,
   "metadata": {},
   "outputs": [],
   "source": [
    "df_train[\"SubjectAge\"] = df_train[\"SubjectAge\"].astype(float)"
   ]
  },
  {
   "cell_type": "code",
   "execution_count": 94,
   "metadata": {},
   "outputs": [
    {
     "data": {
      "text/plain": [
       "1.0"
      ]
     },
     "execution_count": 94,
     "metadata": {},
     "output_type": "execute_result"
    }
   ],
   "source": [
    "min_age = min(df_train[\"SubjectAge\"])\n",
    "min_age"
   ]
  },
  {
   "cell_type": "code",
   "execution_count": 95,
   "metadata": {},
   "outputs": [
    {
     "data": {
      "text/plain": [
       "99.0"
      ]
     },
     "execution_count": 95,
     "metadata": {},
     "output_type": "execute_result"
    }
   ],
   "source": [
    "max_age = max(df_train[\"SubjectAge\"])\n",
    "max_age"
   ]
  },
  {
   "cell_type": "markdown",
   "metadata": {},
   "source": [
    "Let's split ages in these ranges:    \n",
    "\n",
    "Youth (<18)   \n",
    "\n",
    "Young Adult (18 to 35)   \n",
    "\n",
    "Adult (36 to 55)   \n",
    "\n",
    "Senior (56 and up)"
   ]
  },
  {
   "cell_type": "code",
   "execution_count": 96,
   "metadata": {},
   "outputs": [
    {
     "data": {
      "text/plain": [
       "array([[<matplotlib.axes._subplots.AxesSubplot object at 0x7fb7f9151190>]],\n",
       "      dtype=object)"
      ]
     },
     "execution_count": 96,
     "metadata": {},
     "output_type": "execute_result"
    },
    {
     "data": {
      "image/png": "[encoded data removed]",
      "text/plain": [
       "<Figure size 432x288 with 1 Axes>"
      ]
     },
     "metadata": {
      "needs_background": "light"
     },
     "output_type": "display_data"
    }
   ],
   "source": [
    "df_train.hist(column=\"SubjectAge\")"
   ]
  },
  {
   "cell_type": "code",
   "execution_count": 97,
   "metadata": {},
   "outputs": [],
   "source": [
    "def clean_age(value):\n",
    "    if value < 18:\n",
    "        return \"Youth\"\n",
    "    elif value >= 18 and value <=35:\n",
    "        return \"Young Adult\"\n",
    "    elif value  >= 36 and value <=55:\n",
    "        return \"Adult\"\n",
    "    else:\n",
    "        return \"Senior\""
   ]
  },
  {
   "cell_type": "code",
   "execution_count": 98,
   "metadata": {},
   "outputs": [],
   "source": [
    "df_train[\"SubjectAge\"] = df_train[\"SubjectAge\"].apply(clean_age)"
   ]
  },
  {
   "cell_type": "markdown",
   "metadata": {},
   "source": [
    "### SearchAuthorizationCode"
   ]
  },
  {
   "cell_type": "code",
   "execution_count": 99,
   "metadata": {},
   "outputs": [],
   "source": [
    "n_SearchAuthorizationCode = df_train[\"SearchAuthorizationCode\"].value_counts()"
   ]
  },
  {
   "cell_type": "code",
   "execution_count": 100,
   "metadata": {},
   "outputs": [],
   "source": [
    "summary +=  \"\\n\" + str(n_SearchAuthorizationCode) + new_line"
   ]
  },
  {
   "cell_type": "code",
   "execution_count": 101,
   "metadata": {},
   "outputs": [
    {
     "data": {
      "text/plain": [
       "<matplotlib.axes._subplots.AxesSubplot at 0x7fb7f1e93f90>"
      ]
     },
     "execution_count": 101,
     "metadata": {},
     "output_type": "execute_result"
    },
    {
     "data": {
      "image/png": "[encoded data removed]",
      "text/plain": [
       "<Figure size 504x504 with 1 Axes>"
      ]
     },
     "metadata": {},
     "output_type": "display_data"
    }
   ],
   "source": [
    "df_train[\"SearchAuthorizationCode\"].value_counts().plot.pie(figsize=(7, 7))"
   ]
  },
  {
   "cell_type": "code",
   "execution_count": 102,
   "metadata": {},
   "outputs": [
    {
     "data": {
      "text/plain": [
       "SearchAuthorizationCode\n",
       "C    24.910104\n",
       "I    11.693604\n",
       "N     0.134890\n",
       "O    34.895425\n",
       "dtype: float64"
      ]
     },
     "execution_count": 102,
     "metadata": {},
     "output_type": "execute_result"
    }
   ],
   "source": [
    "df_train.groupby(\"SearchAuthorizationCode\").apply(percentage_of_positives)"
   ]
  },
  {
   "cell_type": "code",
   "execution_count": 103,
   "metadata": {},
   "outputs": [
    {
     "data": {
      "text/plain": [
       "<matplotlib.axes._subplots.AxesSubplot at 0x7fb833b97e10>"
      ]
     },
     "execution_count": 103,
     "metadata": {},
     "output_type": "execute_result"
    },
    {
     "data": {
      "image/png": "[encoded data removed]",
      "text/plain": [
       "<Figure size 504x504 with 1 Axes>"
      ]
     },
     "metadata": {},
     "output_type": "display_data"
    }
   ],
   "source": [
    "df_train.groupby(\"SearchAuthorizationCode\").apply(percentage_of_positives).plot.pie(figsize=(7, 7))"
   ]
  },
  {
   "cell_type": "code",
   "execution_count": 104,
   "metadata": {},
   "outputs": [
    {
     "data": {
      "text/plain": [
       "SearchAuthorizationCode\n",
       "C    74.890202\n",
       "I    88.115737\n",
       "N    86.707435\n",
       "O    46.870689\n",
       "dtype: float64"
      ]
     },
     "execution_count": 104,
     "metadata": {},
     "output_type": "execute_result"
    }
   ],
   "source": [
    "df_train.groupby(\"SearchAuthorizationCode\").apply(percentage_of_false_positives) #try encoding by 0 or 1"
   ]
  },
  {
   "cell_type": "markdown",
   "metadata": {},
   "source": [
    "### SubjectSexCode"
   ]
  },
  {
   "cell_type": "code",
   "execution_count": 105,
   "metadata": {},
   "outputs": [],
   "source": [
    "n_SubjectSexCode = df_train[\"SubjectSexCode\"].value_counts()"
   ]
  },
  {
   "cell_type": "code",
   "execution_count": 106,
   "metadata": {},
   "outputs": [],
   "source": [
    "summary +=  \"\\n\" + str(n_SubjectSexCode) + new_line"
   ]
  },
  {
   "cell_type": "code",
   "execution_count": 107,
   "metadata": {},
   "outputs": [
    {
     "data": {
      "text/plain": [
       "<matplotlib.axes._subplots.AxesSubplot at 0x7fb833af1410>"
      ]
     },
     "execution_count": 107,
     "metadata": {},
     "output_type": "execute_result"
    },
    {
     "data": {
      "image/png": "[encoded data removed]",
      "text/plain": [
       "<Figure size 504x504 with 1 Axes>"
      ]
     },
     "metadata": {},
     "output_type": "display_data"
    }
   ],
   "source": [
    "df_train[\"SubjectSexCode\"].value_counts().plot.pie(figsize=(7, 7))"
   ]
  },
  {
   "cell_type": "markdown",
   "metadata": {},
   "source": [
    "### SubjectRaceCode"
   ]
  },
  {
   "cell_type": "code",
   "execution_count": 108,
   "metadata": {},
   "outputs": [
    {
     "data": {
      "text/plain": [
       "W    1856712\n",
       "B     350133\n",
       "A      44419\n",
       "I      17623\n",
       "Name: SubjectRaceCode, dtype: int64"
      ]
     },
     "execution_count": 108,
     "metadata": {},
     "output_type": "execute_result"
    }
   ],
   "source": [
    "n_SubjectRaceCode = df_train[\"SubjectRaceCode\"].value_counts()\n",
    "n_SubjectRaceCode"
   ]
  },
  {
   "cell_type": "code",
   "execution_count": 109,
   "metadata": {},
   "outputs": [],
   "source": [
    "summary +=  \"\\n\" + str(n_SubjectRaceCode) + new_line"
   ]
  },
  {
   "cell_type": "code",
   "execution_count": 110,
   "metadata": {},
   "outputs": [
    {
     "data": {
      "text/plain": [
       "<matplotlib.axes._subplots.AxesSubplot at 0x7fb833aba810>"
      ]
     },
     "execution_count": 110,
     "metadata": {},
     "output_type": "execute_result"
    },
    {
     "data": {
      "image/png": "[encoded data removed]",
      "text/plain": [
       "<Figure size 504x504 with 1 Axes>"
      ]
     },
     "metadata": {},
     "output_type": "display_data"
    }
   ],
   "source": [
    "df_train[\"SubjectRaceCode\"].value_counts().plot.pie(figsize=(7, 7))"
   ]
  },
  {
   "cell_type": "markdown",
   "metadata": {},
   "source": [
    "### SubjectEthnicityCode"
   ]
  },
  {
   "cell_type": "code",
   "execution_count": 111,
   "metadata": {},
   "outputs": [
    {
     "data": {
      "text/plain": [
       "N    1925881\n",
       "H     297619\n",
       "M      45387\n",
       "Name: SubjectEthnicityCode, dtype: int64"
      ]
     },
     "execution_count": 111,
     "metadata": {},
     "output_type": "execute_result"
    }
   ],
   "source": [
    "n_SubjectEthnicityCode = df_train[\"SubjectEthnicityCode\"].value_counts()\n",
    "n_SubjectEthnicityCode"
   ]
  },
  {
   "cell_type": "code",
   "execution_count": 112,
   "metadata": {},
   "outputs": [],
   "source": [
    "summary +=  \"\\n\" + str(n_SubjectEthnicityCode) + new_line"
   ]
  },
  {
   "cell_type": "code",
   "execution_count": 113,
   "metadata": {},
   "outputs": [
    {
     "data": {
      "text/plain": [
       "<matplotlib.axes._subplots.AxesSubplot at 0x7fb833a91250>"
      ]
     },
     "execution_count": 113,
     "metadata": {},
     "output_type": "execute_result"
    },
    {
     "data": {
      "image/png": "[encoded data removed]",
      "text/plain": [
       "<Figure size 504x504 with 1 Axes>"
      ]
     },
     "metadata": {},
     "output_type": "display_data"
    }
   ],
   "source": [
    "df_train[\"SubjectEthnicityCode\"].value_counts().plot.pie(figsize=(7, 7))"
   ]
  },
  {
   "cell_type": "code",
   "execution_count": 114,
   "metadata": {},
   "outputs": [],
   "source": [
    "file.write(summary)\n",
    "file.close()"
   ]
  },
  {
   "cell_type": "markdown",
   "metadata": {},
   "source": [
    "# Search for Bias"
   ]
  },
  {
   "cell_type": "markdown",
   "metadata": {},
   "source": [
    "## SubjectRaceCode, SubjectEthnicityCode, SubjectSexCode, SubjectAge"
   ]
  },
  {
   "cell_type": "code",
   "execution_count": 115,
   "metadata": {},
   "outputs": [],
   "source": [
    "def evaluate_bias(row):\n",
    "    row_ = copy.copy(row)\n",
    "    n_nulls = len(row[pd.isna(row)])\n",
    "    len_row = len(row)\n",
    "    n_not_nulls = len_row - n_nulls\n",
    "    row_ = row_.dropna()\n",
    "    if n_not_nulls > 1:\n",
    "        return max(row_) - min(row_)\n",
    "    else:\n",
    "        return None  "
   ]
  },
  {
   "cell_type": "code",
   "execution_count": 116,
   "metadata": {},
   "outputs": [],
   "source": [
    "def diffs(row):\n",
    "    row_ = copy.copy(row)\n",
    "    n_nulls = len(row[pd.isna(row)])\n",
    "    len_row = len(row)\n",
    "    n_not_nulls = len_row - n_nulls\n",
    "    row_ = row_.dropna()\n",
    "    array = row_.values\n",
    "    if n_not_nulls > 1:\n",
    "        diff = []\n",
    "        for i in range(0, len(array)-1):\n",
    "            for j in range(i+1, len(array)):\n",
    "                diff.append(abs(array[i]-array[j]))\n",
    "        return diff\n",
    "    else:\n",
    "        return None  "
   ]
  },
  {
   "cell_type": "code",
   "execution_count": 117,
   "metadata": {},
   "outputs": [],
   "source": [
    "def evaluate_bias_by_group(group, threshold=100):\n",
    "    police_src = df_train.groupby(by=group).apply(lambda x: precision(x, threshold))\n",
    "    result = police_src.unstack(level=[1,2,3,4])\n",
    "    result[\"Max Diff\"] = result.apply(evaluate_bias, axis=1)\n",
    "    result = result.sort_values(by=\"Max Diff\", ascending=False)\n",
    "    result[\"Diff\"] = result.drop(columns=\"Max Diff\").apply(diffs, axis=1)\n",
    "    result = result[(pd.isna(result[\"Max Diff\"])!=True)]\n",
    "    return result"
   ]
  },
  {
   "cell_type": "markdown",
   "metadata": {},
   "source": [
    "### By Department Name"
   ]
  },
  {
   "cell_type": "code",
   "execution_count": 118,
   "metadata": {},
   "outputs": [
    {
     "data": {
      "text/plain": [
       "Department Name  SubjectRaceCode  SubjectEthnicityCode  SubjectAge   SubjectSexCode\n",
       "ansonia          A                H                     Adult        F                   5\n",
       "                                                                     M                   6\n",
       "                                                        Senior       M                   2\n",
       "                                                        Young Adult  F                   6\n",
       "                                                                     M                   4\n",
       "                                                                                      ... \n",
       "yale             W                N                     Senior       M                 192\n",
       "                                                        Young Adult  F                 309\n",
       "                                                                     M                 515\n",
       "                                                        Youth        F                   7\n",
       "                                                                     M                   7\n",
       "Name: VehicleSearchedIndicator, Length: 6458, dtype: int64"
      ]
     },
     "execution_count": 118,
     "metadata": {},
     "output_type": "execute_result"
    }
   ],
   "source": [
    "#number of occurenceis of each protected group\n",
    "pg_counts = df_train.groupby(by=[\"Department Name\",\"SubjectRaceCode\", \"SubjectEthnicityCode\", \"SubjectAge\",\"SubjectSexCode\"]).count().VehicleSearchedIndicator\n",
    "pg_counts"
   ]
  },
  {
   "cell_type": "code",
   "execution_count": 149,
   "metadata": {},
   "outputs": [
    {
     "data": {
      "text/plain": [
       "(1772, 4686)"
      ]
     },
     "execution_count": 149,
     "metadata": {},
     "output_type": "execute_result"
    }
   ],
   "source": [
    "len(pg_counts[pg_counts>=100]), len(pg_counts[pg_counts<100])"
   ]
  },
  {
   "cell_type": "code",
   "execution_count": 120,
   "metadata": {},
   "outputs": [
    {
     "data": {
      "text/plain": [
       "(351.32966862805824, 1577.1017454864568, 16.0)"
      ]
     },
     "execution_count": 120,
     "metadata": {},
     "output_type": "execute_result"
    }
   ],
   "source": [
    "pg_counts.mean(), pg_counts.std(), pg_counts.median()"
   ]
  },
  {
   "cell_type": "code",
   "execution_count": 121,
   "metadata": {},
   "outputs": [
    {
     "name": "stderr",
     "output_type": "stream",
     "text": [
      "/home/ines/anaconda3/lib/python3.7/site-packages/pandas/core/generic.py:3946: PerformanceWarning: dropping on a non-lexsorted multi-index without a level parameter may impact performance.\n",
      "  new_axis = axis.drop(labels, errors=errors)\n"
     ]
    }
   ],
   "source": [
    "dn_bias_analysis = evaluate_bias_by_group(group=[\"Department Name\",\"SubjectRaceCode\", \"SubjectEthnicityCode\", \"SubjectAge\",\"SubjectSexCode\"], threshold=100)"
   ]
  },
  {
   "cell_type": "code",
   "execution_count": 122,
   "metadata": {},
   "outputs": [
    {
     "data": {
      "text/html": [
       "<div>\n",
       "<style scoped>\n",
       "    .dataframe tbody tr th:only-of-type {\n",
       "        vertical-align: middle;\n",
       "    }\n",
       "\n",
       "    .dataframe tbody tr th {\n",
       "        vertical-align: top;\n",
       "    }\n",
       "\n",
       "    .dataframe thead tr th {\n",
       "        text-align: left;\n",
       "    }\n",
       "\n",
       "    .dataframe thead tr:last-of-type th {\n",
       "        text-align: right;\n",
       "    }\n",
       "</style>\n",
       "<table border=\"1\" class=\"dataframe\">\n",
       "  <thead>\n",
       "    <tr>\n",
       "      <th>SubjectRaceCode</th>\n",
       "      <th colspan=\"13\" halign=\"left\">A</th>\n",
       "      <th colspan=\"2\" halign=\"left\">I</th>\n",
       "      <th colspan=\"2\" halign=\"left\">A</th>\n",
       "      <th colspan=\"2\" halign=\"left\">I</th>\n",
       "      <th>Max Diff</th>\n",
       "      <th>Diff</th>\n",
       "    </tr>\n",
       "    <tr>\n",
       "      <th>SubjectEthnicityCode</th>\n",
       "      <th colspan=\"5\" halign=\"left\">H</th>\n",
       "      <th colspan=\"3\" halign=\"left\">M</th>\n",
       "      <th colspan=\"2\" halign=\"left\">N</th>\n",
       "      <th>...</th>\n",
       "      <th colspan=\"2\" halign=\"left\">H</th>\n",
       "      <th colspan=\"2\" halign=\"left\">H</th>\n",
       "      <th colspan=\"2\" halign=\"left\">M</th>\n",
       "      <th colspan=\"2\" halign=\"left\">M</th>\n",
       "      <th></th>\n",
       "      <th></th>\n",
       "    </tr>\n",
       "    <tr>\n",
       "      <th>SubjectAge</th>\n",
       "      <th colspan=\"2\" halign=\"left\">Adult</th>\n",
       "      <th>Senior</th>\n",
       "      <th colspan=\"2\" halign=\"left\">Young Adult</th>\n",
       "      <th>Adult</th>\n",
       "      <th>Senior</th>\n",
       "      <th>Young Adult</th>\n",
       "      <th colspan=\"2\" halign=\"left\">Adult</th>\n",
       "      <th>...</th>\n",
       "      <th colspan=\"2\" halign=\"left\">Youth</th>\n",
       "      <th>Youth</th>\n",
       "      <th>Senior</th>\n",
       "      <th colspan=\"2\" halign=\"left\">Youth</th>\n",
       "      <th colspan=\"2\" halign=\"left\">Youth</th>\n",
       "      <th></th>\n",
       "      <th></th>\n",
       "    </tr>\n",
       "    <tr>\n",
       "      <th>SubjectSexCode</th>\n",
       "      <th>F</th>\n",
       "      <th>M</th>\n",
       "      <th>M</th>\n",
       "      <th>F</th>\n",
       "      <th>M</th>\n",
       "      <th>M</th>\n",
       "      <th>M</th>\n",
       "      <th>F</th>\n",
       "      <th>F</th>\n",
       "      <th>M</th>\n",
       "      <th>...</th>\n",
       "      <th>M</th>\n",
       "      <th>F</th>\n",
       "      <th>F</th>\n",
       "      <th>F</th>\n",
       "      <th>M</th>\n",
       "      <th>F</th>\n",
       "      <th>M</th>\n",
       "      <th>F</th>\n",
       "      <th></th>\n",
       "      <th></th>\n",
       "    </tr>\n",
       "    <tr>\n",
       "      <th>Department Name</th>\n",
       "      <th></th>\n",
       "      <th></th>\n",
       "      <th></th>\n",
       "      <th></th>\n",
       "      <th></th>\n",
       "      <th></th>\n",
       "      <th></th>\n",
       "      <th></th>\n",
       "      <th></th>\n",
       "      <th></th>\n",
       "      <th></th>\n",
       "      <th></th>\n",
       "      <th></th>\n",
       "      <th></th>\n",
       "      <th></th>\n",
       "      <th></th>\n",
       "      <th></th>\n",
       "      <th></th>\n",
       "      <th></th>\n",
       "      <th></th>\n",
       "      <th></th>\n",
       "    </tr>\n",
       "  </thead>\n",
       "  <tbody>\n",
       "    <tr>\n",
       "      <td>wallingford</td>\n",
       "      <td>NaN</td>\n",
       "      <td>NaN</td>\n",
       "      <td>NaN</td>\n",
       "      <td>NaN</td>\n",
       "      <td>NaN</td>\n",
       "      <td>NaN</td>\n",
       "      <td>NaN</td>\n",
       "      <td>NaN</td>\n",
       "      <td>NaN</td>\n",
       "      <td>NaN</td>\n",
       "      <td>...</td>\n",
       "      <td>NaN</td>\n",
       "      <td>NaN</td>\n",
       "      <td>NaN</td>\n",
       "      <td>NaN</td>\n",
       "      <td>NaN</td>\n",
       "      <td>NaN</td>\n",
       "      <td>NaN</td>\n",
       "      <td>NaN</td>\n",
       "      <td>34.426947</td>\n",
       "      <td>[30.03472222222222, 10.108418367346935, 17.633...</td>\n",
       "    </tr>\n",
       "    <tr>\n",
       "      <td>state</td>\n",
       "      <td>NaN</td>\n",
       "      <td>NaN</td>\n",
       "      <td>NaN</td>\n",
       "      <td>NaN</td>\n",
       "      <td>NaN</td>\n",
       "      <td>NaN</td>\n",
       "      <td>NaN</td>\n",
       "      <td>NaN</td>\n",
       "      <td>NaN</td>\n",
       "      <td>NaN</td>\n",
       "      <td>...</td>\n",
       "      <td>NaN</td>\n",
       "      <td>NaN</td>\n",
       "      <td>NaN</td>\n",
       "      <td>NaN</td>\n",
       "      <td>NaN</td>\n",
       "      <td>NaN</td>\n",
       "      <td>NaN</td>\n",
       "      <td>NaN</td>\n",
       "      <td>27.412304</td>\n",
       "      <td>[10.324065605755745, 5.5120452067016945, 9.990...</td>\n",
       "    </tr>\n",
       "    <tr>\n",
       "      <td>vernon</td>\n",
       "      <td>NaN</td>\n",
       "      <td>NaN</td>\n",
       "      <td>NaN</td>\n",
       "      <td>NaN</td>\n",
       "      <td>NaN</td>\n",
       "      <td>NaN</td>\n",
       "      <td>NaN</td>\n",
       "      <td>NaN</td>\n",
       "      <td>NaN</td>\n",
       "      <td>NaN</td>\n",
       "      <td>...</td>\n",
       "      <td>NaN</td>\n",
       "      <td>NaN</td>\n",
       "      <td>NaN</td>\n",
       "      <td>NaN</td>\n",
       "      <td>NaN</td>\n",
       "      <td>NaN</td>\n",
       "      <td>NaN</td>\n",
       "      <td>NaN</td>\n",
       "      <td>26.467247</td>\n",
       "      <td>[3.890113269437748, 15.671861217289027, 10.795...</td>\n",
       "    </tr>\n",
       "    <tr>\n",
       "      <td>glastonbury</td>\n",
       "      <td>NaN</td>\n",
       "      <td>NaN</td>\n",
       "      <td>NaN</td>\n",
       "      <td>NaN</td>\n",
       "      <td>NaN</td>\n",
       "      <td>NaN</td>\n",
       "      <td>NaN</td>\n",
       "      <td>NaN</td>\n",
       "      <td>NaN</td>\n",
       "      <td>NaN</td>\n",
       "      <td>...</td>\n",
       "      <td>NaN</td>\n",
       "      <td>NaN</td>\n",
       "      <td>NaN</td>\n",
       "      <td>NaN</td>\n",
       "      <td>NaN</td>\n",
       "      <td>NaN</td>\n",
       "      <td>NaN</td>\n",
       "      <td>NaN</td>\n",
       "      <td>25.082167</td>\n",
       "      <td>[12.466864182130049, 25.082166768107122, 2.470...</td>\n",
       "    </tr>\n",
       "    <tr>\n",
       "      <td>waterbury</td>\n",
       "      <td>NaN</td>\n",
       "      <td>NaN</td>\n",
       "      <td>NaN</td>\n",
       "      <td>NaN</td>\n",
       "      <td>NaN</td>\n",
       "      <td>NaN</td>\n",
       "      <td>NaN</td>\n",
       "      <td>NaN</td>\n",
       "      <td>NaN</td>\n",
       "      <td>NaN</td>\n",
       "      <td>...</td>\n",
       "      <td>NaN</td>\n",
       "      <td>NaN</td>\n",
       "      <td>NaN</td>\n",
       "      <td>NaN</td>\n",
       "      <td>NaN</td>\n",
       "      <td>NaN</td>\n",
       "      <td>NaN</td>\n",
       "      <td>NaN</td>\n",
       "      <td>22.655947</td>\n",
       "      <td>[9.735973597359738, 5.822416302765646, 6.60377...</td>\n",
       "    </tr>\n",
       "    <tr>\n",
       "      <td>wilton</td>\n",
       "      <td>NaN</td>\n",
       "      <td>NaN</td>\n",
       "      <td>NaN</td>\n",
       "      <td>NaN</td>\n",
       "      <td>NaN</td>\n",
       "      <td>NaN</td>\n",
       "      <td>NaN</td>\n",
       "      <td>NaN</td>\n",
       "      <td>NaN</td>\n",
       "      <td>NaN</td>\n",
       "      <td>...</td>\n",
       "      <td>NaN</td>\n",
       "      <td>NaN</td>\n",
       "      <td>NaN</td>\n",
       "      <td>NaN</td>\n",
       "      <td>NaN</td>\n",
       "      <td>NaN</td>\n",
       "      <td>NaN</td>\n",
       "      <td>NaN</td>\n",
       "      <td>19.516849</td>\n",
       "      <td>[5.572916666666666, 13.943932411674348, 19.516...</td>\n",
       "    </tr>\n",
       "    <tr>\n",
       "      <td>csptroopg</td>\n",
       "      <td>NaN</td>\n",
       "      <td>NaN</td>\n",
       "      <td>NaN</td>\n",
       "      <td>NaN</td>\n",
       "      <td>NaN</td>\n",
       "      <td>NaN</td>\n",
       "      <td>NaN</td>\n",
       "      <td>NaN</td>\n",
       "      <td>NaN</td>\n",
       "      <td>NaN</td>\n",
       "      <td>...</td>\n",
       "      <td>NaN</td>\n",
       "      <td>NaN</td>\n",
       "      <td>NaN</td>\n",
       "      <td>NaN</td>\n",
       "      <td>NaN</td>\n",
       "      <td>NaN</td>\n",
       "      <td>NaN</td>\n",
       "      <td>NaN</td>\n",
       "      <td>19.284562</td>\n",
       "      <td>[3.809944101206238, 7.8282828282828305, 19.284...</td>\n",
       "    </tr>\n",
       "    <tr>\n",
       "      <td>norwich</td>\n",
       "      <td>NaN</td>\n",
       "      <td>NaN</td>\n",
       "      <td>NaN</td>\n",
       "      <td>NaN</td>\n",
       "      <td>NaN</td>\n",
       "      <td>NaN</td>\n",
       "      <td>NaN</td>\n",
       "      <td>NaN</td>\n",
       "      <td>NaN</td>\n",
       "      <td>NaN</td>\n",
       "      <td>...</td>\n",
       "      <td>NaN</td>\n",
       "      <td>NaN</td>\n",
       "      <td>NaN</td>\n",
       "      <td>NaN</td>\n",
       "      <td>NaN</td>\n",
       "      <td>NaN</td>\n",
       "      <td>NaN</td>\n",
       "      <td>NaN</td>\n",
       "      <td>19.230769</td>\n",
       "      <td>[10.710565272218872, 0.2842079248702518, 1.783...</td>\n",
       "    </tr>\n",
       "    <tr>\n",
       "      <td>csptroopc</td>\n",
       "      <td>NaN</td>\n",
       "      <td>NaN</td>\n",
       "      <td>NaN</td>\n",
       "      <td>NaN</td>\n",
       "      <td>NaN</td>\n",
       "      <td>NaN</td>\n",
       "      <td>NaN</td>\n",
       "      <td>NaN</td>\n",
       "      <td>NaN</td>\n",
       "      <td>NaN</td>\n",
       "      <td>...</td>\n",
       "      <td>NaN</td>\n",
       "      <td>NaN</td>\n",
       "      <td>NaN</td>\n",
       "      <td>NaN</td>\n",
       "      <td>NaN</td>\n",
       "      <td>NaN</td>\n",
       "      <td>NaN</td>\n",
       "      <td>NaN</td>\n",
       "      <td>19.163838</td>\n",
       "      <td>[17.936507936507937, 19.163838321505708, 1.227...</td>\n",
       "    </tr>\n",
       "    <tr>\n",
       "      <td>csptroope</td>\n",
       "      <td>NaN</td>\n",
       "      <td>NaN</td>\n",
       "      <td>NaN</td>\n",
       "      <td>NaN</td>\n",
       "      <td>NaN</td>\n",
       "      <td>NaN</td>\n",
       "      <td>NaN</td>\n",
       "      <td>NaN</td>\n",
       "      <td>NaN</td>\n",
       "      <td>NaN</td>\n",
       "      <td>...</td>\n",
       "      <td>NaN</td>\n",
       "      <td>NaN</td>\n",
       "      <td>NaN</td>\n",
       "      <td>NaN</td>\n",
       "      <td>NaN</td>\n",
       "      <td>NaN</td>\n",
       "      <td>NaN</td>\n",
       "      <td>NaN</td>\n",
       "      <td>18.259804</td>\n",
       "      <td>[18.25980392156863, 2.2954545454545467, 15.964...</td>\n",
       "    </tr>\n",
       "    <tr>\n",
       "      <td>csptroopa</td>\n",
       "      <td>NaN</td>\n",
       "      <td>NaN</td>\n",
       "      <td>NaN</td>\n",
       "      <td>NaN</td>\n",
       "      <td>NaN</td>\n",
       "      <td>NaN</td>\n",
       "      <td>NaN</td>\n",
       "      <td>NaN</td>\n",
       "      <td>NaN</td>\n",
       "      <td>NaN</td>\n",
       "      <td>...</td>\n",
       "      <td>NaN</td>\n",
       "      <td>NaN</td>\n",
       "      <td>NaN</td>\n",
       "      <td>NaN</td>\n",
       "      <td>NaN</td>\n",
       "      <td>NaN</td>\n",
       "      <td>NaN</td>\n",
       "      <td>NaN</td>\n",
       "      <td>18.140910</td>\n",
       "      <td>[3.5528455284552827, 18.140909575034613, 14.58...</td>\n",
       "    </tr>\n",
       "    <tr>\n",
       "      <td>westhartford</td>\n",
       "      <td>NaN</td>\n",
       "      <td>NaN</td>\n",
       "      <td>NaN</td>\n",
       "      <td>NaN</td>\n",
       "      <td>NaN</td>\n",
       "      <td>NaN</td>\n",
       "      <td>NaN</td>\n",
       "      <td>NaN</td>\n",
       "      <td>NaN</td>\n",
       "      <td>NaN</td>\n",
       "      <td>...</td>\n",
       "      <td>NaN</td>\n",
       "      <td>NaN</td>\n",
       "      <td>NaN</td>\n",
       "      <td>NaN</td>\n",
       "      <td>NaN</td>\n",
       "      <td>NaN</td>\n",
       "      <td>NaN</td>\n",
       "      <td>NaN</td>\n",
       "      <td>15.258941</td>\n",
       "      <td>[5.106435338993478, 3.1820552947313487, 6.2229...</td>\n",
       "    </tr>\n",
       "    <tr>\n",
       "      <td>enfield</td>\n",
       "      <td>NaN</td>\n",
       "      <td>NaN</td>\n",
       "      <td>NaN</td>\n",
       "      <td>NaN</td>\n",
       "      <td>NaN</td>\n",
       "      <td>NaN</td>\n",
       "      <td>NaN</td>\n",
       "      <td>NaN</td>\n",
       "      <td>NaN</td>\n",
       "      <td>NaN</td>\n",
       "      <td>...</td>\n",
       "      <td>NaN</td>\n",
       "      <td>NaN</td>\n",
       "      <td>NaN</td>\n",
       "      <td>NaN</td>\n",
       "      <td>NaN</td>\n",
       "      <td>NaN</td>\n",
       "      <td>NaN</td>\n",
       "      <td>NaN</td>\n",
       "      <td>12.905243</td>\n",
       "      <td>[0.5555555555555571, 4.545454545454547, 1.6546...</td>\n",
       "    </tr>\n",
       "    <tr>\n",
       "      <td>danbury</td>\n",
       "      <td>NaN</td>\n",
       "      <td>NaN</td>\n",
       "      <td>NaN</td>\n",
       "      <td>NaN</td>\n",
       "      <td>NaN</td>\n",
       "      <td>NaN</td>\n",
       "      <td>NaN</td>\n",
       "      <td>NaN</td>\n",
       "      <td>NaN</td>\n",
       "      <td>NaN</td>\n",
       "      <td>...</td>\n",
       "      <td>NaN</td>\n",
       "      <td>NaN</td>\n",
       "      <td>NaN</td>\n",
       "      <td>NaN</td>\n",
       "      <td>NaN</td>\n",
       "      <td>NaN</td>\n",
       "      <td>NaN</td>\n",
       "      <td>NaN</td>\n",
       "      <td>12.692460</td>\n",
       "      <td>[7.490369524896561, 0.31215857655689083, 12.38...</td>\n",
       "    </tr>\n",
       "    <tr>\n",
       "      <td>newbritain</td>\n",
       "      <td>NaN</td>\n",
       "      <td>NaN</td>\n",
       "      <td>NaN</td>\n",
       "      <td>NaN</td>\n",
       "      <td>NaN</td>\n",
       "      <td>NaN</td>\n",
       "      <td>NaN</td>\n",
       "      <td>NaN</td>\n",
       "      <td>NaN</td>\n",
       "      <td>NaN</td>\n",
       "      <td>...</td>\n",
       "      <td>NaN</td>\n",
       "      <td>NaN</td>\n",
       "      <td>NaN</td>\n",
       "      <td>NaN</td>\n",
       "      <td>NaN</td>\n",
       "      <td>NaN</td>\n",
       "      <td>NaN</td>\n",
       "      <td>NaN</td>\n",
       "      <td>12.643396</td>\n",
       "      <td>[11.952861952861952, 2.3823339780786554, 0.690...</td>\n",
       "    </tr>\n",
       "    <tr>\n",
       "      <td>westhaven</td>\n",
       "      <td>NaN</td>\n",
       "      <td>NaN</td>\n",
       "      <td>NaN</td>\n",
       "      <td>NaN</td>\n",
       "      <td>NaN</td>\n",
       "      <td>NaN</td>\n",
       "      <td>NaN</td>\n",
       "      <td>NaN</td>\n",
       "      <td>NaN</td>\n",
       "      <td>NaN</td>\n",
       "      <td>...</td>\n",
       "      <td>NaN</td>\n",
       "      <td>NaN</td>\n",
       "      <td>NaN</td>\n",
       "      <td>NaN</td>\n",
       "      <td>NaN</td>\n",
       "      <td>NaN</td>\n",
       "      <td>NaN</td>\n",
       "      <td>NaN</td>\n",
       "      <td>12.560200</td>\n",
       "      <td>[10.181488203266788, 2.37871214348721, 12.5602...</td>\n",
       "    </tr>\n",
       "    <tr>\n",
       "      <td>berlin</td>\n",
       "      <td>NaN</td>\n",
       "      <td>NaN</td>\n",
       "      <td>NaN</td>\n",
       "      <td>NaN</td>\n",
       "      <td>NaN</td>\n",
       "      <td>NaN</td>\n",
       "      <td>NaN</td>\n",
       "      <td>NaN</td>\n",
       "      <td>NaN</td>\n",
       "      <td>NaN</td>\n",
       "      <td>...</td>\n",
       "      <td>NaN</td>\n",
       "      <td>NaN</td>\n",
       "      <td>NaN</td>\n",
       "      <td>NaN</td>\n",
       "      <td>NaN</td>\n",
       "      <td>NaN</td>\n",
       "      <td>NaN</td>\n",
       "      <td>NaN</td>\n",
       "      <td>12.300907</td>\n",
       "      <td>[12.30090664052928]</td>\n",
       "    </tr>\n",
       "    <tr>\n",
       "      <td>willimantic</td>\n",
       "      <td>NaN</td>\n",
       "      <td>NaN</td>\n",
       "      <td>NaN</td>\n",
       "      <td>NaN</td>\n",
       "      <td>NaN</td>\n",
       "      <td>NaN</td>\n",
       "      <td>NaN</td>\n",
       "      <td>NaN</td>\n",
       "      <td>NaN</td>\n",
       "      <td>NaN</td>\n",
       "      <td>...</td>\n",
       "      <td>NaN</td>\n",
       "      <td>NaN</td>\n",
       "      <td>NaN</td>\n",
       "      <td>NaN</td>\n",
       "      <td>NaN</td>\n",
       "      <td>NaN</td>\n",
       "      <td>NaN</td>\n",
       "      <td>NaN</td>\n",
       "      <td>11.516322</td>\n",
       "      <td>[11.51632204801939]</td>\n",
       "    </tr>\n",
       "    <tr>\n",
       "      <td>westport</td>\n",
       "      <td>NaN</td>\n",
       "      <td>NaN</td>\n",
       "      <td>NaN</td>\n",
       "      <td>NaN</td>\n",
       "      <td>NaN</td>\n",
       "      <td>NaN</td>\n",
       "      <td>NaN</td>\n",
       "      <td>NaN</td>\n",
       "      <td>NaN</td>\n",
       "      <td>NaN</td>\n",
       "      <td>...</td>\n",
       "      <td>NaN</td>\n",
       "      <td>NaN</td>\n",
       "      <td>NaN</td>\n",
       "      <td>NaN</td>\n",
       "      <td>NaN</td>\n",
       "      <td>NaN</td>\n",
       "      <td>NaN</td>\n",
       "      <td>NaN</td>\n",
       "      <td>11.095142</td>\n",
       "      <td>[11.095142282265023]</td>\n",
       "    </tr>\n",
       "    <tr>\n",
       "      <td>easthartford</td>\n",
       "      <td>NaN</td>\n",
       "      <td>NaN</td>\n",
       "      <td>NaN</td>\n",
       "      <td>NaN</td>\n",
       "      <td>NaN</td>\n",
       "      <td>NaN</td>\n",
       "      <td>NaN</td>\n",
       "      <td>NaN</td>\n",
       "      <td>NaN</td>\n",
       "      <td>NaN</td>\n",
       "      <td>...</td>\n",
       "      <td>NaN</td>\n",
       "      <td>NaN</td>\n",
       "      <td>NaN</td>\n",
       "      <td>NaN</td>\n",
       "      <td>NaN</td>\n",
       "      <td>NaN</td>\n",
       "      <td>NaN</td>\n",
       "      <td>NaN</td>\n",
       "      <td>9.431039</td>\n",
       "      <td>[0.015935100680863457, 3.717797710730572, 5.71...</td>\n",
       "    </tr>\n",
       "    <tr>\n",
       "      <td>trumbull</td>\n",
       "      <td>NaN</td>\n",
       "      <td>NaN</td>\n",
       "      <td>NaN</td>\n",
       "      <td>NaN</td>\n",
       "      <td>NaN</td>\n",
       "      <td>NaN</td>\n",
       "      <td>NaN</td>\n",
       "      <td>NaN</td>\n",
       "      <td>NaN</td>\n",
       "      <td>NaN</td>\n",
       "      <td>...</td>\n",
       "      <td>NaN</td>\n",
       "      <td>NaN</td>\n",
       "      <td>NaN</td>\n",
       "      <td>NaN</td>\n",
       "      <td>NaN</td>\n",
       "      <td>NaN</td>\n",
       "      <td>NaN</td>\n",
       "      <td>NaN</td>\n",
       "      <td>9.195402</td>\n",
       "      <td>[9.195402298850574]</td>\n",
       "    </tr>\n",
       "    <tr>\n",
       "      <td>csptrooph</td>\n",
       "      <td>NaN</td>\n",
       "      <td>NaN</td>\n",
       "      <td>NaN</td>\n",
       "      <td>NaN</td>\n",
       "      <td>NaN</td>\n",
       "      <td>NaN</td>\n",
       "      <td>NaN</td>\n",
       "      <td>NaN</td>\n",
       "      <td>NaN</td>\n",
       "      <td>NaN</td>\n",
       "      <td>...</td>\n",
       "      <td>NaN</td>\n",
       "      <td>NaN</td>\n",
       "      <td>NaN</td>\n",
       "      <td>NaN</td>\n",
       "      <td>NaN</td>\n",
       "      <td>NaN</td>\n",
       "      <td>NaN</td>\n",
       "      <td>NaN</td>\n",
       "      <td>8.146630</td>\n",
       "      <td>[1.70577086464937, 6.440859574974702, 8.146630...</td>\n",
       "    </tr>\n",
       "    <tr>\n",
       "      <td>norwalk</td>\n",
       "      <td>NaN</td>\n",
       "      <td>NaN</td>\n",
       "      <td>NaN</td>\n",
       "      <td>NaN</td>\n",
       "      <td>NaN</td>\n",
       "      <td>NaN</td>\n",
       "      <td>NaN</td>\n",
       "      <td>NaN</td>\n",
       "      <td>NaN</td>\n",
       "      <td>NaN</td>\n",
       "      <td>...</td>\n",
       "      <td>NaN</td>\n",
       "      <td>NaN</td>\n",
       "      <td>NaN</td>\n",
       "      <td>NaN</td>\n",
       "      <td>NaN</td>\n",
       "      <td>NaN</td>\n",
       "      <td>NaN</td>\n",
       "      <td>NaN</td>\n",
       "      <td>7.842184</td>\n",
       "      <td>[3.638545672749096, 4.203638356915274, 0.66568...</td>\n",
       "    </tr>\n",
       "    <tr>\n",
       "      <td>plainville</td>\n",
       "      <td>NaN</td>\n",
       "      <td>NaN</td>\n",
       "      <td>NaN</td>\n",
       "      <td>NaN</td>\n",
       "      <td>NaN</td>\n",
       "      <td>NaN</td>\n",
       "      <td>NaN</td>\n",
       "      <td>NaN</td>\n",
       "      <td>NaN</td>\n",
       "      <td>NaN</td>\n",
       "      <td>...</td>\n",
       "      <td>NaN</td>\n",
       "      <td>NaN</td>\n",
       "      <td>NaN</td>\n",
       "      <td>NaN</td>\n",
       "      <td>NaN</td>\n",
       "      <td>NaN</td>\n",
       "      <td>NaN</td>\n",
       "      <td>NaN</td>\n",
       "      <td>6.595856</td>\n",
       "      <td>[6.595856281143455]</td>\n",
       "    </tr>\n",
       "    <tr>\n",
       "      <td>wethersfield</td>\n",
       "      <td>NaN</td>\n",
       "      <td>NaN</td>\n",
       "      <td>NaN</td>\n",
       "      <td>NaN</td>\n",
       "      <td>NaN</td>\n",
       "      <td>NaN</td>\n",
       "      <td>NaN</td>\n",
       "      <td>NaN</td>\n",
       "      <td>NaN</td>\n",
       "      <td>NaN</td>\n",
       "      <td>...</td>\n",
       "      <td>NaN</td>\n",
       "      <td>NaN</td>\n",
       "      <td>NaN</td>\n",
       "      <td>NaN</td>\n",
       "      <td>NaN</td>\n",
       "      <td>NaN</td>\n",
       "      <td>NaN</td>\n",
       "      <td>NaN</td>\n",
       "      <td>6.367962</td>\n",
       "      <td>[3.4546703296703285, 6.367961934972243, 2.9132...</td>\n",
       "    </tr>\n",
       "    <tr>\n",
       "      <td>stamford</td>\n",
       "      <td>NaN</td>\n",
       "      <td>NaN</td>\n",
       "      <td>NaN</td>\n",
       "      <td>NaN</td>\n",
       "      <td>NaN</td>\n",
       "      <td>NaN</td>\n",
       "      <td>NaN</td>\n",
       "      <td>NaN</td>\n",
       "      <td>NaN</td>\n",
       "      <td>NaN</td>\n",
       "      <td>...</td>\n",
       "      <td>NaN</td>\n",
       "      <td>NaN</td>\n",
       "      <td>NaN</td>\n",
       "      <td>NaN</td>\n",
       "      <td>NaN</td>\n",
       "      <td>NaN</td>\n",
       "      <td>NaN</td>\n",
       "      <td>NaN</td>\n",
       "      <td>5.852289</td>\n",
       "      <td>[5.852289388798123, 4.03232852774137, 1.819960...</td>\n",
       "    </tr>\n",
       "    <tr>\n",
       "      <td>bridgeport</td>\n",
       "      <td>NaN</td>\n",
       "      <td>NaN</td>\n",
       "      <td>NaN</td>\n",
       "      <td>NaN</td>\n",
       "      <td>NaN</td>\n",
       "      <td>NaN</td>\n",
       "      <td>NaN</td>\n",
       "      <td>NaN</td>\n",
       "      <td>NaN</td>\n",
       "      <td>NaN</td>\n",
       "      <td>...</td>\n",
       "      <td>NaN</td>\n",
       "      <td>NaN</td>\n",
       "      <td>NaN</td>\n",
       "      <td>NaN</td>\n",
       "      <td>NaN</td>\n",
       "      <td>NaN</td>\n",
       "      <td>NaN</td>\n",
       "      <td>NaN</td>\n",
       "      <td>5.768354</td>\n",
       "      <td>[2.1164021164021163, 3.485838779956427, 2.2825...</td>\n",
       "    </tr>\n",
       "    <tr>\n",
       "      <td>manchester</td>\n",
       "      <td>NaN</td>\n",
       "      <td>NaN</td>\n",
       "      <td>NaN</td>\n",
       "      <td>NaN</td>\n",
       "      <td>NaN</td>\n",
       "      <td>NaN</td>\n",
       "      <td>NaN</td>\n",
       "      <td>NaN</td>\n",
       "      <td>NaN</td>\n",
       "      <td>NaN</td>\n",
       "      <td>...</td>\n",
       "      <td>NaN</td>\n",
       "      <td>NaN</td>\n",
       "      <td>NaN</td>\n",
       "      <td>NaN</td>\n",
       "      <td>NaN</td>\n",
       "      <td>NaN</td>\n",
       "      <td>NaN</td>\n",
       "      <td>NaN</td>\n",
       "      <td>5.322129</td>\n",
       "      <td>[5.3221288515406115, 1.161440185830429, 4.1606...</td>\n",
       "    </tr>\n",
       "    <tr>\n",
       "      <td>stratford</td>\n",
       "      <td>NaN</td>\n",
       "      <td>NaN</td>\n",
       "      <td>NaN</td>\n",
       "      <td>NaN</td>\n",
       "      <td>NaN</td>\n",
       "      <td>NaN</td>\n",
       "      <td>NaN</td>\n",
       "      <td>NaN</td>\n",
       "      <td>NaN</td>\n",
       "      <td>NaN</td>\n",
       "      <td>...</td>\n",
       "      <td>NaN</td>\n",
       "      <td>NaN</td>\n",
       "      <td>NaN</td>\n",
       "      <td>NaN</td>\n",
       "      <td>NaN</td>\n",
       "      <td>NaN</td>\n",
       "      <td>NaN</td>\n",
       "      <td>NaN</td>\n",
       "      <td>5.234306</td>\n",
       "      <td>[3.3606753205383484, 2.716823406478582, 5.2343...</td>\n",
       "    </tr>\n",
       "    <tr>\n",
       "      <td>newhaven</td>\n",
       "      <td>NaN</td>\n",
       "      <td>NaN</td>\n",
       "      <td>NaN</td>\n",
       "      <td>NaN</td>\n",
       "      <td>NaN</td>\n",
       "      <td>NaN</td>\n",
       "      <td>NaN</td>\n",
       "      <td>NaN</td>\n",
       "      <td>NaN</td>\n",
       "      <td>NaN</td>\n",
       "      <td>...</td>\n",
       "      <td>NaN</td>\n",
       "      <td>NaN</td>\n",
       "      <td>NaN</td>\n",
       "      <td>NaN</td>\n",
       "      <td>NaN</td>\n",
       "      <td>NaN</td>\n",
       "      <td>NaN</td>\n",
       "      <td>NaN</td>\n",
       "      <td>5.203927</td>\n",
       "      <td>[2.155517604037012, 1.4310751635320198, 0.3217...</td>\n",
       "    </tr>\n",
       "    <tr>\n",
       "      <td>fairfield</td>\n",
       "      <td>NaN</td>\n",
       "      <td>NaN</td>\n",
       "      <td>NaN</td>\n",
       "      <td>NaN</td>\n",
       "      <td>NaN</td>\n",
       "      <td>NaN</td>\n",
       "      <td>NaN</td>\n",
       "      <td>NaN</td>\n",
       "      <td>NaN</td>\n",
       "      <td>NaN</td>\n",
       "      <td>...</td>\n",
       "      <td>NaN</td>\n",
       "      <td>NaN</td>\n",
       "      <td>NaN</td>\n",
       "      <td>NaN</td>\n",
       "      <td>NaN</td>\n",
       "      <td>NaN</td>\n",
       "      <td>NaN</td>\n",
       "      <td>NaN</td>\n",
       "      <td>4.477517</td>\n",
       "      <td>[4.477516607051605]</td>\n",
       "    </tr>\n",
       "    <tr>\n",
       "      <td>milford</td>\n",
       "      <td>NaN</td>\n",
       "      <td>NaN</td>\n",
       "      <td>NaN</td>\n",
       "      <td>NaN</td>\n",
       "      <td>NaN</td>\n",
       "      <td>NaN</td>\n",
       "      <td>NaN</td>\n",
       "      <td>NaN</td>\n",
       "      <td>NaN</td>\n",
       "      <td>NaN</td>\n",
       "      <td>...</td>\n",
       "      <td>NaN</td>\n",
       "      <td>NaN</td>\n",
       "      <td>NaN</td>\n",
       "      <td>NaN</td>\n",
       "      <td>NaN</td>\n",
       "      <td>NaN</td>\n",
       "      <td>NaN</td>\n",
       "      <td>NaN</td>\n",
       "      <td>4.396086</td>\n",
       "      <td>[4.285714285714281, 0.11037121518707949, 4.396...</td>\n",
       "    </tr>\n",
       "    <tr>\n",
       "      <td>derby</td>\n",
       "      <td>NaN</td>\n",
       "      <td>NaN</td>\n",
       "      <td>NaN</td>\n",
       "      <td>NaN</td>\n",
       "      <td>NaN</td>\n",
       "      <td>NaN</td>\n",
       "      <td>NaN</td>\n",
       "      <td>NaN</td>\n",
       "      <td>NaN</td>\n",
       "      <td>NaN</td>\n",
       "      <td>...</td>\n",
       "      <td>NaN</td>\n",
       "      <td>NaN</td>\n",
       "      <td>NaN</td>\n",
       "      <td>NaN</td>\n",
       "      <td>NaN</td>\n",
       "      <td>NaN</td>\n",
       "      <td>NaN</td>\n",
       "      <td>NaN</td>\n",
       "      <td>3.889086</td>\n",
       "      <td>[2.5956284153005473, 3.186274509803922, 0.7028...</td>\n",
       "    </tr>\n",
       "    <tr>\n",
       "      <td>greenwich</td>\n",
       "      <td>NaN</td>\n",
       "      <td>NaN</td>\n",
       "      <td>NaN</td>\n",
       "      <td>NaN</td>\n",
       "      <td>NaN</td>\n",
       "      <td>NaN</td>\n",
       "      <td>NaN</td>\n",
       "      <td>NaN</td>\n",
       "      <td>NaN</td>\n",
       "      <td>NaN</td>\n",
       "      <td>...</td>\n",
       "      <td>NaN</td>\n",
       "      <td>NaN</td>\n",
       "      <td>NaN</td>\n",
       "      <td>NaN</td>\n",
       "      <td>NaN</td>\n",
       "      <td>NaN</td>\n",
       "      <td>NaN</td>\n",
       "      <td>NaN</td>\n",
       "      <td>3.313932</td>\n",
       "      <td>[3.3139321482879787]</td>\n",
       "    </tr>\n",
       "    <tr>\n",
       "      <td>newington</td>\n",
       "      <td>NaN</td>\n",
       "      <td>NaN</td>\n",
       "      <td>NaN</td>\n",
       "      <td>NaN</td>\n",
       "      <td>NaN</td>\n",
       "      <td>NaN</td>\n",
       "      <td>NaN</td>\n",
       "      <td>NaN</td>\n",
       "      <td>NaN</td>\n",
       "      <td>NaN</td>\n",
       "      <td>...</td>\n",
       "      <td>NaN</td>\n",
       "      <td>NaN</td>\n",
       "      <td>NaN</td>\n",
       "      <td>NaN</td>\n",
       "      <td>NaN</td>\n",
       "      <td>NaN</td>\n",
       "      <td>NaN</td>\n",
       "      <td>NaN</td>\n",
       "      <td>2.531328</td>\n",
       "      <td>[2.389758179231862, 2.531328320802004, 0.14157...</td>\n",
       "    </tr>\n",
       "    <tr>\n",
       "      <td>hartford</td>\n",
       "      <td>NaN</td>\n",
       "      <td>NaN</td>\n",
       "      <td>NaN</td>\n",
       "      <td>NaN</td>\n",
       "      <td>NaN</td>\n",
       "      <td>NaN</td>\n",
       "      <td>NaN</td>\n",
       "      <td>NaN</td>\n",
       "      <td>NaN</td>\n",
       "      <td>NaN</td>\n",
       "      <td>...</td>\n",
       "      <td>NaN</td>\n",
       "      <td>NaN</td>\n",
       "      <td>NaN</td>\n",
       "      <td>NaN</td>\n",
       "      <td>NaN</td>\n",
       "      <td>NaN</td>\n",
       "      <td>NaN</td>\n",
       "      <td>NaN</td>\n",
       "      <td>1.060155</td>\n",
       "      <td>[1.060154854079812]</td>\n",
       "    </tr>\n",
       "    <tr>\n",
       "      <td>middletown</td>\n",
       "      <td>NaN</td>\n",
       "      <td>NaN</td>\n",
       "      <td>NaN</td>\n",
       "      <td>NaN</td>\n",
       "      <td>NaN</td>\n",
       "      <td>NaN</td>\n",
       "      <td>NaN</td>\n",
       "      <td>NaN</td>\n",
       "      <td>NaN</td>\n",
       "      <td>NaN</td>\n",
       "      <td>...</td>\n",
       "      <td>NaN</td>\n",
       "      <td>NaN</td>\n",
       "      <td>NaN</td>\n",
       "      <td>NaN</td>\n",
       "      <td>NaN</td>\n",
       "      <td>NaN</td>\n",
       "      <td>NaN</td>\n",
       "      <td>NaN</td>\n",
       "      <td>0.462278</td>\n",
       "      <td>[0.4622781065088759]</td>\n",
       "    </tr>\n",
       "  </tbody>\n",
       "</table>\n",
       "<p>37 rows × 98 columns</p>\n",
       "</div>"
      ],
      "text/plain": [
       "SubjectRaceCode          A                                          \\\n",
       "SubjectEthnicityCode     H                                M          \n",
       "SubjectAge           Adult     Senior Young Adult     Adult Senior   \n",
       "SubjectSexCode           F   M      M           F   M     M      M   \n",
       "Department Name                                                      \n",
       "wallingford            NaN NaN    NaN         NaN NaN   NaN    NaN   \n",
       "state                  NaN NaN    NaN         NaN NaN   NaN    NaN   \n",
       "vernon                 NaN NaN    NaN         NaN NaN   NaN    NaN   \n",
       "glastonbury            NaN NaN    NaN         NaN NaN   NaN    NaN   \n",
       "waterbury              NaN NaN    NaN         NaN NaN   NaN    NaN   \n",
       "wilton                 NaN NaN    NaN         NaN NaN   NaN    NaN   \n",
       "csptroopg              NaN NaN    NaN         NaN NaN   NaN    NaN   \n",
       "norwich                NaN NaN    NaN         NaN NaN   NaN    NaN   \n",
       "csptroopc              NaN NaN    NaN         NaN NaN   NaN    NaN   \n",
       "csptroope              NaN NaN    NaN         NaN NaN   NaN    NaN   \n",
       "csptroopa              NaN NaN    NaN         NaN NaN   NaN    NaN   \n",
       "westhartford           NaN NaN    NaN         NaN NaN   NaN    NaN   \n",
       "enfield                NaN NaN    NaN         NaN NaN   NaN    NaN   \n",
       "danbury                NaN NaN    NaN         NaN NaN   NaN    NaN   \n",
       "newbritain             NaN NaN    NaN         NaN NaN   NaN    NaN   \n",
       "westhaven              NaN NaN    NaN         NaN NaN   NaN    NaN   \n",
       "berlin                 NaN NaN    NaN         NaN NaN   NaN    NaN   \n",
       "willimantic            NaN NaN    NaN         NaN NaN   NaN    NaN   \n",
       "westport               NaN NaN    NaN         NaN NaN   NaN    NaN   \n",
       "easthartford           NaN NaN    NaN         NaN NaN   NaN    NaN   \n",
       "trumbull               NaN NaN    NaN         NaN NaN   NaN    NaN   \n",
       "csptrooph              NaN NaN    NaN         NaN NaN   NaN    NaN   \n",
       "norwalk                NaN NaN    NaN         NaN NaN   NaN    NaN   \n",
       "plainville             NaN NaN    NaN         NaN NaN   NaN    NaN   \n",
       "wethersfield           NaN NaN    NaN         NaN NaN   NaN    NaN   \n",
       "stamford               NaN NaN    NaN         NaN NaN   NaN    NaN   \n",
       "bridgeport             NaN NaN    NaN         NaN NaN   NaN    NaN   \n",
       "manchester             NaN NaN    NaN         NaN NaN   NaN    NaN   \n",
       "stratford              NaN NaN    NaN         NaN NaN   NaN    NaN   \n",
       "newhaven               NaN NaN    NaN         NaN NaN   NaN    NaN   \n",
       "fairfield              NaN NaN    NaN         NaN NaN   NaN    NaN   \n",
       "milford                NaN NaN    NaN         NaN NaN   NaN    NaN   \n",
       "derby                  NaN NaN    NaN         NaN NaN   NaN    NaN   \n",
       "greenwich              NaN NaN    NaN         NaN NaN   NaN    NaN   \n",
       "newington              NaN NaN    NaN         NaN NaN   NaN    NaN   \n",
       "hartford               NaN NaN    NaN         NaN NaN   NaN    NaN   \n",
       "middletown             NaN NaN    NaN         NaN NaN   NaN    NaN   \n",
       "\n",
       "SubjectRaceCode                             ...               I            A  \\\n",
       "SubjectEthnicityCode                 N      ...     H         H            M   \n",
       "SubjectAge           Young Adult Adult      ... Youth     Youth Senior Youth   \n",
       "SubjectSexCode                 F     F   M  ...     M   F     F      F     M   \n",
       "Department Name                             ...                                \n",
       "wallingford                  NaN   NaN NaN  ...   NaN NaN   NaN    NaN   NaN   \n",
       "state                        NaN   NaN NaN  ...   NaN NaN   NaN    NaN   NaN   \n",
       "vernon                       NaN   NaN NaN  ...   NaN NaN   NaN    NaN   NaN   \n",
       "glastonbury                  NaN   NaN NaN  ...   NaN NaN   NaN    NaN   NaN   \n",
       "waterbury                    NaN   NaN NaN  ...   NaN NaN   NaN    NaN   NaN   \n",
       "wilton                       NaN   NaN NaN  ...   NaN NaN   NaN    NaN   NaN   \n",
       "csptroopg                    NaN   NaN NaN  ...   NaN NaN   NaN    NaN   NaN   \n",
       "norwich                      NaN   NaN NaN  ...   NaN NaN   NaN    NaN   NaN   \n",
       "csptroopc                    NaN   NaN NaN  ...   NaN NaN   NaN    NaN   NaN   \n",
       "csptroope                    NaN   NaN NaN  ...   NaN NaN   NaN    NaN   NaN   \n",
       "csptroopa                    NaN   NaN NaN  ...   NaN NaN   NaN    NaN   NaN   \n",
       "westhartford                 NaN   NaN NaN  ...   NaN NaN   NaN    NaN   NaN   \n",
       "enfield                      NaN   NaN NaN  ...   NaN NaN   NaN    NaN   NaN   \n",
       "danbury                      NaN   NaN NaN  ...   NaN NaN   NaN    NaN   NaN   \n",
       "newbritain                   NaN   NaN NaN  ...   NaN NaN   NaN    NaN   NaN   \n",
       "westhaven                    NaN   NaN NaN  ...   NaN NaN   NaN    NaN   NaN   \n",
       "berlin                       NaN   NaN NaN  ...   NaN NaN   NaN    NaN   NaN   \n",
       "willimantic                  NaN   NaN NaN  ...   NaN NaN   NaN    NaN   NaN   \n",
       "westport                     NaN   NaN NaN  ...   NaN NaN   NaN    NaN   NaN   \n",
       "easthartford                 NaN   NaN NaN  ...   NaN NaN   NaN    NaN   NaN   \n",
       "trumbull                     NaN   NaN NaN  ...   NaN NaN   NaN    NaN   NaN   \n",
       "csptrooph                    NaN   NaN NaN  ...   NaN NaN   NaN    NaN   NaN   \n",
       "norwalk                      NaN   NaN NaN  ...   NaN NaN   NaN    NaN   NaN   \n",
       "plainville                   NaN   NaN NaN  ...   NaN NaN   NaN    NaN   NaN   \n",
       "wethersfield                 NaN   NaN NaN  ...   NaN NaN   NaN    NaN   NaN   \n",
       "stamford                     NaN   NaN NaN  ...   NaN NaN   NaN    NaN   NaN   \n",
       "bridgeport                   NaN   NaN NaN  ...   NaN NaN   NaN    NaN   NaN   \n",
       "manchester                   NaN   NaN NaN  ...   NaN NaN   NaN    NaN   NaN   \n",
       "stratford                    NaN   NaN NaN  ...   NaN NaN   NaN    NaN   NaN   \n",
       "newhaven                     NaN   NaN NaN  ...   NaN NaN   NaN    NaN   NaN   \n",
       "fairfield                    NaN   NaN NaN  ...   NaN NaN   NaN    NaN   NaN   \n",
       "milford                      NaN   NaN NaN  ...   NaN NaN   NaN    NaN   NaN   \n",
       "derby                        NaN   NaN NaN  ...   NaN NaN   NaN    NaN   NaN   \n",
       "greenwich                    NaN   NaN NaN  ...   NaN NaN   NaN    NaN   NaN   \n",
       "newington                    NaN   NaN NaN  ...   NaN NaN   NaN    NaN   NaN   \n",
       "hartford                     NaN   NaN NaN  ...   NaN NaN   NaN    NaN   NaN   \n",
       "middletown                   NaN   NaN NaN  ...   NaN NaN   NaN    NaN   NaN   \n",
       "\n",
       "SubjectRaceCode              I       Max Diff  \\\n",
       "SubjectEthnicityCode         M                  \n",
       "SubjectAge               Youth                  \n",
       "SubjectSexCode         F     M   F              \n",
       "Department Name                                 \n",
       "wallingford          NaN   NaN NaN  34.426947   \n",
       "state                NaN   NaN NaN  27.412304   \n",
       "vernon               NaN   NaN NaN  26.467247   \n",
       "glastonbury          NaN   NaN NaN  25.082167   \n",
       "waterbury            NaN   NaN NaN  22.655947   \n",
       "wilton               NaN   NaN NaN  19.516849   \n",
       "csptroopg            NaN   NaN NaN  19.284562   \n",
       "norwich              NaN   NaN NaN  19.230769   \n",
       "csptroopc            NaN   NaN NaN  19.163838   \n",
       "csptroope            NaN   NaN NaN  18.259804   \n",
       "csptroopa            NaN   NaN NaN  18.140910   \n",
       "westhartford         NaN   NaN NaN  15.258941   \n",
       "enfield              NaN   NaN NaN  12.905243   \n",
       "danbury              NaN   NaN NaN  12.692460   \n",
       "newbritain           NaN   NaN NaN  12.643396   \n",
       "westhaven            NaN   NaN NaN  12.560200   \n",
       "berlin               NaN   NaN NaN  12.300907   \n",
       "willimantic          NaN   NaN NaN  11.516322   \n",
       "westport             NaN   NaN NaN  11.095142   \n",
       "easthartford         NaN   NaN NaN   9.431039   \n",
       "trumbull             NaN   NaN NaN   9.195402   \n",
       "csptrooph            NaN   NaN NaN   8.146630   \n",
       "norwalk              NaN   NaN NaN   7.842184   \n",
       "plainville           NaN   NaN NaN   6.595856   \n",
       "wethersfield         NaN   NaN NaN   6.367962   \n",
       "stamford             NaN   NaN NaN   5.852289   \n",
       "bridgeport           NaN   NaN NaN   5.768354   \n",
       "manchester           NaN   NaN NaN   5.322129   \n",
       "stratford            NaN   NaN NaN   5.234306   \n",
       "newhaven             NaN   NaN NaN   5.203927   \n",
       "fairfield            NaN   NaN NaN   4.477517   \n",
       "milford              NaN   NaN NaN   4.396086   \n",
       "derby                NaN   NaN NaN   3.889086   \n",
       "greenwich            NaN   NaN NaN   3.313932   \n",
       "newington            NaN   NaN NaN   2.531328   \n",
       "hartford             NaN   NaN NaN   1.060155   \n",
       "middletown           NaN   NaN NaN   0.462278   \n",
       "\n",
       "SubjectRaceCode                                                    Diff  \n",
       "SubjectEthnicityCode                                                     \n",
       "SubjectAge                                                               \n",
       "SubjectSexCode                                                           \n",
       "Department Name                                                          \n",
       "wallingford           [30.03472222222222, 10.108418367346935, 17.633...  \n",
       "state                 [10.324065605755745, 5.5120452067016945, 9.990...  \n",
       "vernon                [3.890113269437748, 15.671861217289027, 10.795...  \n",
       "glastonbury           [12.466864182130049, 25.082166768107122, 2.470...  \n",
       "waterbury             [9.735973597359738, 5.822416302765646, 6.60377...  \n",
       "wilton                [5.572916666666666, 13.943932411674348, 19.516...  \n",
       "csptroopg             [3.809944101206238, 7.8282828282828305, 19.284...  \n",
       "norwich               [10.710565272218872, 0.2842079248702518, 1.783...  \n",
       "csptroopc             [17.936507936507937, 19.163838321505708, 1.227...  \n",
       "csptroope             [18.25980392156863, 2.2954545454545467, 15.964...  \n",
       "csptroopa             [3.5528455284552827, 18.140909575034613, 14.58...  \n",
       "westhartford          [5.106435338993478, 3.1820552947313487, 6.2229...  \n",
       "enfield               [0.5555555555555571, 4.545454545454547, 1.6546...  \n",
       "danbury               [7.490369524896561, 0.31215857655689083, 12.38...  \n",
       "newbritain            [11.952861952861952, 2.3823339780786554, 0.690...  \n",
       "westhaven             [10.181488203266788, 2.37871214348721, 12.5602...  \n",
       "berlin                                              [12.30090664052928]  \n",
       "willimantic                                         [11.51632204801939]  \n",
       "westport                                           [11.095142282265023]  \n",
       "easthartford          [0.015935100680863457, 3.717797710730572, 5.71...  \n",
       "trumbull                                            [9.195402298850574]  \n",
       "csptrooph             [1.70577086464937, 6.440859574974702, 8.146630...  \n",
       "norwalk               [3.638545672749096, 4.203638356915274, 0.66568...  \n",
       "plainville                                          [6.595856281143455]  \n",
       "wethersfield          [3.4546703296703285, 6.367961934972243, 2.9132...  \n",
       "stamford              [5.852289388798123, 4.03232852774137, 1.819960...  \n",
       "bridgeport            [2.1164021164021163, 3.485838779956427, 2.2825...  \n",
       "manchester            [5.3221288515406115, 1.161440185830429, 4.1606...  \n",
       "stratford             [3.3606753205383484, 2.716823406478582, 5.2343...  \n",
       "newhaven              [2.155517604037012, 1.4310751635320198, 0.3217...  \n",
       "fairfield                                           [4.477516607051605]  \n",
       "milford               [4.285714285714281, 0.11037121518707949, 4.396...  \n",
       "derby                 [2.5956284153005473, 3.186274509803922, 0.7028...  \n",
       "greenwich                                          [3.3139321482879787]  \n",
       "newington             [2.389758179231862, 2.531328320802004, 0.14157...  \n",
       "hartford                                            [1.060154854079812]  \n",
       "middletown                                         [0.4622781065088759]  \n",
       "\n",
       "[37 rows x 98 columns]"
      ]
     },
     "execution_count": 122,
     "metadata": {},
     "output_type": "execute_result"
    }
   ],
   "source": [
    "dn_bias_analysis"
   ]
  },
  {
   "cell_type": "code",
   "execution_count": 123,
   "metadata": {},
   "outputs": [
    {
     "data": {
      "text/plain": [
       "SubjectRaceCode  SubjectEthnicityCode  SubjectAge   SubjectSexCode\n",
       "A                H                     Adult        F                       NaN\n",
       "                                                    M                       NaN\n",
       "                                       Senior       M                       NaN\n",
       "                                       Young Adult  F                       NaN\n",
       "                                                    M                       NaN\n",
       "                                                                        ...    \n",
       "                 M                     Youth        M                       NaN\n",
       "                                                    F                       NaN\n",
       "I                M                     Youth        M                       NaN\n",
       "                                                    F                       NaN\n",
       "Max Diff                                                              12.046065\n",
       "Length: 97, dtype: float64"
      ]
     },
     "execution_count": 123,
     "metadata": {},
     "output_type": "execute_result"
    }
   ],
   "source": [
    "series_mean = dn_bias_analysis.mean()\n",
    "series_mean"
   ]
  },
  {
   "cell_type": "code",
   "execution_count": 124,
   "metadata": {},
   "outputs": [
    {
     "data": {
      "text/plain": [
       "SubjectRaceCode  SubjectEthnicityCode  SubjectAge   SubjectSexCode\n",
       "W                N                     Young Adult  F                 45.461068\n",
       "dtype: float64"
      ]
     },
     "execution_count": 124,
     "metadata": {},
     "output_type": "execute_result"
    }
   ],
   "source": [
    "#Protected group with highest precision on average\n",
    "series_mean[series_mean==series_mean.max()]"
   ]
  },
  {
   "cell_type": "code",
   "execution_count": 125,
   "metadata": {},
   "outputs": [
    {
     "data": {
      "text/plain": [
       "SubjectRaceCode  SubjectEthnicityCode  SubjectAge   SubjectSexCode\n",
       "W                H                     Young Adult  F                 4.310345\n",
       "dtype: float64"
      ]
     },
     "execution_count": 125,
     "metadata": {},
     "output_type": "execute_result"
    }
   ],
   "source": [
    "#Protected group with lowest precision on average\n",
    "series_mean[series_mean==series_mean.min()]"
   ]
  },
  {
   "cell_type": "code",
   "execution_count": 126,
   "metadata": {},
   "outputs": [],
   "source": [
    "dn_bias_analysis = dn_bias_analysis.dropna(how=\"all\", axis=1)"
   ]
  },
  {
   "cell_type": "code",
   "execution_count": 127,
   "metadata": {},
   "outputs": [
    {
     "data": {
      "text/plain": [
       "Department Name\n",
       "wallingford    34.426947\n",
       "Name: Max Diff, dtype: float64"
      ]
     },
     "execution_count": 127,
     "metadata": {},
     "output_type": "execute_result"
    }
   ],
   "source": [
    "#Department Name with Highest amplitude for precision between protected groups\n",
    "dn_bias_analysis[dn_bias_analysis[\"Max Diff\"]==dn_bias_analysis[\"Max Diff\"].max()][\"Max Diff\"]"
   ]
  },
  {
   "cell_type": "code",
   "execution_count": 128,
   "metadata": {},
   "outputs": [
    {
     "data": {
      "text/plain": [
       "Department Name\n",
       "middletown    0.462278\n",
       "Name: Max Diff, dtype: float64"
      ]
     },
     "execution_count": 128,
     "metadata": {},
     "output_type": "execute_result"
    }
   ],
   "source": [
    "#Department Name with lowest amplitude for precision between protected groups\n",
    "dn_bias_analysis[dn_bias_analysis[\"Max Diff\"]==dn_bias_analysis[\"Max Diff\"].min()][\"Max Diff\"]"
   ]
  },
  {
   "cell_type": "code",
   "execution_count": 129,
   "metadata": {},
   "outputs": [
    {
     "data": {
      "text/plain": [
       "(Index(['wallingford', 'state', 'vernon', 'glastonbury', 'waterbury', 'wilton',\n",
       "        'csptroopg', 'norwich', 'csptroopc', 'csptroope', 'csptroopa',\n",
       "        'westhartford', 'enfield', 'danbury', 'newbritain', 'westhaven',\n",
       "        'berlin', 'willimantic', 'westport', 'easthartford', 'trumbull',\n",
       "        'csptrooph', 'norwalk', 'plainville', 'wethersfield', 'stamford',\n",
       "        'bridgeport', 'manchester', 'stratford', 'newhaven'],\n",
       "       dtype='object', name='Department Name'), 30)"
      ]
     },
     "execution_count": 129,
     "metadata": {},
     "output_type": "execute_result"
    }
   ],
   "source": [
    "#Department Names with amplitude bigger then 5\n",
    "dn_bias_analysis[dn_bias_analysis[\"Max Diff\"]>5].index, len(dn_bias_analysis[dn_bias_analysis[\"Max Diff\"]>5].index)"
   ]
  },
  {
   "cell_type": "code",
   "execution_count": 130,
   "metadata": {},
   "outputs": [],
   "source": [
    "dn_bias_analysis_diff_array = [item for sublist in dn_bias_analysis[\"Diff\"].values for item in sublist]"
   ]
  },
  {
   "cell_type": "code",
   "execution_count": 131,
   "metadata": {},
   "outputs": [
    {
     "data": {
      "text/plain": [
       "Text(0, 0.5, 'Count')"
      ]
     },
     "execution_count": 131,
     "metadata": {},
     "output_type": "execute_result"
    },
    {
     "data": {
      "image/png": "[encoded data removed]",
      "text/plain": [
       "<Figure size 720x360 with 1 Axes>"
      ]
     },
     "metadata": {
      "needs_background": "light"
     },
     "output_type": "display_data"
    }
   ],
   "source": [
    "#histogram of differences between precisions of protected groups\n",
    "plt.figure(figsize=(10,5))\n",
    "plt.hist(dn_bias_analysis_diff_array, range=(0,35), density=False, bins=7)\n",
    "plt.xlabel(\"Diff\")\n",
    "plt.ylabel(\"Count\")"
   ]
  },
  {
   "cell_type": "code",
   "execution_count": 132,
   "metadata": {},
   "outputs": [
    {
     "data": {
      "text/plain": [
       "(8.086219754156723, 6.680598743453754)"
      ]
     },
     "execution_count": 132,
     "metadata": {},
     "output_type": "execute_result"
    }
   ],
   "source": [
    "np.mean(dn_bias_analysis_diff_array), np.std(dn_bias_analysis_diff_array)"
   ]
  },
  {
   "cell_type": "markdown",
   "metadata": {},
   "source": [
    "### By SearchAuthorizationCode"
   ]
  },
  {
   "cell_type": "code",
   "execution_count": 133,
   "metadata": {},
   "outputs": [],
   "source": [
    "sac_bias_analysis = evaluate_bias_by_group(group=[\"SearchAuthorizationCode\",\"SubjectRaceCode\", \"SubjectEthnicityCode\", \"SubjectAge\",\"SubjectSexCode\"], threshold=100)"
   ]
  },
  {
   "cell_type": "code",
   "execution_count": 134,
   "metadata": {},
   "outputs": [],
   "source": [
    "sac_bias_analysis = sac_bias_analysis.dropna(how=\"all\", axis=1)"
   ]
  },
  {
   "cell_type": "code",
   "execution_count": 135,
   "metadata": {},
   "outputs": [
    {
     "data": {
      "text/plain": [
       "SearchAuthorizationCode\n",
       "O    33.749562\n",
       "Name: Max Diff, dtype: float64"
      ]
     },
     "execution_count": 135,
     "metadata": {},
     "output_type": "execute_result"
    }
   ],
   "source": [
    "#SearchAuthorizationCode with Highest amplitude for precision between protected groups\n",
    "sac_bias_analysis[sac_bias_analysis[\"Max Diff\"]==sac_bias_analysis[\"Max Diff\"].max()][\"Max Diff\"]"
   ]
  },
  {
   "cell_type": "code",
   "execution_count": 136,
   "metadata": {},
   "outputs": [
    {
     "data": {
      "text/plain": [
       "SearchAuthorizationCode\n",
       "I    14.894221\n",
       "Name: Max Diff, dtype: float64"
      ]
     },
     "execution_count": 136,
     "metadata": {},
     "output_type": "execute_result"
    }
   ],
   "source": [
    "#SearchAuthorizationCode with lowest amplitude for precision between protected groups\n",
    "sac_bias_analysis[sac_bias_analysis[\"Max Diff\"]==sac_bias_analysis[\"Max Diff\"].min()][\"Max Diff\"]"
   ]
  },
  {
   "cell_type": "code",
   "execution_count": 137,
   "metadata": {},
   "outputs": [],
   "source": [
    "sac_bias_analysis_diff_array = [item for sublist in sac_bias_analysis[\"Diff\"].values for item in sublist]"
   ]
  },
  {
   "cell_type": "code",
   "execution_count": 138,
   "metadata": {},
   "outputs": [
    {
     "data": {
      "text/plain": [
       "Text(0, 0.5, 'Count')"
      ]
     },
     "execution_count": 138,
     "metadata": {},
     "output_type": "execute_result"
    },
    {
     "data": {
      "image/png": "[encoded data removed]",
      "text/plain": [
       "<Figure size 720x360 with 1 Axes>"
      ]
     },
     "metadata": {
      "needs_background": "light"
     },
     "output_type": "display_data"
    }
   ],
   "source": [
    "#histogram of differences between precisions of protected groups\n",
    "plt.figure(figsize=(10,5))\n",
    "plt.hist(sac_bias_analysis_diff_array, range=(0,35), density=False, bins=7)\n",
    "plt.xlabel(\"Diff\")\n",
    "plt.ylabel(\"Count\")"
   ]
  },
  {
   "cell_type": "markdown",
   "metadata": {},
   "source": [
    "### ReportingOfficerIdentificationID"
   ]
  },
  {
   "cell_type": "code",
   "execution_count": 139,
   "metadata": {},
   "outputs": [],
   "source": [
    "roi_bias_analysis = evaluate_bias_by_group(group=[\"ReportingOfficerIdentificationID\",\"SubjectRaceCode\", \"SubjectEthnicityCode\", \"SubjectAge\",\"SubjectSexCode\"], threshold=25)"
   ]
  },
  {
   "cell_type": "code",
   "execution_count": 140,
   "metadata": {},
   "outputs": [],
   "source": [
    "roi_bias_analysis = roi_bias_analysis.dropna(how=\"all\", axis=1)"
   ]
  },
  {
   "cell_type": "code",
   "execution_count": 141,
   "metadata": {},
   "outputs": [],
   "source": [
    "roi_bias_analysis_diff_array = [item for sublist in roi_bias_analysis[\"Diff\"].values for item in sublist]"
   ]
  },
  {
   "cell_type": "code",
   "execution_count": 142,
   "metadata": {},
   "outputs": [
    {
     "data": {
      "text/plain": [
       "Text(0, 0.5, 'Count')"
      ]
     },
     "execution_count": 142,
     "metadata": {},
     "output_type": "execute_result"
    },
    {
     "data": {
      "image/png": "[encoded data removed]",
      "text/plain": [
       "<Figure size 720x360 with 1 Axes>"
      ]
     },
     "metadata": {
      "needs_background": "light"
     },
     "output_type": "display_data"
    }
   ],
   "source": [
    "#histogram of differences between precisions of protected groups\n",
    "plt.figure(figsize=(10,5))\n",
    "plt.hist(roi_bias_analysis_diff_array, range=(0,35), density=False, bins=7)\n",
    "plt.xlabel(\"Diff\")\n",
    "plt.ylabel(\"Count\")"
   ]
  },
  {
   "cell_type": "code",
   "execution_count": 143,
   "metadata": {},
   "outputs": [
    {
     "data": {
      "text/plain": [
       "(Index(['1000003196', '1000002101', '199', '10', '100000230', '596',\n",
       "        '1000002072', '790642042', '1000002164', 'JMK0326', '30233',\n",
       "        '1000002585', '625', 'KKC0268', 'SEM0240', '179', '256', '49', '1016',\n",
       "        '6507', '1000002747', '1000002608', '1083'],\n",
       "       dtype='object', name='ReportingOfficerIdentificationID'), 23)"
      ]
     },
     "execution_count": 143,
     "metadata": {},
     "output_type": "execute_result"
    }
   ],
   "source": [
    "#Department Names with amplitude bigger then 5\n",
    "roi_bias_analysis[roi_bias_analysis[\"Max Diff\"]>5].index, len(roi_bias_analysis[roi_bias_analysis[\"Max Diff\"]>5].index)"
   ]
  },
  {
   "cell_type": "markdown",
   "metadata": {},
   "source": [
    "# Contraband Indicatores Analysis"
   ]
  },
  {
   "cell_type": "code",
   "execution_count": 144,
   "metadata": {},
   "outputs": [
    {
     "name": "stderr",
     "output_type": "stream",
     "text": [
      "/home/ines/anaconda3/lib/python3.7/site-packages/numpy/lib/arraysetops.py:568: FutureWarning: elementwise comparison failed; returning scalar instead, but in the future will perform elementwise comparison\n",
      "  mask |= (ar1 == a)\n"
     ]
    }
   ],
   "source": [
    "df_train_cleaned = pd.read_csv(\"resources/df_cleaned.csv\", index_col=0)"
   ]
  },
  {
   "cell_type": "code",
   "execution_count": 145,
   "metadata": {},
   "outputs": [
    {
     "data": {
      "text/html": [
       "<div>\n",
       "<style scoped>\n",
       "    .dataframe tbody tr th:only-of-type {\n",
       "        vertical-align: middle;\n",
       "    }\n",
       "\n",
       "    .dataframe tbody tr th {\n",
       "        vertical-align: top;\n",
       "    }\n",
       "\n",
       "    .dataframe thead th {\n",
       "        text-align: right;\n",
       "    }\n",
       "</style>\n",
       "<table border=\"1\" class=\"dataframe\">\n",
       "  <thead>\n",
       "    <tr style=\"text-align: right;\">\n",
       "      <th></th>\n",
       "      <th>InterventionLocationName</th>\n",
       "      <th>InterventionReasonCode</th>\n",
       "      <th>ResidentIndicator</th>\n",
       "      <th>SearchAuthorizationCode</th>\n",
       "      <th>StatuteReason</th>\n",
       "      <th>TownResidentIndicator</th>\n",
       "      <th>sin_month</th>\n",
       "      <th>cos_month</th>\n",
       "      <th>sin_weekday</th>\n",
       "      <th>cos_weekday</th>\n",
       "      <th>sin_hour</th>\n",
       "      <th>cos_hour</th>\n",
       "      <th>ContrabandIndicator</th>\n",
       "    </tr>\n",
       "  </thead>\n",
       "  <tbody>\n",
       "    <tr>\n",
       "      <td>0</td>\n",
       "      <td>0.02</td>\n",
       "      <td>0.01</td>\n",
       "      <td>1</td>\n",
       "      <td>0</td>\n",
       "      <td>0.01</td>\n",
       "      <td>1</td>\n",
       "      <td>-0.866025</td>\n",
       "      <td>0.5</td>\n",
       "      <td>0.781831</td>\n",
       "      <td>0.62349</td>\n",
       "      <td>0.0</td>\n",
       "      <td>1.0</td>\n",
       "      <td>False</td>\n",
       "    </tr>\n",
       "    <tr>\n",
       "      <td>1</td>\n",
       "      <td>0.01</td>\n",
       "      <td>0.01</td>\n",
       "      <td>0</td>\n",
       "      <td>0</td>\n",
       "      <td>0.03</td>\n",
       "      <td>0</td>\n",
       "      <td>-0.866025</td>\n",
       "      <td>0.5</td>\n",
       "      <td>0.781831</td>\n",
       "      <td>0.62349</td>\n",
       "      <td>0.0</td>\n",
       "      <td>1.0</td>\n",
       "      <td>False</td>\n",
       "    </tr>\n",
       "    <tr>\n",
       "      <td>2</td>\n",
       "      <td>0.01</td>\n",
       "      <td>0.01</td>\n",
       "      <td>1</td>\n",
       "      <td>0</td>\n",
       "      <td>0.00</td>\n",
       "      <td>1</td>\n",
       "      <td>-0.866025</td>\n",
       "      <td>0.5</td>\n",
       "      <td>0.781831</td>\n",
       "      <td>0.62349</td>\n",
       "      <td>0.0</td>\n",
       "      <td>1.0</td>\n",
       "      <td>False</td>\n",
       "    </tr>\n",
       "    <tr>\n",
       "      <td>3</td>\n",
       "      <td>0.01</td>\n",
       "      <td>0.01</td>\n",
       "      <td>1</td>\n",
       "      <td>0</td>\n",
       "      <td>0.00</td>\n",
       "      <td>0</td>\n",
       "      <td>-0.866025</td>\n",
       "      <td>0.5</td>\n",
       "      <td>0.781831</td>\n",
       "      <td>0.62349</td>\n",
       "      <td>0.0</td>\n",
       "      <td>1.0</td>\n",
       "      <td>False</td>\n",
       "    </tr>\n",
       "    <tr>\n",
       "      <td>4</td>\n",
       "      <td>0.01</td>\n",
       "      <td>0.01</td>\n",
       "      <td>1</td>\n",
       "      <td>0</td>\n",
       "      <td>0.00</td>\n",
       "      <td>0</td>\n",
       "      <td>-0.866025</td>\n",
       "      <td>0.5</td>\n",
       "      <td>0.781831</td>\n",
       "      <td>0.62349</td>\n",
       "      <td>0.0</td>\n",
       "      <td>1.0</td>\n",
       "      <td>False</td>\n",
       "    </tr>\n",
       "  </tbody>\n",
       "</table>\n",
       "</div>"
      ],
      "text/plain": [
       "   InterventionLocationName  InterventionReasonCode  ResidentIndicator  \\\n",
       "0                      0.02                    0.01                  1   \n",
       "1                      0.01                    0.01                  0   \n",
       "2                      0.01                    0.01                  1   \n",
       "3                      0.01                    0.01                  1   \n",
       "4                      0.01                    0.01                  1   \n",
       "\n",
       "   SearchAuthorizationCode  StatuteReason  TownResidentIndicator  sin_month  \\\n",
       "0                        0           0.01                      1  -0.866025   \n",
       "1                        0           0.03                      0  -0.866025   \n",
       "2                        0           0.00                      1  -0.866025   \n",
       "3                        0           0.00                      0  -0.866025   \n",
       "4                        0           0.00                      0  -0.866025   \n",
       "\n",
       "   cos_month  sin_weekday  cos_weekday  sin_hour  cos_hour  \\\n",
       "0        0.5     0.781831      0.62349       0.0       1.0   \n",
       "1        0.5     0.781831      0.62349       0.0       1.0   \n",
       "2        0.5     0.781831      0.62349       0.0       1.0   \n",
       "3        0.5     0.781831      0.62349       0.0       1.0   \n",
       "4        0.5     0.781831      0.62349       0.0       1.0   \n",
       "\n",
       "   ContrabandIndicator  \n",
       "0                False  \n",
       "1                False  \n",
       "2                False  \n",
       "3                False  \n",
       "4                False  "
      ]
     },
     "execution_count": 145,
     "metadata": {},
     "output_type": "execute_result"
    }
   ],
   "source": [
    "df_train_cleaned.head()"
   ]
  },
  {
   "cell_type": "code",
   "execution_count": 146,
   "metadata": {},
   "outputs": [
    {
     "data": {
      "text/plain": [
       "<matplotlib.axes._subplots.AxesSubplot at 0x7fb832554290>"
      ]
     },
     "execution_count": 146,
     "metadata": {},
     "output_type": "execute_result"
    },
    {
     "data": {
      "image/png": "[encoded data removed]",
      "text/plain": [
       "<Figure size 432x288 with 2 Axes>"
      ]
     },
     "metadata": {
      "needs_background": "light"
     },
     "output_type": "display_data"
    }
   ],
   "source": [
    "corrMatrix = df_train_cleaned.corr()\n",
    "sn.heatmap(corrMatrix)"
   ]
  },
  {
   "cell_type": "code",
   "execution_count": 147,
   "metadata": {},
   "outputs": [
    {
     "data": {
      "text/plain": [
       "InterventionLocationName    0.068844\n",
       "InterventionReasonCode      0.054430\n",
       "ResidentIndicator           0.014519\n",
       "SearchAuthorizationCode     0.486566\n",
       "StatuteReason               0.087072\n",
       "TownResidentIndicator       0.015373\n",
       "sin_month                   0.007650\n",
       "cos_month                   0.008301\n",
       "sin_weekday                 0.008502\n",
       "cos_weekday                 0.002794\n",
       "sin_hour                    0.023463\n",
       "cos_hour                    0.039338\n",
       "ContrabandIndicator         1.000000\n",
       "Name: ContrabandIndicator, dtype: float64"
      ]
     },
     "execution_count": 147,
     "metadata": {},
     "output_type": "execute_result"
    }
   ],
   "source": [
    "ci_corr = abs(corrMatrix.ContrabandIndicator)\n",
    "ci_corr"
   ]
  },
  {
   "cell_type": "code",
   "execution_count": 148,
   "metadata": {},
   "outputs": [
    {
     "data": {
      "image/png": "[encoded data removed]",
      "text/plain": [
       "<Figure size 936x288 with 2 Axes>"
      ]
     },
     "metadata": {
      "needs_background": "light"
     },
     "output_type": "display_data"
    }
   ],
   "source": [
    "plt.figure(figsize=(13,4))\n",
    "sn.heatmap(corrMatrix[['ContrabandIndicator']].sort_values(by=['ContrabandIndicator'], ascending=True).T,\n",
    "            vmin=-1,\n",
    "            cmap='Greens',\n",
    "            annot=True);\n",
    "plt.show()"
   ]
  },
  {
   "cell_type": "code",
   "execution_count": null,
   "metadata": {},
   "outputs": [],
   "source": []
  },
  {
   "cell_type": "code",
   "execution_count": null,
   "metadata": {},
   "outputs": [],
   "source": []
  },
  {
   "cell_type": "code",
   "execution_count": null,
   "metadata": {},
   "outputs": [],
   "source": []
  }
 ],
 "metadata": {
  "kernelspec": {
   "display_name": "Python 3",
   "language": "python",
   "name": "python3"
  },
  "language_info": {
   "codemirror_mode": {
    "name": "ipython",
    "version": 3
   },
   "file_extension": ".py",
   "mimetype": "text/x-python",
   "name": "python",
   "nbconvert_exporter": "python",
   "pygments_lexer": "ipython3",
   "version": "3.7.4"
  }
 },
 "nbformat": 4,
 "nbformat_minor": 2
}
