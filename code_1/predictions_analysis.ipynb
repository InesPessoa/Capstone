{
 "cells": [
  {
   "cell_type": "code",
   "execution_count": 1,
   "metadata": {},
   "outputs": [],
   "source": [
    "import pandas as pd\n",
    "import copy\n",
    "import numpy as np\n",
    "from matplotlib import pyplot as plt\n",
    "from sklearn.metrics import roc_curve\n",
    "from sklearn.metrics import roc_auc_score"
   ]
  },
  {
   "cell_type": "code",
   "execution_count": 2,
   "metadata": {},
   "outputs": [],
   "source": [
    "def clean_age(value):\n",
    "    if value < 18:\n",
    "        return \"Youth\"\n",
    "    elif value >= 18 and value <=35:\n",
    "        return \"Young Adult\"\n",
    "    elif value  >= 36 and value <=55:\n",
    "        return \"Adult\"\n",
    "    else:\n",
    "        return \"Senior\""
   ]
  },
  {
   "cell_type": "code",
   "execution_count": 3,
   "metadata": {},
   "outputs": [],
   "source": [
    "def map_prediction(value):\n",
    "    if value == 1:\n",
    "        return True\n",
    "    else:\n",
    "        return False"
   ]
  },
  {
   "cell_type": "code",
   "execution_count": 4,
   "metadata": {},
   "outputs": [],
   "source": [
    "df_test = pd.read_csv(\"resources/df_test_with_prediction.csv\", index_col=0)\n",
    "df_test_without_sac = pd.read_csv(\"resources/df_test_with_prediction_without_sac.csv\", index_col=0)\n",
    "df_test_with_sac = pd.read_csv(\"resources/df_test_with_prediction_with_sac.csv\", index_col=0)"
   ]
  },
  {
   "cell_type": "code",
   "execution_count": 5,
   "metadata": {},
   "outputs": [
    {
     "data": {
      "text/html": [
       "<div>\n",
       "<style scoped>\n",
       "    .dataframe tbody tr th:only-of-type {\n",
       "        vertical-align: middle;\n",
       "    }\n",
       "\n",
       "    .dataframe tbody tr th {\n",
       "        vertical-align: top;\n",
       "    }\n",
       "\n",
       "    .dataframe thead th {\n",
       "        text-align: right;\n",
       "    }\n",
       "</style>\n",
       "<table border=\"1\" class=\"dataframe\">\n",
       "  <thead>\n",
       "    <tr style=\"text-align: right;\">\n",
       "      <th></th>\n",
       "      <th>VehicleSearchedIndicator</th>\n",
       "      <th>ContrabandIndicator</th>\n",
       "      <th>Department Name</th>\n",
       "      <th>InterventionDateTime</th>\n",
       "      <th>InterventionLocationName</th>\n",
       "      <th>InterventionReasonCode</th>\n",
       "      <th>ReportingOfficerIdentificationID</th>\n",
       "      <th>ResidentIndicator</th>\n",
       "      <th>SearchAuthorizationCode</th>\n",
       "      <th>StatuteReason</th>\n",
       "      <th>SubjectAge</th>\n",
       "      <th>SubjectEthnicityCode</th>\n",
       "      <th>SubjectRaceCode</th>\n",
       "      <th>SubjectSexCode</th>\n",
       "      <th>TownResidentIndicator</th>\n",
       "      <th>prediction</th>\n",
       "      <th>probability</th>\n",
       "    </tr>\n",
       "  </thead>\n",
       "  <tbody>\n",
       "    <tr>\n",
       "      <td>929115</td>\n",
       "      <td>False</td>\n",
       "      <td>False</td>\n",
       "      <td>Putnam</td>\n",
       "      <td>11/23/2015 03:50:00 PM</td>\n",
       "      <td>Putnam</td>\n",
       "      <td>V</td>\n",
       "      <td>3160</td>\n",
       "      <td>True</td>\n",
       "      <td>O</td>\n",
       "      <td>Seatbelt</td>\n",
       "      <td>62.0</td>\n",
       "      <td>N</td>\n",
       "      <td>W</td>\n",
       "      <td>F</td>\n",
       "      <td>True</td>\n",
       "      <td>1</td>\n",
       "      <td>0.513484</td>\n",
       "    </tr>\n",
       "    <tr>\n",
       "      <td>2265098</td>\n",
       "      <td>False</td>\n",
       "      <td>False</td>\n",
       "      <td>East Windsor</td>\n",
       "      <td>03/12/2018 09:39:00 PM</td>\n",
       "      <td>EAST WINDSOR</td>\n",
       "      <td>V</td>\n",
       "      <td>198</td>\n",
       "      <td>True</td>\n",
       "      <td>N</td>\n",
       "      <td>Moving Violation</td>\n",
       "      <td>33.0</td>\n",
       "      <td>H</td>\n",
       "      <td>W</td>\n",
       "      <td>F</td>\n",
       "      <td>True</td>\n",
       "      <td>0</td>\n",
       "      <td>0.487763</td>\n",
       "    </tr>\n",
       "    <tr>\n",
       "      <td>845485</td>\n",
       "      <td>False</td>\n",
       "      <td>False</td>\n",
       "      <td>West Haven</td>\n",
       "      <td>03/25/2015 02:04:00 PM</td>\n",
       "      <td>West Haven</td>\n",
       "      <td>E</td>\n",
       "      <td>1175</td>\n",
       "      <td>True</td>\n",
       "      <td>N</td>\n",
       "      <td>Defective Lights</td>\n",
       "      <td>41.0</td>\n",
       "      <td>N</td>\n",
       "      <td>W</td>\n",
       "      <td>M</td>\n",
       "      <td>False</td>\n",
       "      <td>0</td>\n",
       "      <td>0.485408</td>\n",
       "    </tr>\n",
       "    <tr>\n",
       "      <td>202820</td>\n",
       "      <td>False</td>\n",
       "      <td>False</td>\n",
       "      <td>Groton Town</td>\n",
       "      <td>02/27/2014 12:00:00 AM</td>\n",
       "      <td>GROTON</td>\n",
       "      <td>V</td>\n",
       "      <td>PSC21911</td>\n",
       "      <td>True</td>\n",
       "      <td>N</td>\n",
       "      <td>Speed Related</td>\n",
       "      <td>32.0</td>\n",
       "      <td>N</td>\n",
       "      <td>B</td>\n",
       "      <td>M</td>\n",
       "      <td>False</td>\n",
       "      <td>0</td>\n",
       "      <td>0.487976</td>\n",
       "    </tr>\n",
       "    <tr>\n",
       "      <td>1496502</td>\n",
       "      <td>False</td>\n",
       "      <td>False</td>\n",
       "      <td>Greenwich</td>\n",
       "      <td>11/30/2016 05:55:00 AM</td>\n",
       "      <td>GREENWICH</td>\n",
       "      <td>V</td>\n",
       "      <td>120000089</td>\n",
       "      <td>True</td>\n",
       "      <td>N</td>\n",
       "      <td>Speed Related</td>\n",
       "      <td>56.0</td>\n",
       "      <td>N</td>\n",
       "      <td>W</td>\n",
       "      <td>M</td>\n",
       "      <td>False</td>\n",
       "      <td>0</td>\n",
       "      <td>0.476801</td>\n",
       "    </tr>\n",
       "  </tbody>\n",
       "</table>\n",
       "</div>"
      ],
      "text/plain": [
       "         VehicleSearchedIndicator  ContrabandIndicator Department Name  \\\n",
       "929115                      False                False          Putnam   \n",
       "2265098                     False                False    East Windsor   \n",
       "845485                      False                False      West Haven   \n",
       "202820                      False                False     Groton Town   \n",
       "1496502                     False                False       Greenwich   \n",
       "\n",
       "           InterventionDateTime InterventionLocationName  \\\n",
       "929115   11/23/2015 03:50:00 PM                   Putnam   \n",
       "2265098  03/12/2018 09:39:00 PM             EAST WINDSOR   \n",
       "845485   03/25/2015 02:04:00 PM               West Haven   \n",
       "202820   02/27/2014 12:00:00 AM                   GROTON   \n",
       "1496502  11/30/2016 05:55:00 AM                GREENWICH   \n",
       "\n",
       "        InterventionReasonCode ReportingOfficerIdentificationID  \\\n",
       "929115                       V                             3160   \n",
       "2265098                      V                              198   \n",
       "845485                       E                             1175   \n",
       "202820                       V                         PSC21911   \n",
       "1496502                      V                        120000089   \n",
       "\n",
       "         ResidentIndicator SearchAuthorizationCode     StatuteReason  \\\n",
       "929115                True                       O          Seatbelt   \n",
       "2265098               True                       N  Moving Violation   \n",
       "845485                True                       N  Defective Lights   \n",
       "202820                True                       N     Speed Related   \n",
       "1496502               True                       N     Speed Related   \n",
       "\n",
       "         SubjectAge SubjectEthnicityCode SubjectRaceCode SubjectSexCode  \\\n",
       "929115         62.0                    N               W              F   \n",
       "2265098        33.0                    H               W              F   \n",
       "845485         41.0                    N               W              M   \n",
       "202820         32.0                    N               B              M   \n",
       "1496502        56.0                    N               W              M   \n",
       "\n",
       "         TownResidentIndicator  prediction  probability  \n",
       "929115                    True           1     0.513484  \n",
       "2265098                   True           0     0.487763  \n",
       "845485                   False           0     0.485408  \n",
       "202820                   False           0     0.487976  \n",
       "1496502                  False           0     0.476801  "
      ]
     },
     "execution_count": 5,
     "metadata": {},
     "output_type": "execute_result"
    }
   ],
   "source": [
    "df_test.head()"
   ]
  },
  {
   "cell_type": "code",
   "execution_count": 6,
   "metadata": {},
   "outputs": [],
   "source": [
    "df_test[\"SubjectAge\"] = df_test[\"SubjectAge\"].apply(clean_age)\n",
    "df_test_without_sac[\"SubjectAge\"] = df_test_without_sac[\"SubjectAge\"].apply(clean_age)\n",
    "df_test_with_sac[\"SubjectAge\"] = df_test_with_sac[\"SubjectAge\"].apply(clean_age)"
   ]
  },
  {
   "cell_type": "code",
   "execution_count": 7,
   "metadata": {},
   "outputs": [],
   "source": [
    "df_test[\"prediction\"] = df_test.prediction.apply(map_prediction)\n",
    "df_test_without_sac[\"prediction\"] = df_test_without_sac.prediction.apply(map_prediction)\n",
    "df_test_with_sac[\"prediction\"] = df_test_with_sac.prediction.apply(map_prediction)"
   ]
  },
  {
   "cell_type": "code",
   "execution_count": 8,
   "metadata": {},
   "outputs": [
    {
     "data": {
      "text/html": [
       "<div>\n",
       "<style scoped>\n",
       "    .dataframe tbody tr th:only-of-type {\n",
       "        vertical-align: middle;\n",
       "    }\n",
       "\n",
       "    .dataframe tbody tr th {\n",
       "        vertical-align: top;\n",
       "    }\n",
       "\n",
       "    .dataframe thead th {\n",
       "        text-align: right;\n",
       "    }\n",
       "</style>\n",
       "<table border=\"1\" class=\"dataframe\">\n",
       "  <thead>\n",
       "    <tr style=\"text-align: right;\">\n",
       "      <th></th>\n",
       "      <th>VehicleSearchedIndicator</th>\n",
       "      <th>ContrabandIndicator</th>\n",
       "      <th>Department Name</th>\n",
       "      <th>InterventionDateTime</th>\n",
       "      <th>InterventionLocationName</th>\n",
       "      <th>InterventionReasonCode</th>\n",
       "      <th>ReportingOfficerIdentificationID</th>\n",
       "      <th>ResidentIndicator</th>\n",
       "      <th>SearchAuthorizationCode</th>\n",
       "      <th>StatuteReason</th>\n",
       "      <th>SubjectAge</th>\n",
       "      <th>SubjectEthnicityCode</th>\n",
       "      <th>SubjectRaceCode</th>\n",
       "      <th>SubjectSexCode</th>\n",
       "      <th>TownResidentIndicator</th>\n",
       "      <th>prediction</th>\n",
       "      <th>probability</th>\n",
       "    </tr>\n",
       "  </thead>\n",
       "  <tbody>\n",
       "    <tr>\n",
       "      <td>929115</td>\n",
       "      <td>False</td>\n",
       "      <td>False</td>\n",
       "      <td>Putnam</td>\n",
       "      <td>11/23/2015 03:50:00 PM</td>\n",
       "      <td>Putnam</td>\n",
       "      <td>V</td>\n",
       "      <td>3160</td>\n",
       "      <td>True</td>\n",
       "      <td>O</td>\n",
       "      <td>Seatbelt</td>\n",
       "      <td>Senior</td>\n",
       "      <td>N</td>\n",
       "      <td>W</td>\n",
       "      <td>F</td>\n",
       "      <td>True</td>\n",
       "      <td>True</td>\n",
       "      <td>0.513484</td>\n",
       "    </tr>\n",
       "    <tr>\n",
       "      <td>2265098</td>\n",
       "      <td>False</td>\n",
       "      <td>False</td>\n",
       "      <td>East Windsor</td>\n",
       "      <td>03/12/2018 09:39:00 PM</td>\n",
       "      <td>EAST WINDSOR</td>\n",
       "      <td>V</td>\n",
       "      <td>198</td>\n",
       "      <td>True</td>\n",
       "      <td>N</td>\n",
       "      <td>Moving Violation</td>\n",
       "      <td>Young Adult</td>\n",
       "      <td>H</td>\n",
       "      <td>W</td>\n",
       "      <td>F</td>\n",
       "      <td>True</td>\n",
       "      <td>False</td>\n",
       "      <td>0.487763</td>\n",
       "    </tr>\n",
       "    <tr>\n",
       "      <td>845485</td>\n",
       "      <td>False</td>\n",
       "      <td>False</td>\n",
       "      <td>West Haven</td>\n",
       "      <td>03/25/2015 02:04:00 PM</td>\n",
       "      <td>West Haven</td>\n",
       "      <td>E</td>\n",
       "      <td>1175</td>\n",
       "      <td>True</td>\n",
       "      <td>N</td>\n",
       "      <td>Defective Lights</td>\n",
       "      <td>Adult</td>\n",
       "      <td>N</td>\n",
       "      <td>W</td>\n",
       "      <td>M</td>\n",
       "      <td>False</td>\n",
       "      <td>False</td>\n",
       "      <td>0.485408</td>\n",
       "    </tr>\n",
       "    <tr>\n",
       "      <td>202820</td>\n",
       "      <td>False</td>\n",
       "      <td>False</td>\n",
       "      <td>Groton Town</td>\n",
       "      <td>02/27/2014 12:00:00 AM</td>\n",
       "      <td>GROTON</td>\n",
       "      <td>V</td>\n",
       "      <td>PSC21911</td>\n",
       "      <td>True</td>\n",
       "      <td>N</td>\n",
       "      <td>Speed Related</td>\n",
       "      <td>Young Adult</td>\n",
       "      <td>N</td>\n",
       "      <td>B</td>\n",
       "      <td>M</td>\n",
       "      <td>False</td>\n",
       "      <td>False</td>\n",
       "      <td>0.487976</td>\n",
       "    </tr>\n",
       "    <tr>\n",
       "      <td>1496502</td>\n",
       "      <td>False</td>\n",
       "      <td>False</td>\n",
       "      <td>Greenwich</td>\n",
       "      <td>11/30/2016 05:55:00 AM</td>\n",
       "      <td>GREENWICH</td>\n",
       "      <td>V</td>\n",
       "      <td>120000089</td>\n",
       "      <td>True</td>\n",
       "      <td>N</td>\n",
       "      <td>Speed Related</td>\n",
       "      <td>Senior</td>\n",
       "      <td>N</td>\n",
       "      <td>W</td>\n",
       "      <td>M</td>\n",
       "      <td>False</td>\n",
       "      <td>False</td>\n",
       "      <td>0.476801</td>\n",
       "    </tr>\n",
       "  </tbody>\n",
       "</table>\n",
       "</div>"
      ],
      "text/plain": [
       "         VehicleSearchedIndicator  ContrabandIndicator Department Name  \\\n",
       "929115                      False                False          Putnam   \n",
       "2265098                     False                False    East Windsor   \n",
       "845485                      False                False      West Haven   \n",
       "202820                      False                False     Groton Town   \n",
       "1496502                     False                False       Greenwich   \n",
       "\n",
       "           InterventionDateTime InterventionLocationName  \\\n",
       "929115   11/23/2015 03:50:00 PM                   Putnam   \n",
       "2265098  03/12/2018 09:39:00 PM             EAST WINDSOR   \n",
       "845485   03/25/2015 02:04:00 PM               West Haven   \n",
       "202820   02/27/2014 12:00:00 AM                   GROTON   \n",
       "1496502  11/30/2016 05:55:00 AM                GREENWICH   \n",
       "\n",
       "        InterventionReasonCode ReportingOfficerIdentificationID  \\\n",
       "929115                       V                             3160   \n",
       "2265098                      V                              198   \n",
       "845485                       E                             1175   \n",
       "202820                       V                         PSC21911   \n",
       "1496502                      V                        120000089   \n",
       "\n",
       "         ResidentIndicator SearchAuthorizationCode     StatuteReason  \\\n",
       "929115                True                       O          Seatbelt   \n",
       "2265098               True                       N  Moving Violation   \n",
       "845485                True                       N  Defective Lights   \n",
       "202820                True                       N     Speed Related   \n",
       "1496502               True                       N     Speed Related   \n",
       "\n",
       "          SubjectAge SubjectEthnicityCode SubjectRaceCode SubjectSexCode  \\\n",
       "929115        Senior                    N               W              F   \n",
       "2265098  Young Adult                    H               W              F   \n",
       "845485         Adult                    N               W              M   \n",
       "202820   Young Adult                    N               B              M   \n",
       "1496502       Senior                    N               W              M   \n",
       "\n",
       "         TownResidentIndicator  prediction  probability  \n",
       "929115                    True        True     0.513484  \n",
       "2265098                   True       False     0.487763  \n",
       "845485                   False       False     0.485408  \n",
       "202820                   False       False     0.487976  \n",
       "1496502                  False       False     0.476801  "
      ]
     },
     "execution_count": 8,
     "metadata": {},
     "output_type": "execute_result"
    }
   ],
   "source": [
    "df_test.head()"
   ]
  },
  {
   "cell_type": "code",
   "execution_count": 9,
   "metadata": {},
   "outputs": [],
   "source": [
    "def percentage_of_false_positives_pred(group, threshold=0):\n",
    "    false_positives = group[(group.prediction == True) & (group.ContrabandIndicator == False)].shape[0]\n",
    "    n_vehicle_searched = group[(group.prediction == True)].shape[0]\n",
    "    if n_vehicle_searched > threshold:\n",
    "        return 100*false_positives/n_vehicle_searched\n",
    "    else:\n",
    "        return None"
   ]
  },
  {
   "cell_type": "code",
   "execution_count": 10,
   "metadata": {},
   "outputs": [],
   "source": [
    "def percentage_of_true_positives_pred(group, threshold=0):\n",
    "    true_positives = group[(group.prediction == True) & (group.ContrabandIndicator == True)].shape[0]\n",
    "    n_vehicle_searched = group[(group.prediction == True)].shape[0]\n",
    "    if n_vehicle_searched > threshold:\n",
    "        return 100*true_positives/n_vehicle_searched\n",
    "    else:\n",
    "        return None"
   ]
  },
  {
   "cell_type": "code",
   "execution_count": 11,
   "metadata": {},
   "outputs": [],
   "source": [
    "def percentage_of_false_positives_vsi(group, threshold=0):\n",
    "    false_positives = group[(group.VehicleSearchedIndicator == True) & (group.ContrabandIndicator == False)].shape[0]\n",
    "    n_vehicle_searched = group[(group.VehicleSearchedIndicator == True)].shape[0]\n",
    "    if n_vehicle_searched > threshold:\n",
    "        return 100*false_positives/n_vehicle_searched\n",
    "    else:\n",
    "        return None"
   ]
  },
  {
   "cell_type": "code",
   "execution_count": 12,
   "metadata": {},
   "outputs": [],
   "source": [
    "def percentage_of_true_positives_vsi(group, threshold=0):\n",
    "    true_positives = group[(group.VehicleSearchedIndicator == True) & (group.ContrabandIndicator == True)].shape[0]\n",
    "    n_vehicle_searched = group[(group.VehicleSearchedIndicator == True)].shape[0]\n",
    "    if n_vehicle_searched > threshold:\n",
    "        return 100*true_positives/n_vehicle_searched\n",
    "    else:\n",
    "        return None"
   ]
  },
  {
   "cell_type": "code",
   "execution_count": 13,
   "metadata": {},
   "outputs": [],
   "source": [
    "def evaluate_bias(row):\n",
    "    row_ = copy.copy(row)\n",
    "    n_nulls = len(row[pd.isna(row)])\n",
    "    len_row = len(row)\n",
    "    n_not_nulls = len_row - n_nulls\n",
    "    row_ = row_.dropna()\n",
    "    if n_not_nulls > 1:\n",
    "        return max(row_) - min(row_)\n",
    "    else:\n",
    "        None  "
   ]
  },
  {
   "cell_type": "code",
   "execution_count": 14,
   "metadata": {},
   "outputs": [],
   "source": [
    "def diffs(row):\n",
    "    row_ = copy.copy(row)\n",
    "    n_nulls = len(row[pd.isna(row)])\n",
    "    len_row = len(row)\n",
    "    n_not_nulls = len_row - n_nulls\n",
    "    row_ = row_.dropna()\n",
    "    array = row_.values\n",
    "    if n_not_nulls > 1:\n",
    "        diff = []\n",
    "        for i in range(0, len(array)-1):\n",
    "            for j in range(i+1, len(array)):\n",
    "                diff.append(abs(array[i]-array[j]))\n",
    "        return diff\n",
    "    else:\n",
    "        return None  "
   ]
  },
  {
   "cell_type": "code",
   "execution_count": 15,
   "metadata": {},
   "outputs": [],
   "source": [
    "def evaluate_bias_by_group(df, group, threshold=100, prediction=False):\n",
    "    if prediction == False:\n",
    "        police_src = df.groupby(by=group).apply(lambda x: percentage_of_true_positives_vsi(x, threshold))\n",
    "    else:\n",
    "        police_src = df.groupby(by=group).apply(lambda x: percentage_of_true_positives_pred(x, threshold))\n",
    "    result = police_src.unstack(level=[1,2,3,4])\n",
    "    result[\"Max Diff\"] = result.apply(evaluate_bias, axis=1)\n",
    "    result = result.sort_values(by=\"Max Diff\", ascending=False)\n",
    "    result[\"Diff\"] = result.drop(columns=\"Max Diff\").apply(diffs, axis=1)\n",
    "    result = result[(pd.isna(result[\"Max Diff\"])!=True)]\n",
    "    return result"
   ]
  },
  {
   "cell_type": "code",
   "execution_count": 16,
   "metadata": {},
   "outputs": [
    {
     "name": "stdout",
     "output_type": "stream",
     "text": [
      "treshold: 0; power: 1\n"
     ]
    },
    {
     "name": "stderr",
     "output_type": "stream",
     "text": [
      "/home/ines/anaconda3/lib/python3.7/site-packages/pandas/core/generic.py:3946: PerformanceWarning: dropping on a non-lexsorted multi-index without a level parameter may impact performance.\n",
      "  new_axis = axis.drop(labels, errors=errors)\n"
     ]
    },
    {
     "name": "stdout",
     "output_type": "stream",
     "text": [
      "2.796828356321882 2.9273315881519495 2.0 5025\n",
      "treshold: 0; power: 2\n",
      "2.756566307859721 2.9370450669388215 1.938017226819794 5203\n",
      "treshold: 20; power: 1\n",
      "7.282136995173886 7.2581403150575285 5.092592592592595 228\n",
      "treshold: 20; power: 2\n",
      "7.253264265763864 7.218656836293477 5.0 232\n",
      "treshold: 70; power: 1\n",
      "6.799150706034234 7.0063106574022065 4.710516639088065 269\n",
      "treshold: 70; power: 2\n",
      "7.003789197533934 7.295938512484921 4.723029715762275 253\n"
     ]
    }
   ],
   "source": [
    "array_difs = {}\n",
    "for treshold in [0, 20, 70]:\n",
    "    for power in [1, 2]:\n",
    "        print(\"treshold: \" + str(treshold) + \"; power: \" + str(power))\n",
    "        df = pd.read_csv(\"resources/df_test_with_prediction_with_sac_regularization_\" + str(treshold) + \"_\" + str(power) + \".csv\")\n",
    "        df[\"SubjectAge\"] = df[\"SubjectAge\"].apply(clean_age)\n",
    "        df[\"prediction\"] = df.prediction.apply(map_prediction)\n",
    "        bias_analysis_pred = evaluate_bias_by_group(df=df, group=[\"Department Name\", \"SubjectRaceCode\", \"SubjectEthnicityCode\", \"SubjectAge\",\"SubjectSexCode\"], threshold=20, prediction=True)\n",
    "        bias_analysis_pred_diff_array = [item for sublist in bias_analysis_pred[\"Diff\"].values for item in sublist]\n",
    "        print(np.mean(bias_analysis_pred_diff_array), np.std(bias_analysis_pred_diff_array), np.median(bias_analysis_pred_diff_array), len(np.array(bias_analysis_pred_diff_array)[np.array(bias_analysis_pred_diff_array)<=5]))\n",
    "        array_difs[str(treshold) + \"_\" + str(power)] = bias_analysis_pred_diff_array"
   ]
  },
  {
   "cell_type": "code",
   "execution_count": 17,
   "metadata": {},
   "outputs": [
    {
     "name": "stdout",
     "output_type": "stream",
     "text": [
      "treshold: 0; power: 1\n",
      "7.412511101138348 7.23681573482304 5.363984674329501 223\n",
      "treshold: 0; power: 2\n",
      "7.419143042164777 7.266527757362948 5.396990140114166 221\n",
      "treshold: 20; power: 1\n",
      "7.993072592970619 6.698002698200873 6.437346437346437 227\n",
      "treshold: 20; power: 2\n",
      "8.106092431435817 6.925924080272416 6.513720001166419 247\n",
      "treshold: 70; power: 1\n",
      "5.8489399473763966 5.7186336202742405 4.3478260869565215 972\n",
      "treshold: 70; power: 2\n",
      "6.100748248560805 5.765616857625777 4.486401279879541 824\n"
     ]
    }
   ],
   "source": [
    "array_difs = {}\n",
    "for treshold in [0, 20, 70]:\n",
    "    for power in [1, 2]:\n",
    "        print(\"treshold: \" + str(treshold) + \"; power: \" + str(power))\n",
    "        df = pd.read_csv(\"resources/df_test_with_prediction_with_sac_regularization_precision_\" + str(treshold) + \"_\" + str(power) + \".csv\")\n",
    "        df[\"SubjectAge\"] = df[\"SubjectAge\"].apply(clean_age)\n",
    "        df[\"prediction\"] = df.prediction.apply(map_prediction)\n",
    "        bias_analysis_pred = evaluate_bias_by_group(df=df, group=[\"Department Name\", \"SubjectRaceCode\", \"SubjectEthnicityCode\", \"SubjectAge\",\"SubjectSexCode\"], threshold=20, prediction=True)\n",
    "        bias_analysis_pred_diff_array = [item for sublist in bias_analysis_pred[\"Diff\"].values for item in sublist]\n",
    "        print(np.mean(bias_analysis_pred_diff_array), np.std(bias_analysis_pred_diff_array), np.median(bias_analysis_pred_diff_array), len(np.array(bias_analysis_pred_diff_array)[np.array(bias_analysis_pred_diff_array)<=5]))\n",
    "        array_difs[str(treshold) + \"_\" + str(power)] = bias_analysis_pred_diff_array"
   ]
  },
  {
   "cell_type": "markdown",
   "metadata": {},
   "source": [
    "## Real Values Diff Calculation"
   ]
  },
  {
   "cell_type": "code",
   "execution_count": 18,
   "metadata": {},
   "outputs": [],
   "source": [
    "bias_analysis_real = evaluate_bias_by_group(df=df_test, group=[\"Department Name\", \"SubjectRaceCode\", \"SubjectEthnicityCode\", \"SubjectAge\",\"SubjectSexCode\"], threshold=20)"
   ]
  },
  {
   "cell_type": "code",
   "execution_count": 19,
   "metadata": {},
   "outputs": [],
   "source": [
    "bias_analysis_real_diff_array = [item for sublist in bias_analysis_real[\"Diff\"].values for item in sublist]"
   ]
  },
  {
   "cell_type": "code",
   "execution_count": 20,
   "metadata": {},
   "outputs": [
    {
     "data": {
      "text/plain": [
       "(10.435923784426116, 7.626521794338053, 8.695652173913043, 80)"
      ]
     },
     "execution_count": 20,
     "metadata": {},
     "output_type": "execute_result"
    }
   ],
   "source": [
    "np.mean(bias_analysis_real_diff_array), np.std(bias_analysis_real_diff_array), np.median(bias_analysis_real_diff_array), len(np.array(bias_analysis_real_diff_array)[np.array(bias_analysis_real_diff_array)<=5])"
   ]
  },
  {
   "cell_type": "markdown",
   "metadata": {},
   "source": [
    "## Predicted Values Diff Calculation"
   ]
  },
  {
   "cell_type": "code",
   "execution_count": 21,
   "metadata": {},
   "outputs": [],
   "source": [
    "bias_analysis_pred = evaluate_bias_by_group(df=df_test, group=[\"Department Name\", \"SubjectRaceCode\", \"SubjectEthnicityCode\", \"SubjectAge\",\"SubjectSexCode\"], threshold=20,  prediction=True)"
   ]
  },
  {
   "cell_type": "code",
   "execution_count": 22,
   "metadata": {},
   "outputs": [],
   "source": [
    "bias_analysis_pred_diff_array = [item for sublist in bias_analysis_pred[\"Diff\"].values for item in sublist]"
   ]
  },
  {
   "cell_type": "code",
   "execution_count": 23,
   "metadata": {},
   "outputs": [
    {
     "data": {
      "text/plain": [
       "(6.565918388543074, 7.18549136632755, 4.136119257087, 289)"
      ]
     },
     "execution_count": 23,
     "metadata": {},
     "output_type": "execute_result"
    }
   ],
   "source": [
    "np.mean(bias_analysis_pred_diff_array), np.std(bias_analysis_pred_diff_array), np.median(bias_analysis_pred_diff_array), len(np.array(bias_analysis_pred_diff_array)[np.array(bias_analysis_pred_diff_array)<=5])"
   ]
  },
  {
   "cell_type": "markdown",
   "metadata": {},
   "source": [
    "## Predicted Without SearchAutorizationCode Values - Diff Calculation"
   ]
  },
  {
   "cell_type": "code",
   "execution_count": 24,
   "metadata": {},
   "outputs": [],
   "source": [
    "#bias_analysis_pred_wht_sac = evaluate_bias_by_group(df=df_test_without_sac, group=[\"SubjectRaceCode\", \"SubjectEthnicityCode\", \"SubjectAge\",\"SubjectSexCode\"], threshold=0, prediction=True)\n",
    "bias_analysis_pred_whtout_sac = evaluate_bias_by_group(df=df_test_without_sac, group=[\"Department Name\", \"SubjectRaceCode\", \"SubjectEthnicityCode\", \"SubjectAge\",\"SubjectSexCode\"], threshold=20, prediction=True)"
   ]
  },
  {
   "cell_type": "code",
   "execution_count": 25,
   "metadata": {},
   "outputs": [],
   "source": [
    "diffs_pred_whtout_sac =  [item for sublist in bias_analysis_pred_whtout_sac[\"Diff\"].values for item in sublist]"
   ]
  },
  {
   "cell_type": "code",
   "execution_count": 26,
   "metadata": {},
   "outputs": [
    {
     "data": {
      "text/plain": [
       "(2.6503548622934447, 2.8603017372760355, 5457)"
      ]
     },
     "execution_count": 26,
     "metadata": {},
     "output_type": "execute_result"
    }
   ],
   "source": [
    "np.mean(diffs_pred_whtout_sac), np.std(diffs_pred_whtout_sac), len(np.array(diffs_pred_whtout_sac)[ np.array(diffs_pred_whtout_sac)<=5])"
   ]
  },
  {
   "cell_type": "markdown",
   "metadata": {},
   "source": [
    "## Final Hist"
   ]
  },
  {
   "cell_type": "code",
   "execution_count": 27,
   "metadata": {},
   "outputs": [
    {
     "data": {
      "text/plain": [
       "Text(0, 0.5, 'Count')"
      ]
     },
     "execution_count": 27,
     "metadata": {},
     "output_type": "execute_result"
    },
    {
     "data": {
      "image/png": "[encoded data removed]",
      "text/plain": [
       "<Figure size 1080x540 with 1 Axes>"
      ]
     },
     "metadata": {
      "needs_background": "light"
     },
     "output_type": "display_data"
    }
   ],
   "source": [
    "colors = ['blue', 'red']\n",
    "plt.figure(figsize=(15,7.5))\n",
    "plt.hist([bias_analysis_real_diff_array, bias_analysis_pred_diff_array], 7, density=True, histtype='bar', color=colors, label=[\"Real\", \"Predition\"])\n",
    "plt.legend(prop={'size': 15})\n",
    "plt.xlabel(\"Diff\")\n",
    "plt.ylabel(\"Count\")"
   ]
  },
  {
   "cell_type": "code",
   "execution_count": 28,
   "metadata": {},
   "outputs": [
    {
     "data": {
      "text/plain": [
       "Text(0, 0.5, 'Count')"
      ]
     },
     "execution_count": 28,
     "metadata": {},
     "output_type": "execute_result"
    },
    {
     "data": {
      "image/png": "[encoded data removed]",
      "text/plain": [
       "<Figure size 1080x540 with 1 Axes>"
      ]
     },
     "metadata": {
      "needs_background": "light"
     },
     "output_type": "display_data"
    }
   ],
   "source": [
    "colors = ['blue', 'red']\n",
    "plt.figure(figsize=(15,7.5))\n",
    "plt.hist([bias_analysis_pred_diff_array, diffs_pred_whtout_sac], 7, density=True, histtype='bar', color=colors, label=[\"Predition\", \"Predition Without SAC\" ])\n",
    "plt.legend(prop={'size': 15})\n",
    "plt.xlabel(\"Diff\")\n",
    "plt.ylabel(\"Count\")"
   ]
  },
  {
   "cell_type": "markdown",
   "metadata": {},
   "source": [
    "## Roc Curve"
   ]
  },
  {
   "cell_type": "markdown",
   "metadata": {},
   "source": [
    "source: https://machinelearningmastery.com/roc-curves-and-precision-recall-curves-for-classification-in-python/"
   ]
  },
  {
   "cell_type": "code",
   "execution_count": 29,
   "metadata": {},
   "outputs": [],
   "source": [
    "def encoding_target(value):\n",
    "    if value == True:\n",
    "        return 1\n",
    "    else:\n",
    "        return 0"
   ]
  },
  {
   "cell_type": "code",
   "execution_count": 30,
   "metadata": {},
   "outputs": [],
   "source": [
    "def percentage(value):\n",
    "    return (1-value, value)"
   ]
  },
  {
   "cell_type": "code",
   "execution_count": 31,
   "metadata": {},
   "outputs": [
    {
     "data": {
      "text/plain": [
       "array([0, 0, 0, ..., 0, 0, 0])"
      ]
     },
     "execution_count": 31,
     "metadata": {},
     "output_type": "execute_result"
    }
   ],
   "source": [
    "y = df_test.ContrabandIndicator.apply(encoding_target).values\n",
    "y"
   ]
  },
  {
   "cell_type": "code",
   "execution_count": 32,
   "metadata": {},
   "outputs": [
    {
     "data": {
      "text/plain": [
       "array([0.51348416, 0.48776293, 0.48540796, ..., 0.48707815, 0.48776293,\n",
       "       0.47503917])"
      ]
     },
     "execution_count": 32,
     "metadata": {},
     "output_type": "execute_result"
    }
   ],
   "source": [
    "lr_probs = df_test.probability.values\n",
    "lr_probs"
   ]
  },
  {
   "cell_type": "code",
   "execution_count": 33,
   "metadata": {},
   "outputs": [],
   "source": [
    "# generate a no skill prediction (majority class)\n",
    "ns_probs = [0 for _ in range(len(y))]"
   ]
  },
  {
   "cell_type": "code",
   "execution_count": 34,
   "metadata": {},
   "outputs": [],
   "source": [
    "ns_fpr, ns_tpr, _ = roc_curve(y, ns_probs)\n",
    "lr_fpr, lr_tpr, _ = roc_curve(y, lr_probs)"
   ]
  },
  {
   "cell_type": "code",
   "execution_count": 35,
   "metadata": {},
   "outputs": [
    {
     "data": {
      "image/png": "[encoded data removed]",
      "text/plain": [
       "<Figure size 540x540 with 1 Axes>"
      ]
     },
     "metadata": {
      "needs_background": "light"
     },
     "output_type": "display_data"
    }
   ],
   "source": [
    "plt.figure(figsize=(7.5,7.5))\n",
    "plt.plot(ns_fpr, ns_tpr, linestyle='--', label='Baseline')\n",
    "plt.plot(lr_fpr, lr_tpr, marker='.', label='AdaBoost')\n",
    "# axis labels\n",
    "plt.xlabel('False Positive Rate')\n",
    "plt.ylabel('True Positive Rate')\n",
    "# show the legend\n",
    "plt.legend()\n",
    "# show the plot\n",
    "plt.show()"
   ]
  },
  {
   "cell_type": "code",
   "execution_count": 36,
   "metadata": {},
   "outputs": [
    {
     "data": {
      "text/plain": [
       "(0.5, 0.9664553601938929)"
      ]
     },
     "execution_count": 36,
     "metadata": {},
     "output_type": "execute_result"
    }
   ],
   "source": [
    "ns_auc = roc_auc_score(y, ns_probs)\n",
    "lr_auc = roc_auc_score(y, lr_probs)\n",
    "ns_auc, lr_auc"
   ]
  },
  {
   "cell_type": "code",
   "execution_count": null,
   "metadata": {},
   "outputs": [],
   "source": []
  }
 ],
 "metadata": {
  "kernelspec": {
   "display_name": "Python 3",
   "language": "python",
   "name": "python3"
  },
  "language_info": {
   "codemirror_mode": {
    "name": "ipython",
    "version": 3
   },
   "file_extension": ".py",
   "mimetype": "text/x-python",
   "name": "python",
   "nbconvert_exporter": "python",
   "pygments_lexer": "ipython3",
   "version": "3.7.4"
  }
 },
 "nbformat": 4,
 "nbformat_minor": 2
}
